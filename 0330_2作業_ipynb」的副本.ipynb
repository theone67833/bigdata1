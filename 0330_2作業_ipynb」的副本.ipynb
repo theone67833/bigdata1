{
  "nbformat": 4,
  "nbformat_minor": 0,
  "metadata": {
    "colab": {
      "name": "0330-2作業.ipynb」的副本",
      "provenance": [],
      "collapsed_sections": [],
      "include_colab_link": true
    },
    "kernelspec": {
      "name": "ir",
      "display_name": "R"
    }
  },
  "cells": [
    {
      "cell_type": "markdown",
      "metadata": {
        "id": "view-in-github",
        "colab_type": "text"
      },
      "source": [
        "<a href=\"https://colab.research.google.com/github/theone67833/bigdata1/blob/main/0330_2%E4%BD%9C%E6%A5%AD_ipynb%E3%80%8D%E7%9A%84%E5%89%AF%E6%9C%AC.ipynb\" target=\"_parent\"><img src=\"https://colab.research.google.com/assets/colab-badge.svg\" alt=\"Open In Colab\"/></a>"
      ]
    },
    {
      "cell_type": "code",
      "metadata": {
        "colab": {
          "base_uri": "https://localhost:8080/"
        },
        "id": "udH_HFwm_-O6",
        "outputId": "b12d30a7-6a20-40fb-a25f-d14e10788be5"
      },
      "source": [
        "install.packages(\"rJava\")\n",
        "install.packages(\"jiebaR\")\n",
        "install.packages(\"tmcn\")\n",
        "install.packages(\"dplyr\")\n",
        "install.packages(\"lubridate\")\n",
        "install.packages(\"stringr\")\n",
        "install.packages(\"wordcloud\")\n",
        "install.packages(\"Rwordseg\" , repos = \"http://R-Forge.R-project.org\")"
      ],
      "execution_count": 2,
      "outputs": [
        {
          "output_type": "stream",
          "text": [
            "Installing package into ‘/usr/local/lib/R/site-library’\n",
            "(as ‘lib’ is unspecified)\n",
            "\n",
            "Installing package into ‘/usr/local/lib/R/site-library’\n",
            "(as ‘lib’ is unspecified)\n",
            "\n",
            "also installing the dependency ‘jiebaRD’\n",
            "\n",
            "\n",
            "Installing package into ‘/usr/local/lib/R/site-library’\n",
            "(as ‘lib’ is unspecified)\n",
            "\n",
            "Installing package into ‘/usr/local/lib/R/site-library’\n",
            "(as ‘lib’ is unspecified)\n",
            "\n",
            "Installing package into ‘/usr/local/lib/R/site-library’\n",
            "(as ‘lib’ is unspecified)\n",
            "\n",
            "Installing package into ‘/usr/local/lib/R/site-library’\n",
            "(as ‘lib’ is unspecified)\n",
            "\n",
            "Installing package into ‘/usr/local/lib/R/site-library’\n",
            "(as ‘lib’ is unspecified)\n",
            "\n",
            "Installing package into ‘/usr/local/lib/R/site-library’\n",
            "(as ‘lib’ is unspecified)\n",
            "\n",
            "Warning message:\n",
            "“dependency ‘HMM’ is not available”\n",
            "Warning message in install.packages(\"Rwordseg\", repos = \"http://R-Forge.R-project.org\"):\n",
            "“installation of package ‘Rwordseg’ had non-zero exit status”\n"
          ],
          "name": "stderr"
        }
      ]
    },
    {
      "cell_type": "code",
      "metadata": {
        "id": "CjyG4RHkoHB8"
      },
      "source": [
        ""
      ],
      "execution_count": null,
      "outputs": []
    },
    {
      "cell_type": "code",
      "metadata": {
        "id": "0njodwmkoHRr"
      },
      "source": [
        ""
      ],
      "execution_count": null,
      "outputs": []
    },
    {
      "cell_type": "code",
      "metadata": {
        "colab": {
          "base_uri": "https://localhost:8080/"
        },
        "id": "miPza7QSANuI",
        "outputId": "0d0e47b2-ecb8-4647-ef0e-6f3ad29ed203"
      },
      "source": [
        "library(dplyr)\n",
        "library(lubridate)\n",
        "library(stringr)\n",
        "library(jiebaR)\n",
        "library(wordcloud)"
      ],
      "execution_count": 3,
      "outputs": [
        {
          "output_type": "stream",
          "text": [
            "\n",
            "Attaching package: ‘dplyr’\n",
            "\n",
            "\n",
            "The following objects are masked from ‘package:stats’:\n",
            "\n",
            "    filter, lag\n",
            "\n",
            "\n",
            "The following objects are masked from ‘package:base’:\n",
            "\n",
            "    intersect, setdiff, setequal, union\n",
            "\n",
            "\n",
            "Warning message in system(\"timedatectl\", intern = TRUE):\n",
            "“running command 'timedatectl' had status 1”\n",
            "\n",
            "Attaching package: ‘lubridate’\n",
            "\n",
            "\n",
            "The following objects are masked from ‘package:base’:\n",
            "\n",
            "    date, intersect, setdiff, union\n",
            "\n",
            "\n",
            "Loading required package: jiebaRD\n",
            "\n",
            "Loading required package: RColorBrewer\n",
            "\n"
          ],
          "name": "stderr"
        }
      ]
    },
    {
      "cell_type": "code",
      "metadata": {
        "id": "G94-xpWgAYx_"
      },
      "source": [
        "content <- \"一艘隸屬於長榮海運的貨櫃輪傳出23日在蘇伊士運河上，疑似因為轉彎時擱淺，造成河道雙向交通受阻，埃及當局已經派遣拖船、大型機械協助長榮貨櫃輪脫困。外媒報導指，這艘由台灣長榮海運的貨船「Ever Given」在巴拿馬註冊，早前從台北出發途經馬來西亞，預計在3月31日，抵達荷蘭阿姆斯特丹。然而，船隻追蹤網站「VesselFinder」顯示，貨櫃輪在23日擱淺在蘇伊士運河，導致運河雙向交通封鎖了幾個小時。數據研究員在推特上貼出長榮貨櫃輪在運河上擱淺的觀測數據。（圖／翻攝自Twitter）數據研究員在推特上貼出長榮貨櫃輪在運河上擱淺的觀測數據。（圖／翻攝自Twitter）受到長榮貨櫃輪擱淺的影響，蘇伊士運河兩端有大批的船隻滯留。（圖／翻攝自VesselFinder）另一艘登記於美國的貨船Maersk Denver號，在河面上拍下擱淺的Ever Given，並指出，埃及當局派出了拖船以及挖土機協助Ever Given脫困。Maersk Denver號的船員柯納（Julianne Cona）在Instagram寫道「希望不會花費太多時間，但看起來船隻被卡的死死的。他們（埃及）之前派出了拖船試圖拉起來，但現在有一輛小挖土機在船頭附近工作。」柯納還補充道，Ever Give擱淺時，後面的船隻緊急停下，差點與Maersk Denver號相撞，讓她驚呼「真是刺激的一天。」外媒報導指，蘇伊士運河是世界上最忙碌的水道之一，但受到去年新冠肺炎（COVID-19）疫情影響，收入下降3%至56.1億美元，埃及總統阿卜杜勒-法塔赫・塞西 （Abdel Fattah Al-Sisi）先前宣布要整修這條擁有數百年歷史的運河。\""
      ],
      "execution_count": 4,
      "outputs": []
    },
    {
      "cell_type": "code",
      "metadata": {
        "colab": {
          "base_uri": "https://localhost:8080/",
          "height": 102
        },
        "id": "dTcG10SLBil3",
        "outputId": "13e72340-d2cb-49b5-bc7d-44f5cd83457c"
      },
      "source": [
        "content"
      ],
      "execution_count": 5,
      "outputs": [
        {
          "output_type": "display_data",
          "data": {
            "text/plain": [
              "[1] \"一艘隸屬於長榮海運的貨櫃輪傳出23日在蘇伊士運河上，疑似因為轉彎時擱淺，造成河道雙向交通受阻，埃及當局已經派遣拖船、大型機械協助長榮貨櫃輪脫困。外媒報導指，這艘由台灣長榮海運的貨船「Ever Given」在巴拿馬註冊，早前從台北出發途經馬來西亞，預計在3月31日，抵達荷蘭阿姆斯特丹。然而，船隻追蹤網站「VesselFinder」顯示，貨櫃輪在23日擱淺在蘇伊士運河，導致運河雙向交通封鎖了幾個小時。數據研究員在推特上貼出長榮貨櫃輪在運河上擱淺的觀測數據。（圖／翻攝自Twitter）數據研究員在推特上貼出長榮貨櫃輪在運河上擱淺的觀測數據。（圖／翻攝自Twitter）受到長榮貨櫃輪擱淺的影響，蘇伊士運河兩端有大批的船隻滯留。（圖／翻攝自VesselFinder）另一艘登記於美國的貨船Maersk Denver號，在河面上拍下擱淺的Ever Given，並指出，埃及當局派出了拖船以及挖土機協助Ever Given脫困。Maersk Denver號的船員柯納（Julianne Cona）在Instagram寫道「希望不會花費太多時間，但看起來船隻被卡的死死的。他們（埃及）之前派出了拖船試圖拉起來，但現在有一輛小挖土機在船頭附近工作。」柯納還補充道，Ever Give擱淺時，後面的船隻緊急停下，差點與Maersk Denver號相撞，讓她驚呼「真是刺激的一天。」外媒報導指，蘇伊士運河是世界上最忙碌的水道之一，但受到去年新冠肺炎（COVID-19）疫情影響，收入下降3%至56.1億美元，埃及總統阿卜杜勒-法塔赫・塞西 （Abdel Fattah Al-Sisi）先前宣布要整修這條擁有數百年歷史的運河。\""
            ],
            "text/latex": "'一艘隸屬於長榮海運的貨櫃輪傳出23日在蘇伊士運河上，疑似因為轉彎時擱淺，造成河道雙向交通受阻，埃及當局已經派遣拖船、大型機械協助長榮貨櫃輪脫困。外媒報導指，這艘由台灣長榮海運的貨船「Ever Given」在巴拿馬註冊，早前從台北出發途經馬來西亞，預計在3月31日，抵達荷蘭阿姆斯特丹。然而，船隻追蹤網站「VesselFinder」顯示，貨櫃輪在23日擱淺在蘇伊士運河，導致運河雙向交通封鎖了幾個小時。數據研究員在推特上貼出長榮貨櫃輪在運河上擱淺的觀測數據。（圖／翻攝自Twitter）數據研究員在推特上貼出長榮貨櫃輪在運河上擱淺的觀測數據。（圖／翻攝自Twitter）受到長榮貨櫃輪擱淺的影響，蘇伊士運河兩端有大批的船隻滯留。（圖／翻攝自VesselFinder）另一艘登記於美國的貨船Maersk Denver號，在河面上拍下擱淺的Ever Given，並指出，埃及當局派出了拖船以及挖土機協助Ever Given脫困。Maersk Denver號的船員柯納（Julianne Cona）在Instagram寫道「希望不會花費太多時間，但看起來船隻被卡的死死的。他們（埃及）之前派出了拖船試圖拉起來，但現在有一輛小挖土機在船頭附近工作。」柯納還補充道，Ever Give擱淺時，後面的船隻緊急停下，差點與Maersk Denver號相撞，讓她驚呼「真是刺激的一天。」外媒報導指，蘇伊士運河是世界上最忙碌的水道之一，但受到去年新冠肺炎（COVID-19）疫情影響，收入下降3\\%至56.1億美元，埃及總統阿卜杜勒-法塔赫・塞西 （Abdel Fattah Al-Sisi）先前宣布要整修這條擁有數百年歷史的運河。'",
            "text/markdown": "'一艘隸屬於長榮海運的貨櫃輪傳出23日在蘇伊士運河上，疑似因為轉彎時擱淺，造成河道雙向交通受阻，埃及當局已經派遣拖船、大型機械協助長榮貨櫃輪脫困。外媒報導指，這艘由台灣長榮海運的貨船「Ever Given」在巴拿馬註冊，早前從台北出發途經馬來西亞，預計在3月31日，抵達荷蘭阿姆斯特丹。然而，船隻追蹤網站「VesselFinder」顯示，貨櫃輪在23日擱淺在蘇伊士運河，導致運河雙向交通封鎖了幾個小時。數據研究員在推特上貼出長榮貨櫃輪在運河上擱淺的觀測數據。（圖／翻攝自Twitter）數據研究員在推特上貼出長榮貨櫃輪在運河上擱淺的觀測數據。（圖／翻攝自Twitter）受到長榮貨櫃輪擱淺的影響，蘇伊士運河兩端有大批的船隻滯留。（圖／翻攝自VesselFinder）另一艘登記於美國的貨船Maersk Denver號，在河面上拍下擱淺的Ever Given，並指出，埃及當局派出了拖船以及挖土機協助Ever Given脫困。Maersk Denver號的船員柯納（Julianne Cona）在Instagram寫道「希望不會花費太多時間，但看起來船隻被卡的死死的。他們（埃及）之前派出了拖船試圖拉起來，但現在有一輛小挖土機在船頭附近工作。」柯納還補充道，Ever Give擱淺時，後面的船隻緊急停下，差點與Maersk Denver號相撞，讓她驚呼「真是刺激的一天。」外媒報導指，蘇伊士運河是世界上最忙碌的水道之一，但受到去年新冠肺炎（COVID-19）疫情影響，收入下降3%至56.1億美元，埃及總統阿卜杜勒-法塔赫・塞西 （Abdel Fattah Al-Sisi）先前宣布要整修這條擁有數百年歷史的運河。'",
            "text/html": [
              "'一艘隸屬於長榮海運的貨櫃輪傳出23日在蘇伊士運河上，疑似因為轉彎時擱淺，造成河道雙向交通受阻，埃及當局已經派遣拖船、大型機械協助長榮貨櫃輪脫困。外媒報導指，這艘由台灣長榮海運的貨船「Ever Given」在巴拿馬註冊，早前從台北出發途經馬來西亞，預計在3月31日，抵達荷蘭阿姆斯特丹。然而，船隻追蹤網站「VesselFinder」顯示，貨櫃輪在23日擱淺在蘇伊士運河，導致運河雙向交通封鎖了幾個小時。數據研究員在推特上貼出長榮貨櫃輪在運河上擱淺的觀測數據。（圖／翻攝自Twitter）數據研究員在推特上貼出長榮貨櫃輪在運河上擱淺的觀測數據。（圖／翻攝自Twitter）受到長榮貨櫃輪擱淺的影響，蘇伊士運河兩端有大批的船隻滯留。（圖／翻攝自VesselFinder）另一艘登記於美國的貨船Maersk Denver號，在河面上拍下擱淺的Ever Given，並指出，埃及當局派出了拖船以及挖土機協助Ever Given脫困。Maersk Denver號的船員柯納（Julianne Cona）在Instagram寫道「希望不會花費太多時間，但看起來船隻被卡的死死的。他們（埃及）之前派出了拖船試圖拉起來，但現在有一輛小挖土機在船頭附近工作。」柯納還補充道，Ever Give擱淺時，後面的船隻緊急停下，差點與Maersk Denver號相撞，讓她驚呼「真是刺激的一天。」外媒報導指，蘇伊士運河是世界上最忙碌的水道之一，但受到去年新冠肺炎（COVID-19）疫情影響，收入下降3%至56.1億美元，埃及總統阿卜杜勒-法塔赫・塞西 （Abdel Fattah Al-Sisi）先前宣布要整修這條擁有數百年歷史的運河。'"
            ]
          },
          "metadata": {
            "tags": []
          }
        }
      ]
    },
    {
      "cell_type": "code",
      "metadata": {
        "id": "nCVHyQxKBkjq"
      },
      "source": [
        "cutter <- worker(bylines = F)"
      ],
      "execution_count": 6,
      "outputs": []
    },
    {
      "cell_type": "code",
      "metadata": {
        "colab": {
          "base_uri": "https://localhost:8080/",
          "height": 153
        },
        "id": "E5aGDP3UB8AK",
        "outputId": "cb1bea6e-ecbf-4cbc-b619-a53c8a987aa7"
      },
      "source": [
        "cutter [content]"
      ],
      "execution_count": 7,
      "outputs": [
        {
          "output_type": "display_data",
          "data": {
            "text/plain": [
              "  [1] \"一艘\"         \"隸屬於\"       \"長榮\"         \"海運\"         \"的\"          \n",
              "  [6] \"貨櫃\"         \"輪\"           \"傳出\"         \"23\"           \"日\"          \n",
              " [11] \"在\"           \"蘇伊士運河\"   \"上\"           \"疑似\"         \"因為\"        \n",
              " [16] \"轉彎\"         \"時\"           \"擱淺\"         \"造成\"         \"河道\"        \n",
              " [21] \"雙向交通\"     \"受阻\"         \"埃及\"         \"當局\"         \"已經\"        \n",
              " [26] \"派遣\"         \"拖船\"         \"大型\"         \"機械\"         \"協助\"        \n",
              " [31] \"長榮\"         \"貨櫃\"         \"輪\"           \"脫困\"         \"外媒\"        \n",
              " [36] \"報導\"         \"指\"           \"這艘\"         \"由\"           \"台灣\"        \n",
              " [41] \"長榮\"         \"海運\"         \"的\"           \"貨船\"         \"Ever\"        \n",
              " [46] \"Given\"        \"在\"           \"巴拿馬\"       \"註冊\"         \"早前\"        \n",
              " [51] \"從\"           \"台北\"         \"出發\"         \"途經\"         \"馬來西亞\"    \n",
              " [56] \"預計\"         \"在\"           \"3\"            \"月\"           \"31\"          \n",
              " [61] \"日\"           \"抵達\"         \"荷蘭\"         \"阿姆斯特丹\"   \"然而\"        \n",
              " [66] \"船隻\"         \"追蹤\"         \"網站\"         \"VesselFinder\" \"顯示\"        \n",
              " [71] \"貨櫃\"         \"輪\"           \"在\"           \"23\"           \"日\"          \n",
              " [76] \"擱淺\"         \"在\"           \"蘇伊士運河\"   \"導致\"         \"運河\"        \n",
              " [81] \"雙向交通\"     \"封鎖\"         \"了\"           \"幾個\"         \"小時\"        \n",
              " [86] \"數據\"         \"研究員\"       \"在\"           \"推特上\"       \"貼\"          \n",
              " [91] \"出\"           \"長榮\"         \"貨櫃\"         \"輪\"           \"在\"          \n",
              " [96] \"運河\"         \"上\"           \"擱淺\"         \"的\"           \"觀測\"        \n",
              "[101] \"數據\"         \"圖\"           \"翻\"           \"攝\"           \"自\"          \n",
              "[106] \"Twitter\"      \"數據\"         \"研究員\"       \"在\"           \"推特上\"      \n",
              "[111] \"貼\"           \"出\"           \"長榮\"         \"貨櫃\"         \"輪\"          \n",
              "[116] \"在\"           \"運河\"         \"上\"           \"擱淺\"         \"的\"          \n",
              "[121] \"觀測\"         \"數據\"         \"圖\"           \"翻\"           \"攝\"          \n",
              "[126] \"自\"           \"Twitter\"      \"受到\"         \"長榮\"         \"貨櫃\"        \n",
              "[131] \"輪\"           \"擱淺\"         \"的\"           \"影響\"         \"蘇伊士運河\"  \n",
              "[136] \"兩端\"         \"有\"           \"大批\"         \"的\"           \"船隻\"        \n",
              "[141] \"滯留\"         \"圖\"           \"翻\"           \"攝\"           \"自\"          \n",
              "[146] \"VesselFinder\" \"另\"           \"一艘\"         \"登記\"         \"於\"          \n",
              "[151] \"美國\"         \"的\"           \"貨船\"         \"Maersk\"       \"Denver\"      \n",
              "[156] \"號\"           \"在\"           \"河面上\"       \"拍下\"         \"擱淺\"        \n",
              "[161] \"的\"           \"Ever\"         \"Given\"        \"並\"           \"指出\"        \n",
              "[166] \"埃及\"         \"當局\"         \"派出\"         \"了\"           \"拖船\"        \n",
              "[171] \"以及\"         \"挖土機\"       \"協助\"         \"Ever\"         \"Given\"       \n",
              "[176] \"脫困\"         \"Maersk\"       \"Denver\"       \"號的\"         \"船員\"        \n",
              "[181] \"柯納\"         \"Julianne\"     \"Cona\"         \"在\"           \"Instagram\"   \n",
              "[186] \"寫道\"         \"希望\"         \"不會\"         \"花費\"         \"太多\"        \n",
              "[191] \"時間\"         \"但\"           \"看起來\"       \"船隻\"         \"被\"          \n",
              "[196] \"卡\"           \"的\"           \"死死的\"       \"他們\"         \"埃及\"        \n",
              "[201] \"之前\"         \"派出\"         \"了\"           \"拖船\"         \"試圖\"        \n",
              "[206] \"拉\"           \"起來\"         \"但\"           \"現在\"         \"有\"          \n",
              "[211] \"一輛\"         \"小\"           \"挖土機\"       \"在\"           \"船頭\"        \n",
              "[216] \"附近\"         \"工作\"         \"柯\"           \"納\"           \"還\"          \n",
              "[221] \"補充\"         \"道\"           \"Ever\"         \"Give\"         \"擱淺\"        \n",
              "[226] \"時\"           \"後面\"         \"的\"           \"船隻\"         \"緊急\"        \n",
              "[231] \"停下\"         \"差點\"         \"與\"           \"Maersk\"       \"Denver\"      \n",
              "[236] \"號\"           \"相撞\"         \"讓\"           \"她\"           \"驚呼\"        \n",
              "[241] \"真是\"         \"刺激\"         \"的\"           \"一天\"         \"外\"          \n",
              "[246] \"媒\"           \"報導\"         \"指\"           \"蘇伊士運河\"   \"是\"          \n",
              "[251] \"世界\"         \"上\"           \"最\"           \"忙碌\"         \"的\"          \n",
              "[256] \"水道\"         \"之一\"         \"但\"           \"受到\"         \"去年\"        \n",
              "[261] \"新冠\"         \"肺炎\"         \"COVID\"        \"19\"           \"疫情\"        \n",
              "[266] \"影響\"         \"收入\"         \"下降\"         \"3\"            \"至\"          \n",
              "[271] \"56.1\"         \"億美元\"       \"埃及\"         \"總統\"         \"阿卜杜勒\"    \n",
              "[276] \"法塔赫\"       \"・\"           \"塞\"           \"西\"           \"Abdel\"       \n",
              "[281] \"Fattah\"       \"Al\"           \"Sisi\"         \"先前\"         \"宣布\"        \n",
              "[286] \"要\"           \"整修\"         \"這條\"         \"擁有\"         \"數百年\"      \n",
              "[291] \"歷史\"         \"的\"           \"運河\"        "
            ],
            "text/latex": "\\begin{enumerate*}\n\\item '一艘'\n\\item '隸屬於'\n\\item '長榮'\n\\item '海運'\n\\item '的'\n\\item '貨櫃'\n\\item '輪'\n\\item '傳出'\n\\item '23'\n\\item '日'\n\\item '在'\n\\item '蘇伊士運河'\n\\item '上'\n\\item '疑似'\n\\item '因為'\n\\item '轉彎'\n\\item '時'\n\\item '擱淺'\n\\item '造成'\n\\item '河道'\n\\item '雙向交通'\n\\item '受阻'\n\\item '埃及'\n\\item '當局'\n\\item '已經'\n\\item '派遣'\n\\item '拖船'\n\\item '大型'\n\\item '機械'\n\\item '協助'\n\\item '長榮'\n\\item '貨櫃'\n\\item '輪'\n\\item '脫困'\n\\item '外媒'\n\\item '報導'\n\\item '指'\n\\item '這艘'\n\\item '由'\n\\item '台灣'\n\\item '長榮'\n\\item '海運'\n\\item '的'\n\\item '貨船'\n\\item 'Ever'\n\\item 'Given'\n\\item '在'\n\\item '巴拿馬'\n\\item '註冊'\n\\item '早前'\n\\item '從'\n\\item '台北'\n\\item '出發'\n\\item '途經'\n\\item '馬來西亞'\n\\item '預計'\n\\item '在'\n\\item '3'\n\\item '月'\n\\item '31'\n\\item '日'\n\\item '抵達'\n\\item '荷蘭'\n\\item '阿姆斯特丹'\n\\item '然而'\n\\item '船隻'\n\\item '追蹤'\n\\item '網站'\n\\item 'VesselFinder'\n\\item '顯示'\n\\item '貨櫃'\n\\item '輪'\n\\item '在'\n\\item '23'\n\\item '日'\n\\item '擱淺'\n\\item '在'\n\\item '蘇伊士運河'\n\\item '導致'\n\\item '運河'\n\\item '雙向交通'\n\\item '封鎖'\n\\item '了'\n\\item '幾個'\n\\item '小時'\n\\item '數據'\n\\item '研究員'\n\\item '在'\n\\item '推特上'\n\\item '貼'\n\\item '出'\n\\item '長榮'\n\\item '貨櫃'\n\\item '輪'\n\\item '在'\n\\item '運河'\n\\item '上'\n\\item '擱淺'\n\\item '的'\n\\item '觀測'\n\\item '數據'\n\\item '圖'\n\\item '翻'\n\\item '攝'\n\\item '自'\n\\item 'Twitter'\n\\item '數據'\n\\item '研究員'\n\\item '在'\n\\item '推特上'\n\\item '貼'\n\\item '出'\n\\item '長榮'\n\\item '貨櫃'\n\\item '輪'\n\\item '在'\n\\item '運河'\n\\item '上'\n\\item '擱淺'\n\\item '的'\n\\item '觀測'\n\\item '數據'\n\\item '圖'\n\\item '翻'\n\\item '攝'\n\\item '自'\n\\item 'Twitter'\n\\item '受到'\n\\item '長榮'\n\\item '貨櫃'\n\\item '輪'\n\\item '擱淺'\n\\item '的'\n\\item '影響'\n\\item '蘇伊士運河'\n\\item '兩端'\n\\item '有'\n\\item '大批'\n\\item '的'\n\\item '船隻'\n\\item '滯留'\n\\item '圖'\n\\item '翻'\n\\item '攝'\n\\item '自'\n\\item 'VesselFinder'\n\\item '另'\n\\item '一艘'\n\\item '登記'\n\\item '於'\n\\item '美國'\n\\item '的'\n\\item '貨船'\n\\item 'Maersk'\n\\item 'Denver'\n\\item '號'\n\\item '在'\n\\item '河面上'\n\\item '拍下'\n\\item '擱淺'\n\\item '的'\n\\item 'Ever'\n\\item 'Given'\n\\item '並'\n\\item '指出'\n\\item '埃及'\n\\item '當局'\n\\item '派出'\n\\item '了'\n\\item '拖船'\n\\item '以及'\n\\item '挖土機'\n\\item '協助'\n\\item 'Ever'\n\\item 'Given'\n\\item '脫困'\n\\item 'Maersk'\n\\item 'Denver'\n\\item '號的'\n\\item '船員'\n\\item '柯納'\n\\item 'Julianne'\n\\item 'Cona'\n\\item '在'\n\\item 'Instagram'\n\\item '寫道'\n\\item '希望'\n\\item '不會'\n\\item '花費'\n\\item '太多'\n\\item '時間'\n\\item '但'\n\\item '看起來'\n\\item '船隻'\n\\item '被'\n\\item '卡'\n\\item '的'\n\\item '死死的'\n\\item '他們'\n\\item '埃及'\n\\item '之前'\n\\item '派出'\n\\item '了'\n\\item '拖船'\n\\item '試圖'\n\\item '拉'\n\\item '起來'\n\\item '但'\n\\item '現在'\n\\item '有'\n\\item '一輛'\n\\item '小'\n\\item '挖土機'\n\\item '在'\n\\item '船頭'\n\\item '附近'\n\\item '工作'\n\\item '柯'\n\\item '納'\n\\item '還'\n\\item '補充'\n\\item '道'\n\\item 'Ever'\n\\item 'Give'\n\\item '擱淺'\n\\item '時'\n\\item '後面'\n\\item '的'\n\\item '船隻'\n\\item '緊急'\n\\item '停下'\n\\item '差點'\n\\item '與'\n\\item 'Maersk'\n\\item 'Denver'\n\\item '號'\n\\item '相撞'\n\\item '讓'\n\\item '她'\n\\item '驚呼'\n\\item '真是'\n\\item '刺激'\n\\item '的'\n\\item '一天'\n\\item '外'\n\\item '媒'\n\\item '報導'\n\\item '指'\n\\item '蘇伊士運河'\n\\item '是'\n\\item '世界'\n\\item '上'\n\\item '最'\n\\item '忙碌'\n\\item '的'\n\\item '水道'\n\\item '之一'\n\\item '但'\n\\item '受到'\n\\item '去年'\n\\item '新冠'\n\\item '肺炎'\n\\item 'COVID'\n\\item '19'\n\\item '疫情'\n\\item '影響'\n\\item '收入'\n\\item '下降'\n\\item '3'\n\\item '至'\n\\item '56.1'\n\\item '億美元'\n\\item '埃及'\n\\item '總統'\n\\item '阿卜杜勒'\n\\item '法塔赫'\n\\item '・'\n\\item '塞'\n\\item '西'\n\\item 'Abdel'\n\\item 'Fattah'\n\\item 'Al'\n\\item 'Sisi'\n\\item '先前'\n\\item '宣布'\n\\item '要'\n\\item '整修'\n\\item '這條'\n\\item '擁有'\n\\item '數百年'\n\\item '歷史'\n\\item '的'\n\\item '運河'\n\\end{enumerate*}\n",
            "text/markdown": "1. '一艘'\n2. '隸屬於'\n3. '長榮'\n4. '海運'\n5. '的'\n6. '貨櫃'\n7. '輪'\n8. '傳出'\n9. '23'\n10. '日'\n11. '在'\n12. '蘇伊士運河'\n13. '上'\n14. '疑似'\n15. '因為'\n16. '轉彎'\n17. '時'\n18. '擱淺'\n19. '造成'\n20. '河道'\n21. '雙向交通'\n22. '受阻'\n23. '埃及'\n24. '當局'\n25. '已經'\n26. '派遣'\n27. '拖船'\n28. '大型'\n29. '機械'\n30. '協助'\n31. '長榮'\n32. '貨櫃'\n33. '輪'\n34. '脫困'\n35. '外媒'\n36. '報導'\n37. '指'\n38. '這艘'\n39. '由'\n40. '台灣'\n41. '長榮'\n42. '海運'\n43. '的'\n44. '貨船'\n45. 'Ever'\n46. 'Given'\n47. '在'\n48. '巴拿馬'\n49. '註冊'\n50. '早前'\n51. '從'\n52. '台北'\n53. '出發'\n54. '途經'\n55. '馬來西亞'\n56. '預計'\n57. '在'\n58. '3'\n59. '月'\n60. '31'\n61. '日'\n62. '抵達'\n63. '荷蘭'\n64. '阿姆斯特丹'\n65. '然而'\n66. '船隻'\n67. '追蹤'\n68. '網站'\n69. 'VesselFinder'\n70. '顯示'\n71. '貨櫃'\n72. '輪'\n73. '在'\n74. '23'\n75. '日'\n76. '擱淺'\n77. '在'\n78. '蘇伊士運河'\n79. '導致'\n80. '運河'\n81. '雙向交通'\n82. '封鎖'\n83. '了'\n84. '幾個'\n85. '小時'\n86. '數據'\n87. '研究員'\n88. '在'\n89. '推特上'\n90. '貼'\n91. '出'\n92. '長榮'\n93. '貨櫃'\n94. '輪'\n95. '在'\n96. '運河'\n97. '上'\n98. '擱淺'\n99. '的'\n100. '觀測'\n101. '數據'\n102. '圖'\n103. '翻'\n104. '攝'\n105. '自'\n106. 'Twitter'\n107. '數據'\n108. '研究員'\n109. '在'\n110. '推特上'\n111. '貼'\n112. '出'\n113. '長榮'\n114. '貨櫃'\n115. '輪'\n116. '在'\n117. '運河'\n118. '上'\n119. '擱淺'\n120. '的'\n121. '觀測'\n122. '數據'\n123. '圖'\n124. '翻'\n125. '攝'\n126. '自'\n127. 'Twitter'\n128. '受到'\n129. '長榮'\n130. '貨櫃'\n131. '輪'\n132. '擱淺'\n133. '的'\n134. '影響'\n135. '蘇伊士運河'\n136. '兩端'\n137. '有'\n138. '大批'\n139. '的'\n140. '船隻'\n141. '滯留'\n142. '圖'\n143. '翻'\n144. '攝'\n145. '自'\n146. 'VesselFinder'\n147. '另'\n148. '一艘'\n149. '登記'\n150. '於'\n151. '美國'\n152. '的'\n153. '貨船'\n154. 'Maersk'\n155. 'Denver'\n156. '號'\n157. '在'\n158. '河面上'\n159. '拍下'\n160. '擱淺'\n161. '的'\n162. 'Ever'\n163. 'Given'\n164. '並'\n165. '指出'\n166. '埃及'\n167. '當局'\n168. '派出'\n169. '了'\n170. '拖船'\n171. '以及'\n172. '挖土機'\n173. '協助'\n174. 'Ever'\n175. 'Given'\n176. '脫困'\n177. 'Maersk'\n178. 'Denver'\n179. '號的'\n180. '船員'\n181. '柯納'\n182. 'Julianne'\n183. 'Cona'\n184. '在'\n185. 'Instagram'\n186. '寫道'\n187. '希望'\n188. '不會'\n189. '花費'\n190. '太多'\n191. '時間'\n192. '但'\n193. '看起來'\n194. '船隻'\n195. '被'\n196. '卡'\n197. '的'\n198. '死死的'\n199. '他們'\n200. '埃及'\n201. '之前'\n202. '派出'\n203. '了'\n204. '拖船'\n205. '試圖'\n206. '拉'\n207. '起來'\n208. '但'\n209. '現在'\n210. '有'\n211. '一輛'\n212. '小'\n213. '挖土機'\n214. '在'\n215. '船頭'\n216. '附近'\n217. '工作'\n218. '柯'\n219. '納'\n220. '還'\n221. '補充'\n222. '道'\n223. 'Ever'\n224. 'Give'\n225. '擱淺'\n226. '時'\n227. '後面'\n228. '的'\n229. '船隻'\n230. '緊急'\n231. '停下'\n232. '差點'\n233. '與'\n234. 'Maersk'\n235. 'Denver'\n236. '號'\n237. '相撞'\n238. '讓'\n239. '她'\n240. '驚呼'\n241. '真是'\n242. '刺激'\n243. '的'\n244. '一天'\n245. '外'\n246. '媒'\n247. '報導'\n248. '指'\n249. '蘇伊士運河'\n250. '是'\n251. '世界'\n252. '上'\n253. '最'\n254. '忙碌'\n255. '的'\n256. '水道'\n257. '之一'\n258. '但'\n259. '受到'\n260. '去年'\n261. '新冠'\n262. '肺炎'\n263. 'COVID'\n264. '19'\n265. '疫情'\n266. '影響'\n267. '收入'\n268. '下降'\n269. '3'\n270. '至'\n271. '56.1'\n272. '億美元'\n273. '埃及'\n274. '總統'\n275. '阿卜杜勒'\n276. '法塔赫'\n277. '・'\n278. '塞'\n279. '西'\n280. 'Abdel'\n281. 'Fattah'\n282. 'Al'\n283. 'Sisi'\n284. '先前'\n285. '宣布'\n286. '要'\n287. '整修'\n288. '這條'\n289. '擁有'\n290. '數百年'\n291. '歷史'\n292. '的'\n293. '運河'\n\n\n",
            "text/html": [
              "<style>\n",
              ".list-inline {list-style: none; margin:0; padding: 0}\n",
              ".list-inline>li {display: inline-block}\n",
              ".list-inline>li:not(:last-child)::after {content: \"\\00b7\"; padding: 0 .5ex}\n",
              "</style>\n",
              "<ol class=list-inline><li>'一艘'</li><li>'隸屬於'</li><li>'長榮'</li><li>'海運'</li><li>'的'</li><li>'貨櫃'</li><li>'輪'</li><li>'傳出'</li><li>'23'</li><li>'日'</li><li>'在'</li><li>'蘇伊士運河'</li><li>'上'</li><li>'疑似'</li><li>'因為'</li><li>'轉彎'</li><li>'時'</li><li>'擱淺'</li><li>'造成'</li><li>'河道'</li><li>'雙向交通'</li><li>'受阻'</li><li>'埃及'</li><li>'當局'</li><li>'已經'</li><li>'派遣'</li><li>'拖船'</li><li>'大型'</li><li>'機械'</li><li>'協助'</li><li>'長榮'</li><li>'貨櫃'</li><li>'輪'</li><li>'脫困'</li><li>'外媒'</li><li>'報導'</li><li>'指'</li><li>'這艘'</li><li>'由'</li><li>'台灣'</li><li>'長榮'</li><li>'海運'</li><li>'的'</li><li>'貨船'</li><li>'Ever'</li><li>'Given'</li><li>'在'</li><li>'巴拿馬'</li><li>'註冊'</li><li>'早前'</li><li>'從'</li><li>'台北'</li><li>'出發'</li><li>'途經'</li><li>'馬來西亞'</li><li>'預計'</li><li>'在'</li><li>'3'</li><li>'月'</li><li>'31'</li><li>'日'</li><li>'抵達'</li><li>'荷蘭'</li><li>'阿姆斯特丹'</li><li>'然而'</li><li>'船隻'</li><li>'追蹤'</li><li>'網站'</li><li>'VesselFinder'</li><li>'顯示'</li><li>'貨櫃'</li><li>'輪'</li><li>'在'</li><li>'23'</li><li>'日'</li><li>'擱淺'</li><li>'在'</li><li>'蘇伊士運河'</li><li>'導致'</li><li>'運河'</li><li>'雙向交通'</li><li>'封鎖'</li><li>'了'</li><li>'幾個'</li><li>'小時'</li><li>'數據'</li><li>'研究員'</li><li>'在'</li><li>'推特上'</li><li>'貼'</li><li>'出'</li><li>'長榮'</li><li>'貨櫃'</li><li>'輪'</li><li>'在'</li><li>'運河'</li><li>'上'</li><li>'擱淺'</li><li>'的'</li><li>'觀測'</li><li>'數據'</li><li>'圖'</li><li>'翻'</li><li>'攝'</li><li>'自'</li><li>'Twitter'</li><li>'數據'</li><li>'研究員'</li><li>'在'</li><li>'推特上'</li><li>'貼'</li><li>'出'</li><li>'長榮'</li><li>'貨櫃'</li><li>'輪'</li><li>'在'</li><li>'運河'</li><li>'上'</li><li>'擱淺'</li><li>'的'</li><li>'觀測'</li><li>'數據'</li><li>'圖'</li><li>'翻'</li><li>'攝'</li><li>'自'</li><li>'Twitter'</li><li>'受到'</li><li>'長榮'</li><li>'貨櫃'</li><li>'輪'</li><li>'擱淺'</li><li>'的'</li><li>'影響'</li><li>'蘇伊士運河'</li><li>'兩端'</li><li>'有'</li><li>'大批'</li><li>'的'</li><li>'船隻'</li><li>'滯留'</li><li>'圖'</li><li>'翻'</li><li>'攝'</li><li>'自'</li><li>'VesselFinder'</li><li>'另'</li><li>'一艘'</li><li>'登記'</li><li>'於'</li><li>'美國'</li><li>'的'</li><li>'貨船'</li><li>'Maersk'</li><li>'Denver'</li><li>'號'</li><li>'在'</li><li>'河面上'</li><li>'拍下'</li><li>'擱淺'</li><li>'的'</li><li>'Ever'</li><li>'Given'</li><li>'並'</li><li>'指出'</li><li>'埃及'</li><li>'當局'</li><li>'派出'</li><li>'了'</li><li>'拖船'</li><li>'以及'</li><li>'挖土機'</li><li>'協助'</li><li>'Ever'</li><li>'Given'</li><li>'脫困'</li><li>'Maersk'</li><li>'Denver'</li><li>'號的'</li><li>'船員'</li><li>'柯納'</li><li>'Julianne'</li><li>'Cona'</li><li>'在'</li><li>'Instagram'</li><li>'寫道'</li><li>'希望'</li><li>'不會'</li><li>'花費'</li><li>'太多'</li><li>'時間'</li><li>'但'</li><li>'看起來'</li><li>'船隻'</li><li>'被'</li><li>'卡'</li><li>'的'</li><li>'死死的'</li><li>'他們'</li><li>'埃及'</li><li>'之前'</li><li>'派出'</li><li>'了'</li><li>'拖船'</li><li>'試圖'</li><li>'拉'</li><li>'起來'</li><li>'但'</li><li>'現在'</li><li>'有'</li><li>'一輛'</li><li>'小'</li><li>'挖土機'</li><li>'在'</li><li>'船頭'</li><li>'附近'</li><li>'工作'</li><li>'柯'</li><li>'納'</li><li>'還'</li><li>'補充'</li><li>'道'</li><li>'Ever'</li><li>'Give'</li><li>'擱淺'</li><li>'時'</li><li>'後面'</li><li>'的'</li><li>'船隻'</li><li>'緊急'</li><li>'停下'</li><li>'差點'</li><li>'與'</li><li>'Maersk'</li><li>'Denver'</li><li>'號'</li><li>'相撞'</li><li>'讓'</li><li>'她'</li><li>'驚呼'</li><li>'真是'</li><li>'刺激'</li><li>'的'</li><li>'一天'</li><li>'外'</li><li>'媒'</li><li>'報導'</li><li>'指'</li><li>'蘇伊士運河'</li><li>'是'</li><li>'世界'</li><li>'上'</li><li>'最'</li><li>'忙碌'</li><li>'的'</li><li>'水道'</li><li>'之一'</li><li>'但'</li><li>'受到'</li><li>'去年'</li><li>'新冠'</li><li>'肺炎'</li><li>'COVID'</li><li>'19'</li><li>'疫情'</li><li>'影響'</li><li>'收入'</li><li>'下降'</li><li>'3'</li><li>'至'</li><li>'56.1'</li><li>'億美元'</li><li>'埃及'</li><li>'總統'</li><li>'阿卜杜勒'</li><li>'法塔赫'</li><li>'・'</li><li>'塞'</li><li>'西'</li><li>'Abdel'</li><li>'Fattah'</li><li>'Al'</li><li>'Sisi'</li><li>'先前'</li><li>'宣布'</li><li>'要'</li><li>'整修'</li><li>'這條'</li><li>'擁有'</li><li>'數百年'</li><li>'歷史'</li><li>'的'</li><li>'運河'</li></ol>\n"
            ]
          },
          "metadata": {
            "tags": []
          }
        }
      ]
    },
    {
      "cell_type": "code",
      "metadata": {
        "id": "6sOyRdaxDdx5"
      },
      "source": [
        "new_words <- c(\"傳染性肺炎\",\"醫療體系\",\"防疫措施\")\n",
        "for(i in 1:length(new_words)){new_user_word(cutter,new_words[i])}"
      ],
      "execution_count": 8,
      "outputs": []
    },
    {
      "cell_type": "code",
      "metadata": {
        "id": "kLwKs5F1oGOR"
      },
      "source": [
        "writeLines(new_words, \"new_words.txt\")"
      ],
      "execution_count": 9,
      "outputs": []
    },
    {
      "cell_type": "code",
      "metadata": {
        "id": "6rWu30NYqydD"
      },
      "source": [
        "stop_words <- c(\"在\",\"之\",\"更\",\"個\",\"未\",\"而\",\"也\",\"與\",\"的\")\n",
        "writeLines(stop_words, \"stop_words.txt\")"
      ],
      "execution_count": 10,
      "outputs": []
    },
    {
      "cell_type": "code",
      "metadata": {
        "colab": {
          "base_uri": "https://localhost:8080/",
          "height": 136
        },
        "id": "zy7LCsTWsAz5",
        "outputId": "9b4175c0-3db6-466b-90c0-08a66cbfc14e"
      },
      "source": [
        "cutter <- worker(user = \"new_words.txt\", stop_word = \"stop_words.txt\",\n",
        "bylines = FALSE)\n",
        "seg_words <- cutter[content]\n",
        "seg_words"
      ],
      "execution_count": 11,
      "outputs": [
        {
          "output_type": "display_data",
          "data": {
            "text/plain": [
              "  [1] \"一艘\"         \"隸屬於\"       \"長榮\"         \"海運\"         \"貨櫃\"        \n",
              "  [6] \"輪\"           \"傳出\"         \"23\"           \"日\"           \"蘇伊士運河\"  \n",
              " [11] \"上\"           \"疑似\"         \"因為\"         \"轉彎\"         \"時\"          \n",
              " [16] \"擱淺\"         \"造成\"         \"河道\"         \"雙向交通\"     \"受阻\"        \n",
              " [21] \"埃及\"         \"當局\"         \"已經\"         \"派遣\"         \"拖船\"        \n",
              " [26] \"大型\"         \"機械\"         \"協助\"         \"長榮\"         \"貨櫃\"        \n",
              " [31] \"輪\"           \"脫困\"         \"外媒\"         \"報導\"         \"指\"          \n",
              " [36] \"這艘\"         \"由\"           \"台灣\"         \"長榮\"         \"海運\"        \n",
              " [41] \"貨船\"         \"Ever\"         \"Given\"        \"巴拿馬\"       \"註冊\"        \n",
              " [46] \"早前\"         \"從\"           \"台北\"         \"出發\"         \"途經\"        \n",
              " [51] \"馬來西亞\"     \"預計\"         \"3\"            \"月\"           \"31\"          \n",
              " [56] \"日\"           \"抵達\"         \"荷蘭\"         \"阿姆斯特丹\"   \"然而\"        \n",
              " [61] \"船隻\"         \"追蹤\"         \"網站\"         \"VesselFinder\" \"顯示\"        \n",
              " [66] \"貨櫃\"         \"輪\"           \"23\"           \"日\"           \"擱淺\"        \n",
              " [71] \"蘇伊士運河\"   \"導致\"         \"運河\"         \"雙向交通\"     \"封鎖\"        \n",
              " [76] \"了\"           \"幾個\"         \"小時\"         \"數據\"         \"研究員\"      \n",
              " [81] \"推特上\"       \"貼\"           \"出\"           \"長榮\"         \"貨櫃\"        \n",
              " [86] \"輪\"           \"運河\"         \"上\"           \"擱淺\"         \"觀測\"        \n",
              " [91] \"數據\"         \"圖\"           \"翻\"           \"攝\"           \"自\"          \n",
              " [96] \"Twitter\"      \"數據\"         \"研究員\"       \"推特上\"       \"貼\"          \n",
              "[101] \"出\"           \"長榮\"         \"貨櫃\"         \"輪\"           \"運河\"        \n",
              "[106] \"上\"           \"擱淺\"         \"觀測\"         \"數據\"         \"圖\"          \n",
              "[111] \"翻\"           \"攝\"           \"自\"           \"Twitter\"      \"受到\"        \n",
              "[116] \"長榮\"         \"貨櫃\"         \"輪\"           \"擱淺\"         \"影響\"        \n",
              "[121] \"蘇伊士運河\"   \"兩端\"         \"有\"           \"大批\"         \"船隻\"        \n",
              "[126] \"滯留\"         \"圖\"           \"翻\"           \"攝\"           \"自\"          \n",
              "[131] \"VesselFinder\" \"另\"           \"一艘\"         \"登記\"         \"於\"          \n",
              "[136] \"美國\"         \"貨船\"         \"Maersk\"       \"Denver\"       \"號\"          \n",
              "[141] \"河面上\"       \"拍下\"         \"擱淺\"         \"Ever\"         \"Given\"       \n",
              "[146] \"並\"           \"指出\"         \"埃及\"         \"當局\"         \"派出\"        \n",
              "[151] \"了\"           \"拖船\"         \"以及\"         \"挖土機\"       \"協助\"        \n",
              "[156] \"Ever\"         \"Given\"        \"脫困\"         \"Maersk\"       \"Denver\"      \n",
              "[161] \"號的\"         \"船員\"         \"柯納\"         \"Julianne\"     \"Cona\"        \n",
              "[166] \"Instagram\"    \"寫道\"         \"希望\"         \"不會\"         \"花費\"        \n",
              "[171] \"太多\"         \"時間\"         \"但\"           \"看起來\"       \"船隻\"        \n",
              "[176] \"被\"           \"卡\"           \"死死的\"       \"他們\"         \"埃及\"        \n",
              "[181] \"之前\"         \"派出\"         \"了\"           \"拖船\"         \"試圖\"        \n",
              "[186] \"拉\"           \"起來\"         \"但\"           \"現在\"         \"有\"          \n",
              "[191] \"一輛\"         \"小\"           \"挖土機\"       \"船頭\"         \"附近\"        \n",
              "[196] \"工作\"         \"柯\"           \"納\"           \"還\"           \"補充\"        \n",
              "[201] \"道\"           \"Ever\"         \"Give\"         \"擱淺\"         \"時\"          \n",
              "[206] \"後面\"         \"船隻\"         \"緊急\"         \"停下\"         \"差點\"        \n",
              "[211] \"Maersk\"       \"Denver\"       \"號\"           \"相撞\"         \"讓\"          \n",
              "[216] \"她\"           \"驚呼\"         \"真是\"         \"刺激\"         \"一天\"        \n",
              "[221] \"外\"           \"媒\"           \"報導\"         \"指\"           \"蘇伊士運河\"  \n",
              "[226] \"是\"           \"世界\"         \"上\"           \"最\"           \"忙碌\"        \n",
              "[231] \"水道\"         \"之一\"         \"但\"           \"受到\"         \"去年\"        \n",
              "[236] \"新冠\"         \"肺炎\"         \"COVID\"        \"19\"           \"疫情\"        \n",
              "[241] \"影響\"         \"收入\"         \"下降\"         \"3\"            \"至\"          \n",
              "[246] \"56.1\"         \"億美元\"       \"埃及\"         \"總統\"         \"阿卜杜勒\"    \n",
              "[251] \"法塔赫\"       \"・\"           \"塞\"           \"西\"           \"Abdel\"       \n",
              "[256] \"Fattah\"       \"Al\"           \"Sisi\"         \"先前\"         \"宣布\"        \n",
              "[261] \"要\"           \"整修\"         \"這條\"         \"擁有\"         \"數百年\"      \n",
              "[266] \"歷史\"         \"運河\"        "
            ],
            "text/latex": "\\begin{enumerate*}\n\\item '一艘'\n\\item '隸屬於'\n\\item '長榮'\n\\item '海運'\n\\item '貨櫃'\n\\item '輪'\n\\item '傳出'\n\\item '23'\n\\item '日'\n\\item '蘇伊士運河'\n\\item '上'\n\\item '疑似'\n\\item '因為'\n\\item '轉彎'\n\\item '時'\n\\item '擱淺'\n\\item '造成'\n\\item '河道'\n\\item '雙向交通'\n\\item '受阻'\n\\item '埃及'\n\\item '當局'\n\\item '已經'\n\\item '派遣'\n\\item '拖船'\n\\item '大型'\n\\item '機械'\n\\item '協助'\n\\item '長榮'\n\\item '貨櫃'\n\\item '輪'\n\\item '脫困'\n\\item '外媒'\n\\item '報導'\n\\item '指'\n\\item '這艘'\n\\item '由'\n\\item '台灣'\n\\item '長榮'\n\\item '海運'\n\\item '貨船'\n\\item 'Ever'\n\\item 'Given'\n\\item '巴拿馬'\n\\item '註冊'\n\\item '早前'\n\\item '從'\n\\item '台北'\n\\item '出發'\n\\item '途經'\n\\item '馬來西亞'\n\\item '預計'\n\\item '3'\n\\item '月'\n\\item '31'\n\\item '日'\n\\item '抵達'\n\\item '荷蘭'\n\\item '阿姆斯特丹'\n\\item '然而'\n\\item '船隻'\n\\item '追蹤'\n\\item '網站'\n\\item 'VesselFinder'\n\\item '顯示'\n\\item '貨櫃'\n\\item '輪'\n\\item '23'\n\\item '日'\n\\item '擱淺'\n\\item '蘇伊士運河'\n\\item '導致'\n\\item '運河'\n\\item '雙向交通'\n\\item '封鎖'\n\\item '了'\n\\item '幾個'\n\\item '小時'\n\\item '數據'\n\\item '研究員'\n\\item '推特上'\n\\item '貼'\n\\item '出'\n\\item '長榮'\n\\item '貨櫃'\n\\item '輪'\n\\item '運河'\n\\item '上'\n\\item '擱淺'\n\\item '觀測'\n\\item '數據'\n\\item '圖'\n\\item '翻'\n\\item '攝'\n\\item '自'\n\\item 'Twitter'\n\\item '數據'\n\\item '研究員'\n\\item '推特上'\n\\item '貼'\n\\item '出'\n\\item '長榮'\n\\item '貨櫃'\n\\item '輪'\n\\item '運河'\n\\item '上'\n\\item '擱淺'\n\\item '觀測'\n\\item '數據'\n\\item '圖'\n\\item '翻'\n\\item '攝'\n\\item '自'\n\\item 'Twitter'\n\\item '受到'\n\\item '長榮'\n\\item '貨櫃'\n\\item '輪'\n\\item '擱淺'\n\\item '影響'\n\\item '蘇伊士運河'\n\\item '兩端'\n\\item '有'\n\\item '大批'\n\\item '船隻'\n\\item '滯留'\n\\item '圖'\n\\item '翻'\n\\item '攝'\n\\item '自'\n\\item 'VesselFinder'\n\\item '另'\n\\item '一艘'\n\\item '登記'\n\\item '於'\n\\item '美國'\n\\item '貨船'\n\\item 'Maersk'\n\\item 'Denver'\n\\item '號'\n\\item '河面上'\n\\item '拍下'\n\\item '擱淺'\n\\item 'Ever'\n\\item 'Given'\n\\item '並'\n\\item '指出'\n\\item '埃及'\n\\item '當局'\n\\item '派出'\n\\item '了'\n\\item '拖船'\n\\item '以及'\n\\item '挖土機'\n\\item '協助'\n\\item 'Ever'\n\\item 'Given'\n\\item '脫困'\n\\item 'Maersk'\n\\item 'Denver'\n\\item '號的'\n\\item '船員'\n\\item '柯納'\n\\item 'Julianne'\n\\item 'Cona'\n\\item 'Instagram'\n\\item '寫道'\n\\item '希望'\n\\item '不會'\n\\item '花費'\n\\item '太多'\n\\item '時間'\n\\item '但'\n\\item '看起來'\n\\item '船隻'\n\\item '被'\n\\item '卡'\n\\item '死死的'\n\\item '他們'\n\\item '埃及'\n\\item '之前'\n\\item '派出'\n\\item '了'\n\\item '拖船'\n\\item '試圖'\n\\item '拉'\n\\item '起來'\n\\item '但'\n\\item '現在'\n\\item '有'\n\\item '一輛'\n\\item '小'\n\\item '挖土機'\n\\item '船頭'\n\\item '附近'\n\\item '工作'\n\\item '柯'\n\\item '納'\n\\item '還'\n\\item '補充'\n\\item '道'\n\\item 'Ever'\n\\item 'Give'\n\\item '擱淺'\n\\item '時'\n\\item '後面'\n\\item '船隻'\n\\item '緊急'\n\\item '停下'\n\\item '差點'\n\\item 'Maersk'\n\\item 'Denver'\n\\item '號'\n\\item '相撞'\n\\item '讓'\n\\item '她'\n\\item '驚呼'\n\\item '真是'\n\\item '刺激'\n\\item '一天'\n\\item '外'\n\\item '媒'\n\\item '報導'\n\\item '指'\n\\item '蘇伊士運河'\n\\item '是'\n\\item '世界'\n\\item '上'\n\\item '最'\n\\item '忙碌'\n\\item '水道'\n\\item '之一'\n\\item '但'\n\\item '受到'\n\\item '去年'\n\\item '新冠'\n\\item '肺炎'\n\\item 'COVID'\n\\item '19'\n\\item '疫情'\n\\item '影響'\n\\item '收入'\n\\item '下降'\n\\item '3'\n\\item '至'\n\\item '56.1'\n\\item '億美元'\n\\item '埃及'\n\\item '總統'\n\\item '阿卜杜勒'\n\\item '法塔赫'\n\\item '・'\n\\item '塞'\n\\item '西'\n\\item 'Abdel'\n\\item 'Fattah'\n\\item 'Al'\n\\item 'Sisi'\n\\item '先前'\n\\item '宣布'\n\\item '要'\n\\item '整修'\n\\item '這條'\n\\item '擁有'\n\\item '數百年'\n\\item '歷史'\n\\item '運河'\n\\end{enumerate*}\n",
            "text/markdown": "1. '一艘'\n2. '隸屬於'\n3. '長榮'\n4. '海運'\n5. '貨櫃'\n6. '輪'\n7. '傳出'\n8. '23'\n9. '日'\n10. '蘇伊士運河'\n11. '上'\n12. '疑似'\n13. '因為'\n14. '轉彎'\n15. '時'\n16. '擱淺'\n17. '造成'\n18. '河道'\n19. '雙向交通'\n20. '受阻'\n21. '埃及'\n22. '當局'\n23. '已經'\n24. '派遣'\n25. '拖船'\n26. '大型'\n27. '機械'\n28. '協助'\n29. '長榮'\n30. '貨櫃'\n31. '輪'\n32. '脫困'\n33. '外媒'\n34. '報導'\n35. '指'\n36. '這艘'\n37. '由'\n38. '台灣'\n39. '長榮'\n40. '海運'\n41. '貨船'\n42. 'Ever'\n43. 'Given'\n44. '巴拿馬'\n45. '註冊'\n46. '早前'\n47. '從'\n48. '台北'\n49. '出發'\n50. '途經'\n51. '馬來西亞'\n52. '預計'\n53. '3'\n54. '月'\n55. '31'\n56. '日'\n57. '抵達'\n58. '荷蘭'\n59. '阿姆斯特丹'\n60. '然而'\n61. '船隻'\n62. '追蹤'\n63. '網站'\n64. 'VesselFinder'\n65. '顯示'\n66. '貨櫃'\n67. '輪'\n68. '23'\n69. '日'\n70. '擱淺'\n71. '蘇伊士運河'\n72. '導致'\n73. '運河'\n74. '雙向交通'\n75. '封鎖'\n76. '了'\n77. '幾個'\n78. '小時'\n79. '數據'\n80. '研究員'\n81. '推特上'\n82. '貼'\n83. '出'\n84. '長榮'\n85. '貨櫃'\n86. '輪'\n87. '運河'\n88. '上'\n89. '擱淺'\n90. '觀測'\n91. '數據'\n92. '圖'\n93. '翻'\n94. '攝'\n95. '自'\n96. 'Twitter'\n97. '數據'\n98. '研究員'\n99. '推特上'\n100. '貼'\n101. '出'\n102. '長榮'\n103. '貨櫃'\n104. '輪'\n105. '運河'\n106. '上'\n107. '擱淺'\n108. '觀測'\n109. '數據'\n110. '圖'\n111. '翻'\n112. '攝'\n113. '自'\n114. 'Twitter'\n115. '受到'\n116. '長榮'\n117. '貨櫃'\n118. '輪'\n119. '擱淺'\n120. '影響'\n121. '蘇伊士運河'\n122. '兩端'\n123. '有'\n124. '大批'\n125. '船隻'\n126. '滯留'\n127. '圖'\n128. '翻'\n129. '攝'\n130. '自'\n131. 'VesselFinder'\n132. '另'\n133. '一艘'\n134. '登記'\n135. '於'\n136. '美國'\n137. '貨船'\n138. 'Maersk'\n139. 'Denver'\n140. '號'\n141. '河面上'\n142. '拍下'\n143. '擱淺'\n144. 'Ever'\n145. 'Given'\n146. '並'\n147. '指出'\n148. '埃及'\n149. '當局'\n150. '派出'\n151. '了'\n152. '拖船'\n153. '以及'\n154. '挖土機'\n155. '協助'\n156. 'Ever'\n157. 'Given'\n158. '脫困'\n159. 'Maersk'\n160. 'Denver'\n161. '號的'\n162. '船員'\n163. '柯納'\n164. 'Julianne'\n165. 'Cona'\n166. 'Instagram'\n167. '寫道'\n168. '希望'\n169. '不會'\n170. '花費'\n171. '太多'\n172. '時間'\n173. '但'\n174. '看起來'\n175. '船隻'\n176. '被'\n177. '卡'\n178. '死死的'\n179. '他們'\n180. '埃及'\n181. '之前'\n182. '派出'\n183. '了'\n184. '拖船'\n185. '試圖'\n186. '拉'\n187. '起來'\n188. '但'\n189. '現在'\n190. '有'\n191. '一輛'\n192. '小'\n193. '挖土機'\n194. '船頭'\n195. '附近'\n196. '工作'\n197. '柯'\n198. '納'\n199. '還'\n200. '補充'\n201. '道'\n202. 'Ever'\n203. 'Give'\n204. '擱淺'\n205. '時'\n206. '後面'\n207. '船隻'\n208. '緊急'\n209. '停下'\n210. '差點'\n211. 'Maersk'\n212. 'Denver'\n213. '號'\n214. '相撞'\n215. '讓'\n216. '她'\n217. '驚呼'\n218. '真是'\n219. '刺激'\n220. '一天'\n221. '外'\n222. '媒'\n223. '報導'\n224. '指'\n225. '蘇伊士運河'\n226. '是'\n227. '世界'\n228. '上'\n229. '最'\n230. '忙碌'\n231. '水道'\n232. '之一'\n233. '但'\n234. '受到'\n235. '去年'\n236. '新冠'\n237. '肺炎'\n238. 'COVID'\n239. '19'\n240. '疫情'\n241. '影響'\n242. '收入'\n243. '下降'\n244. '3'\n245. '至'\n246. '56.1'\n247. '億美元'\n248. '埃及'\n249. '總統'\n250. '阿卜杜勒'\n251. '法塔赫'\n252. '・'\n253. '塞'\n254. '西'\n255. 'Abdel'\n256. 'Fattah'\n257. 'Al'\n258. 'Sisi'\n259. '先前'\n260. '宣布'\n261. '要'\n262. '整修'\n263. '這條'\n264. '擁有'\n265. '數百年'\n266. '歷史'\n267. '運河'\n\n\n",
            "text/html": [
              "<style>\n",
              ".list-inline {list-style: none; margin:0; padding: 0}\n",
              ".list-inline>li {display: inline-block}\n",
              ".list-inline>li:not(:last-child)::after {content: \"\\00b7\"; padding: 0 .5ex}\n",
              "</style>\n",
              "<ol class=list-inline><li>'一艘'</li><li>'隸屬於'</li><li>'長榮'</li><li>'海運'</li><li>'貨櫃'</li><li>'輪'</li><li>'傳出'</li><li>'23'</li><li>'日'</li><li>'蘇伊士運河'</li><li>'上'</li><li>'疑似'</li><li>'因為'</li><li>'轉彎'</li><li>'時'</li><li>'擱淺'</li><li>'造成'</li><li>'河道'</li><li>'雙向交通'</li><li>'受阻'</li><li>'埃及'</li><li>'當局'</li><li>'已經'</li><li>'派遣'</li><li>'拖船'</li><li>'大型'</li><li>'機械'</li><li>'協助'</li><li>'長榮'</li><li>'貨櫃'</li><li>'輪'</li><li>'脫困'</li><li>'外媒'</li><li>'報導'</li><li>'指'</li><li>'這艘'</li><li>'由'</li><li>'台灣'</li><li>'長榮'</li><li>'海運'</li><li>'貨船'</li><li>'Ever'</li><li>'Given'</li><li>'巴拿馬'</li><li>'註冊'</li><li>'早前'</li><li>'從'</li><li>'台北'</li><li>'出發'</li><li>'途經'</li><li>'馬來西亞'</li><li>'預計'</li><li>'3'</li><li>'月'</li><li>'31'</li><li>'日'</li><li>'抵達'</li><li>'荷蘭'</li><li>'阿姆斯特丹'</li><li>'然而'</li><li>'船隻'</li><li>'追蹤'</li><li>'網站'</li><li>'VesselFinder'</li><li>'顯示'</li><li>'貨櫃'</li><li>'輪'</li><li>'23'</li><li>'日'</li><li>'擱淺'</li><li>'蘇伊士運河'</li><li>'導致'</li><li>'運河'</li><li>'雙向交通'</li><li>'封鎖'</li><li>'了'</li><li>'幾個'</li><li>'小時'</li><li>'數據'</li><li>'研究員'</li><li>'推特上'</li><li>'貼'</li><li>'出'</li><li>'長榮'</li><li>'貨櫃'</li><li>'輪'</li><li>'運河'</li><li>'上'</li><li>'擱淺'</li><li>'觀測'</li><li>'數據'</li><li>'圖'</li><li>'翻'</li><li>'攝'</li><li>'自'</li><li>'Twitter'</li><li>'數據'</li><li>'研究員'</li><li>'推特上'</li><li>'貼'</li><li>'出'</li><li>'長榮'</li><li>'貨櫃'</li><li>'輪'</li><li>'運河'</li><li>'上'</li><li>'擱淺'</li><li>'觀測'</li><li>'數據'</li><li>'圖'</li><li>'翻'</li><li>'攝'</li><li>'自'</li><li>'Twitter'</li><li>'受到'</li><li>'長榮'</li><li>'貨櫃'</li><li>'輪'</li><li>'擱淺'</li><li>'影響'</li><li>'蘇伊士運河'</li><li>'兩端'</li><li>'有'</li><li>'大批'</li><li>'船隻'</li><li>'滯留'</li><li>'圖'</li><li>'翻'</li><li>'攝'</li><li>'自'</li><li>'VesselFinder'</li><li>'另'</li><li>'一艘'</li><li>'登記'</li><li>'於'</li><li>'美國'</li><li>'貨船'</li><li>'Maersk'</li><li>'Denver'</li><li>'號'</li><li>'河面上'</li><li>'拍下'</li><li>'擱淺'</li><li>'Ever'</li><li>'Given'</li><li>'並'</li><li>'指出'</li><li>'埃及'</li><li>'當局'</li><li>'派出'</li><li>'了'</li><li>'拖船'</li><li>'以及'</li><li>'挖土機'</li><li>'協助'</li><li>'Ever'</li><li>'Given'</li><li>'脫困'</li><li>'Maersk'</li><li>'Denver'</li><li>'號的'</li><li>'船員'</li><li>'柯納'</li><li>'Julianne'</li><li>'Cona'</li><li>'Instagram'</li><li>'寫道'</li><li>'希望'</li><li>'不會'</li><li>'花費'</li><li>'太多'</li><li>'時間'</li><li>'但'</li><li>'看起來'</li><li>'船隻'</li><li>'被'</li><li>'卡'</li><li>'死死的'</li><li>'他們'</li><li>'埃及'</li><li>'之前'</li><li>'派出'</li><li>'了'</li><li>'拖船'</li><li>'試圖'</li><li>'拉'</li><li>'起來'</li><li>'但'</li><li>'現在'</li><li>'有'</li><li>'一輛'</li><li>'小'</li><li>'挖土機'</li><li>'船頭'</li><li>'附近'</li><li>'工作'</li><li>'柯'</li><li>'納'</li><li>'還'</li><li>'補充'</li><li>'道'</li><li>'Ever'</li><li>'Give'</li><li>'擱淺'</li><li>'時'</li><li>'後面'</li><li>'船隻'</li><li>'緊急'</li><li>'停下'</li><li>'差點'</li><li>'Maersk'</li><li>'Denver'</li><li>'號'</li><li>'相撞'</li><li>'讓'</li><li>'她'</li><li>'驚呼'</li><li>'真是'</li><li>'刺激'</li><li>'一天'</li><li>'外'</li><li>'媒'</li><li>'報導'</li><li>'指'</li><li>'蘇伊士運河'</li><li>'是'</li><li>'世界'</li><li>'上'</li><li>'最'</li><li>'忙碌'</li><li>'水道'</li><li>'之一'</li><li>'但'</li><li>'受到'</li><li>'去年'</li><li>'新冠'</li><li>'肺炎'</li><li>'COVID'</li><li>'19'</li><li>'疫情'</li><li>'影響'</li><li>'收入'</li><li>'下降'</li><li>'3'</li><li>'至'</li><li>'56.1'</li><li>'億美元'</li><li>'埃及'</li><li>'總統'</li><li>'阿卜杜勒'</li><li>'法塔赫'</li><li>'・'</li><li>'塞'</li><li>'西'</li><li>'Abdel'</li><li>'Fattah'</li><li>'Al'</li><li>'Sisi'</li><li>'先前'</li><li>'宣布'</li><li>'要'</li><li>'整修'</li><li>'這條'</li><li>'擁有'</li><li>'數百年'</li><li>'歷史'</li><li>'運河'</li></ol>\n"
            ]
          },
          "metadata": {
            "tags": []
          }
        }
      ]
    },
    {
      "cell_type": "code",
      "metadata": {
        "colab": {
          "base_uri": "https://localhost:8080/",
          "height": 283
        },
        "id": "D3j6xbz6t4MW",
        "outputId": "5a13d39d-909e-42a8-a83e-c8211863fcbe"
      },
      "source": [
        "# 計算詞彙頻率\n",
        "txt_freq <- freq(seg_words)\n",
        "# 由大到小排列\n",
        "txt_freq <- arrange(txt_freq, desc(freq))\n",
        "# 檢查前5名\n",
        "head(txt_freq)"
      ],
      "execution_count": 12,
      "outputs": [
        {
          "output_type": "display_data",
          "data": {
            "text/plain": [
              "  char       freq\n",
              "1 擱淺       7   \n",
              "2 長榮       6   \n",
              "3 輪         6   \n",
              "4 貨櫃       6   \n",
              "5 蘇伊士運河 4   \n",
              "6 數據       4   "
            ],
            "text/latex": "A data.frame: 6 × 2\n\\begin{tabular}{r|ll}\n  & char & freq\\\\\n  & <chr> & <dbl>\\\\\n\\hline\n\t1 & 擱淺       & 7\\\\\n\t2 & 長榮       & 6\\\\\n\t3 & 輪         & 6\\\\\n\t4 & 貨櫃       & 6\\\\\n\t5 & 蘇伊士運河 & 4\\\\\n\t6 & 數據       & 4\\\\\n\\end{tabular}\n",
            "text/markdown": "\nA data.frame: 6 × 2\n\n| <!--/--> | char &lt;chr&gt; | freq &lt;dbl&gt; |\n|---|---|---|\n| 1 | 擱淺       | 7 |\n| 2 | 長榮       | 6 |\n| 3 | 輪         | 6 |\n| 4 | 貨櫃       | 6 |\n| 5 | 蘇伊士運河 | 4 |\n| 6 | 數據       | 4 |\n\n",
            "text/html": [
              "<table class=\"dataframe\">\n",
              "<caption>A data.frame: 6 × 2</caption>\n",
              "<thead>\n",
              "\t<tr><th></th><th scope=col>char</th><th scope=col>freq</th></tr>\n",
              "\t<tr><th></th><th scope=col>&lt;chr&gt;</th><th scope=col>&lt;dbl&gt;</th></tr>\n",
              "</thead>\n",
              "<tbody>\n",
              "\t<tr><th scope=row>1</th><td>擱淺      </td><td>7</td></tr>\n",
              "\t<tr><th scope=row>2</th><td>長榮      </td><td>6</td></tr>\n",
              "\t<tr><th scope=row>3</th><td>輪        </td><td>6</td></tr>\n",
              "\t<tr><th scope=row>4</th><td>貨櫃      </td><td>6</td></tr>\n",
              "\t<tr><th scope=row>5</th><td>蘇伊士運河</td><td>4</td></tr>\n",
              "\t<tr><th scope=row>6</th><td>數據      </td><td>4</td></tr>\n",
              "</tbody>\n",
              "</table>\n"
            ]
          },
          "metadata": {
            "tags": []
          }
        }
      ]
    },
    {
      "cell_type": "code",
      "metadata": {
        "colab": {
          "base_uri": "https://localhost:8080/",
          "height": 1000
        },
        "id": "mWNzGfZSt7ti",
        "outputId": "0cd02675-dcc2-4d1c-f4dd-d0677824de57"
      },
      "source": [
        "par(family=(\"Microsoft YaHei\")) #一般wordcloud需要定義字體，不然會無法顯示中文\n",
        "# 一般的文字雲 (pkg: wordcloud)\n",
        "wordcloud(txt_freq$char, txt_freq$freq, min.freq = 2, random.order = F, ordered.colors = F, colors = rainbow(nrow(txt_freq)))"
      ],
      "execution_count": 17,
      "outputs": [
        {
          "output_type": "stream",
          "text": [
            "Warning message in strwidth(words[i], cex = size[i], ...):\n",
            "“font family 'Microsoft YaHei' not found, will use 'wqy-microhei' instead”\n",
            "Warning message in strheight(words[i], cex = size[i], ...):\n",
            "“font family 'Microsoft YaHei' not found, will use 'sans' instead”\n",
            "Warning message in text.default(x1, y1, words[i], cex = size[i], offset = 0, srt = rotWord * :\n",
            "“font family 'Microsoft YaHei' not found, will use 'wqy-microhei' instead”\n",
            "Warning message in text.default(x1, y1, words[i], cex = size[i], offset = 0, srt = rotWord * :\n",
            "“font family 'Microsoft YaHei' not found, will use 'wqy-microhei' instead”\n",
            "Warning message in text.default(x1, y1, words[i], cex = size[i], offset = 0, srt = rotWord * :\n",
            "“font family 'Microsoft YaHei' not found, will use 'wqy-microhei' instead”\n",
            "Warning message in text.default(x1, y1, words[i], cex = size[i], offset = 0, srt = rotWord * :\n",
            "“font family 'Microsoft YaHei' not found, will use 'wqy-microhei' instead”\n",
            "Warning message in strwidth(words[i], cex = size[i], ...):\n",
            "“font family 'Microsoft YaHei' not found, will use 'wqy-microhei' instead”\n",
            "Warning message in strheight(words[i], cex = size[i], ...):\n",
            "“font family 'Microsoft YaHei' not found, will use 'sans' instead”\n",
            "Warning message in text.default(x1, y1, words[i], cex = size[i], offset = 0, srt = rotWord * :\n",
            "“font family 'Microsoft YaHei' not found, will use 'wqy-microhei' instead”\n",
            "Warning message in text.default(x1, y1, words[i], cex = size[i], offset = 0, srt = rotWord * :\n",
            "“font family 'Microsoft YaHei' not found, will use 'wqy-microhei' instead”\n",
            "Warning message in text.default(x1, y1, words[i], cex = size[i], offset = 0, srt = rotWord * :\n",
            "“font family 'Microsoft YaHei' not found, will use 'wqy-microhei' instead”\n",
            "Warning message in text.default(x1, y1, words[i], cex = size[i], offset = 0, srt = rotWord * :\n",
            "“font family 'Microsoft YaHei' not found, will use 'wqy-microhei' instead”\n",
            "Warning message in strwidth(words[i], cex = size[i], ...):\n",
            "“font family 'Microsoft YaHei' not found, will use 'wqy-microhei' instead”\n",
            "Warning message in text.default(x1, y1, words[i], cex = size[i], offset = 0, srt = rotWord * :\n",
            "“font family 'Microsoft YaHei' not found, will use 'wqy-microhei' instead”\n",
            "Warning message in text.default(x1, y1, words[i], cex = size[i], offset = 0, srt = rotWord * :\n",
            "“font family 'Microsoft YaHei' not found, will use 'wqy-microhei' instead”\n",
            "Warning message in text.default(x1, y1, words[i], cex = size[i], offset = 0, srt = rotWord * :\n",
            "“font family 'Microsoft YaHei' not found, will use 'wqy-microhei' instead”\n",
            "Warning message in strwidth(words[i], cex = size[i], ...):\n",
            "“font family 'Microsoft YaHei' not found, will use 'wqy-microhei' instead”\n",
            "Warning message in text.default(x1, y1, words[i], cex = size[i], offset = 0, srt = rotWord * :\n",
            "“font family 'Microsoft YaHei' not found, will use 'wqy-microhei' instead”\n",
            "Warning message in text.default(x1, y1, words[i], cex = size[i], offset = 0, srt = rotWord * :\n",
            "“font family 'Microsoft YaHei' not found, will use 'wqy-microhei' instead”\n",
            "Warning message in text.default(x1, y1, words[i], cex = size[i], offset = 0, srt = rotWord * :\n",
            "“font family 'Microsoft YaHei' not found, will use 'wqy-microhei' instead”\n",
            "Warning message in text.default(x1, y1, words[i], cex = size[i], offset = 0, srt = rotWord * :\n",
            "“font family 'Microsoft YaHei' not found, will use 'wqy-microhei' instead”\n",
            "Warning message in strwidth(words[i], cex = size[i], ...):\n",
            "“font family 'Microsoft YaHei' not found, will use 'wqy-microhei' instead”\n",
            "Warning message in strheight(words[i], cex = size[i], ...):\n",
            "“font family 'Microsoft YaHei' not found, will use 'sans' instead”\n",
            "Warning message in text.default(x1, y1, words[i], cex = size[i], offset = 0, srt = rotWord * :\n",
            "“font family 'Microsoft YaHei' not found, will use 'wqy-microhei' instead”\n",
            "Warning message in text.default(x1, y1, words[i], cex = size[i], offset = 0, srt = rotWord * :\n",
            "“font family 'Microsoft YaHei' not found, will use 'wqy-microhei' instead”\n",
            "Warning message in text.default(x1, y1, words[i], cex = size[i], offset = 0, srt = rotWord * :\n",
            "“font family 'Microsoft YaHei' not found, will use 'wqy-microhei' instead”\n",
            "Warning message in text.default(x1, y1, words[i], cex = size[i], offset = 0, srt = rotWord * :\n",
            "“font family 'Microsoft YaHei' not found, will use 'wqy-microhei' instead”\n",
            "Warning message in text.default(x1, y1, words[i], cex = size[i], offset = 0, srt = rotWord * :\n",
            "“font family 'Microsoft YaHei' not found, will use 'wqy-microhei' instead”\n",
            "Warning message in text.default(x1, y1, words[i], cex = size[i], offset = 0, srt = rotWord * :\n",
            "“font family 'Microsoft YaHei' not found, will use 'wqy-microhei' instead”\n",
            "Warning message in text.default(x1, y1, words[i], cex = size[i], offset = 0, srt = rotWord * :\n",
            "“font family 'Microsoft YaHei' not found, will use 'wqy-microhei' instead”\n",
            "Warning message in strwidth(words[i], cex = size[i], ...):\n",
            "“font family 'Microsoft YaHei' not found, will use 'wqy-microhei' instead”\n",
            "Warning message in text.default(x1, y1, words[i], cex = size[i], offset = 0, srt = rotWord * :\n",
            "“font family 'Microsoft YaHei' not found, will use 'wqy-microhei' instead”\n",
            "Warning message in text.default(x1, y1, words[i], cex = size[i], offset = 0, srt = rotWord * :\n",
            "“font family 'Microsoft YaHei' not found, will use 'wqy-microhei' instead”\n",
            "Warning message in text.default(x1, y1, words[i], cex = size[i], offset = 0, srt = rotWord * :\n",
            "“font family 'Microsoft YaHei' not found, will use 'wqy-microhei' instead”\n",
            "Warning message in text.default(x1, y1, words[i], cex = size[i], offset = 0, srt = rotWord * :\n",
            "“font family 'Microsoft YaHei' not found, will use 'wqy-microhei' instead”\n",
            "Warning message in strwidth(words[i], cex = size[i], ...):\n",
            "“font family 'Microsoft YaHei' not found, will use 'wqy-microhei' instead”\n",
            "Warning message in text.default(x1, y1, words[i], cex = size[i], offset = 0, srt = rotWord * :\n",
            "“font family 'Microsoft YaHei' not found, will use 'wqy-microhei' instead”\n",
            "Warning message in text.default(x1, y1, words[i], cex = size[i], offset = 0, srt = rotWord * :\n",
            "“font family 'Microsoft YaHei' not found, will use 'wqy-microhei' instead”\n",
            "Warning message in text.default(x1, y1, words[i], cex = size[i], offset = 0, srt = rotWord * :\n",
            "“font family 'Microsoft YaHei' not found, will use 'wqy-microhei' instead”\n",
            "Warning message in text.default(x1, y1, words[i], cex = size[i], offset = 0, srt = rotWord * :\n",
            "“font family 'Microsoft YaHei' not found, will use 'wqy-microhei' instead”\n",
            "Warning message in strwidth(words[i], cex = size[i], ...):\n",
            "“font family 'Microsoft YaHei' not found, will use 'sans' instead”\n",
            "Warning message in text.default(x1, y1, words[i], cex = size[i], offset = 0, srt = rotWord * :\n",
            "“font family 'Microsoft YaHei' not found, will use 'sans' instead”\n",
            "Warning message in text.default(x1, y1, words[i], cex = size[i], offset = 0, srt = rotWord * :\n",
            "“font family 'Microsoft YaHei' not found, will use 'sans' instead”\n",
            "Warning message in text.default(x1, y1, words[i], cex = size[i], offset = 0, srt = rotWord * :\n",
            "“font family 'Microsoft YaHei' not found, will use 'sans' instead”\n",
            "Warning message in text.default(x1, y1, words[i], cex = size[i], offset = 0, srt = rotWord * :\n",
            "“font family 'Microsoft YaHei' not found, will use 'sans' instead”\n",
            "Warning message in text.default(x1, y1, words[i], cex = size[i], offset = 0, srt = rotWord * :\n",
            "“font family 'Microsoft YaHei' not found, will use 'sans' instead”\n",
            "Warning message in text.default(x1, y1, words[i], cex = size[i], offset = 0, srt = rotWord * :\n",
            "“font family 'Microsoft YaHei' not found, will use 'sans' instead”\n",
            "Warning message in strwidth(words[i], cex = size[i], ...):\n",
            "“font family 'Microsoft YaHei' not found, will use 'wqy-microhei' instead”\n",
            "Warning message in text.default(x1, y1, words[i], cex = size[i], offset = 0, srt = rotWord * :\n",
            "“font family 'Microsoft YaHei' not found, will use 'wqy-microhei' instead”\n",
            "Warning message in text.default(x1, y1, words[i], cex = size[i], offset = 0, srt = rotWord * :\n",
            "“font family 'Microsoft YaHei' not found, will use 'wqy-microhei' instead”\n",
            "Warning message in text.default(x1, y1, words[i], cex = size[i], offset = 0, srt = rotWord * :\n",
            "“font family 'Microsoft YaHei' not found, will use 'wqy-microhei' instead”\n",
            "Warning message in text.default(x1, y1, words[i], cex = size[i], offset = 0, srt = rotWord * :\n",
            "“font family 'Microsoft YaHei' not found, will use 'wqy-microhei' instead”\n",
            "Warning message in strwidth(words[i], cex = size[i], ...):\n",
            "“font family 'Microsoft YaHei' not found, will use 'wqy-microhei' instead”\n",
            "Warning message in text.default(x1, y1, words[i], cex = size[i], offset = 0, srt = rotWord * :\n",
            "“font family 'Microsoft YaHei' not found, will use 'wqy-microhei' instead”\n",
            "Warning message in text.default(x1, y1, words[i], cex = size[i], offset = 0, srt = rotWord * :\n",
            "“font family 'Microsoft YaHei' not found, will use 'wqy-microhei' instead”\n",
            "Warning message in text.default(x1, y1, words[i], cex = size[i], offset = 0, srt = rotWord * :\n",
            "“font family 'Microsoft YaHei' not found, will use 'wqy-microhei' instead”\n",
            "Warning message in strwidth(words[i], cex = size[i], ...):\n",
            "“font family 'Microsoft YaHei' not found, will use 'wqy-microhei' instead”\n",
            "Warning message in text.default(x1, y1, words[i], cex = size[i], offset = 0, srt = rotWord * :\n",
            "“font family 'Microsoft YaHei' not found, will use 'wqy-microhei' instead”\n",
            "Warning message in text.default(x1, y1, words[i], cex = size[i], offset = 0, srt = rotWord * :\n",
            "“font family 'Microsoft YaHei' not found, will use 'wqy-microhei' instead”\n",
            "Warning message in text.default(x1, y1, words[i], cex = size[i], offset = 0, srt = rotWord * :\n",
            "“font family 'Microsoft YaHei' not found, will use 'wqy-microhei' instead”\n",
            "Warning message in text.default(x1, y1, words[i], cex = size[i], offset = 0, srt = rotWord * :\n",
            "“font family 'Microsoft YaHei' not found, will use 'wqy-microhei' instead”\n",
            "Warning message in strwidth(words[i], cex = size[i], ...):\n",
            "“font family 'Microsoft YaHei' not found, will use 'wqy-microhei' instead”\n",
            "Warning message in strheight(words[i], cex = size[i], ...):\n",
            "“font family 'Microsoft YaHei' not found, will use 'sans' instead”\n",
            "Warning message in text.default(x1, y1, words[i], cex = size[i], offset = 0, srt = rotWord * :\n",
            "“font family 'Microsoft YaHei' not found, will use 'wqy-microhei' instead”\n",
            "Warning message in text.default(x1, y1, words[i], cex = size[i], offset = 0, srt = rotWord * :\n",
            "“font family 'Microsoft YaHei' not found, will use 'wqy-microhei' instead”\n",
            "Warning message in text.default(x1, y1, words[i], cex = size[i], offset = 0, srt = rotWord * :\n",
            "“font family 'Microsoft YaHei' not found, will use 'wqy-microhei' instead”\n",
            "Warning message in strwidth(words[i], cex = size[i], ...):\n",
            "“font family 'Microsoft YaHei' not found, will use 'wqy-microhei' instead”\n",
            "Warning message in text.default(x1, y1, words[i], cex = size[i], offset = 0, srt = rotWord * :\n",
            "“font family 'Microsoft YaHei' not found, will use 'wqy-microhei' instead”\n",
            "Warning message in text.default(x1, y1, words[i], cex = size[i], offset = 0, srt = rotWord * :\n",
            "“font family 'Microsoft YaHei' not found, will use 'wqy-microhei' instead”\n",
            "Warning message in text.default(x1, y1, words[i], cex = size[i], offset = 0, srt = rotWord * :\n",
            "“font family 'Microsoft YaHei' not found, will use 'wqy-microhei' instead”\n",
            "Warning message in strwidth(words[i], cex = size[i], ...):\n",
            "“font family 'Microsoft YaHei' not found, will use 'sans' instead”\n",
            "Warning message in text.default(x1, y1, words[i], cex = size[i], offset = 0, srt = rotWord * :\n",
            "“font family 'Microsoft YaHei' not found, will use 'sans' instead”\n",
            "Warning message in text.default(x1, y1, words[i], cex = size[i], offset = 0, srt = rotWord * :\n",
            "“font family 'Microsoft YaHei' not found, will use 'sans' instead”\n",
            "Warning message in text.default(x1, y1, words[i], cex = size[i], offset = 0, srt = rotWord * :\n",
            "“font family 'Microsoft YaHei' not found, will use 'sans' instead”\n",
            "Warning message in text.default(x1, y1, words[i], cex = size[i], offset = 0, srt = rotWord * :\n",
            "“font family 'Microsoft YaHei' not found, will use 'sans' instead”\n",
            "Warning message in text.default(x1, y1, words[i], cex = size[i], offset = 0, srt = rotWord * :\n",
            "“font family 'Microsoft YaHei' not found, will use 'sans' instead”\n",
            "Warning message in text.default(x1, y1, words[i], cex = size[i], offset = 0, srt = rotWord * :\n",
            "“font family 'Microsoft YaHei' not found, will use 'sans' instead”\n",
            "Warning message in text.default(x1, y1, words[i], cex = size[i], offset = 0, srt = rotWord * :\n",
            "“font family 'Microsoft YaHei' not found, will use 'sans' instead”\n",
            "Warning message in strwidth(words[i], cex = size[i], ...):\n",
            "“font family 'Microsoft YaHei' not found, will use 'wqy-microhei' instead”\n",
            "Warning message in text.default(x1, y1, words[i], cex = size[i], offset = 0, srt = rotWord * :\n",
            "“font family 'Microsoft YaHei' not found, will use 'wqy-microhei' instead”\n",
            "Warning message in text.default(x1, y1, words[i], cex = size[i], offset = 0, srt = rotWord * :\n",
            "“font family 'Microsoft YaHei' not found, will use 'wqy-microhei' instead”\n",
            "Warning message in text.default(x1, y1, words[i], cex = size[i], offset = 0, srt = rotWord * :\n",
            "“font family 'Microsoft YaHei' not found, will use 'wqy-microhei' instead”\n",
            "Warning message in strwidth(words[i], cex = size[i], ...):\n",
            "“font family 'Microsoft YaHei' not found, will use 'wqy-microhei' instead”\n",
            "Warning message in text.default(x1, y1, words[i], cex = size[i], offset = 0, srt = rotWord * :\n",
            "“font family 'Microsoft YaHei' not found, will use 'wqy-microhei' instead”\n",
            "Warning message in text.default(x1, y1, words[i], cex = size[i], offset = 0, srt = rotWord * :\n",
            "“font family 'Microsoft YaHei' not found, will use 'wqy-microhei' instead”\n",
            "Warning message in text.default(x1, y1, words[i], cex = size[i], offset = 0, srt = rotWord * :\n",
            "“font family 'Microsoft YaHei' not found, will use 'wqy-microhei' instead”\n",
            "Warning message in strwidth(words[i], cex = size[i], ...):\n",
            "“font family 'Microsoft YaHei' not found, will use 'wqy-microhei' instead”\n",
            "Warning message in text.default(x1, y1, words[i], cex = size[i], offset = 0, srt = rotWord * :\n",
            "“font family 'Microsoft YaHei' not found, will use 'wqy-microhei' instead”\n",
            "Warning message in text.default(x1, y1, words[i], cex = size[i], offset = 0, srt = rotWord * :\n",
            "“font family 'Microsoft YaHei' not found, will use 'wqy-microhei' instead”\n",
            "Warning message in text.default(x1, y1, words[i], cex = size[i], offset = 0, srt = rotWord * :\n",
            "“font family 'Microsoft YaHei' not found, will use 'wqy-microhei' instead”\n",
            "Warning message in text.default(x1, y1, words[i], cex = size[i], offset = 0, srt = rotWord * :\n",
            "“font family 'Microsoft YaHei' not found, will use 'wqy-microhei' instead”\n",
            "Warning message in strwidth(words[i], cex = size[i], ...):\n",
            "“font family 'Microsoft YaHei' not found, will use 'wqy-microhei' instead”\n",
            "Warning message in text.default(x1, y1, words[i], cex = size[i], offset = 0, srt = rotWord * :\n",
            "“font family 'Microsoft YaHei' not found, will use 'wqy-microhei' instead”\n",
            "Warning message in text.default(x1, y1, words[i], cex = size[i], offset = 0, srt = rotWord * :\n",
            "“font family 'Microsoft YaHei' not found, will use 'wqy-microhei' instead”\n",
            "Warning message in text.default(x1, y1, words[i], cex = size[i], offset = 0, srt = rotWord * :\n",
            "“font family 'Microsoft YaHei' not found, will use 'wqy-microhei' instead”\n",
            "Warning message in strwidth(words[i], cex = size[i], ...):\n",
            "“font family 'Microsoft YaHei' not found, will use 'sans' instead”\n",
            "Warning message in text.default(x1, y1, words[i], cex = size[i], offset = 0, srt = rotWord * :\n",
            "“font family 'Microsoft YaHei' not found, will use 'sans' instead”\n",
            "Warning message in text.default(x1, y1, words[i], cex = size[i], offset = 0, srt = rotWord * :\n",
            "“font family 'Microsoft YaHei' not found, will use 'sans' instead”\n",
            "Warning message in text.default(x1, y1, words[i], cex = size[i], offset = 0, srt = rotWord * :\n",
            "“font family 'Microsoft YaHei' not found, will use 'sans' instead”\n",
            "Warning message in text.default(x1, y1, words[i], cex = size[i], offset = 0, srt = rotWord * :\n",
            "“font family 'Microsoft YaHei' not found, will use 'sans' instead”\n",
            "Warning message in text.default(x1, y1, words[i], cex = size[i], offset = 0, srt = rotWord * :\n",
            "“font family 'Microsoft YaHei' not found, will use 'sans' instead”\n",
            "Warning message in text.default(x1, y1, words[i], cex = size[i], offset = 0, srt = rotWord * :\n",
            "“font family 'Microsoft YaHei' not found, will use 'sans' instead”\n",
            "Warning message in text.default(x1, y1, words[i], cex = size[i], offset = 0, srt = rotWord * :\n",
            "“font family 'Microsoft YaHei' not found, will use 'sans' instead”\n",
            "Warning message in text.default(x1, y1, words[i], cex = size[i], offset = 0, srt = rotWord * :\n",
            "“font family 'Microsoft YaHei' not found, will use 'sans' instead”\n",
            "Warning message in strwidth(words[i], cex = size[i], ...):\n",
            "“font family 'Microsoft YaHei' not found, will use 'wqy-microhei' instead”\n",
            "Warning message in text.default(x1, y1, words[i], cex = size[i], offset = 0, srt = rotWord * :\n",
            "“font family 'Microsoft YaHei' not found, will use 'wqy-microhei' instead”\n",
            "Warning message in text.default(x1, y1, words[i], cex = size[i], offset = 0, srt = rotWord * :\n",
            "“font family 'Microsoft YaHei' not found, will use 'wqy-microhei' instead”\n",
            "Warning message in text.default(x1, y1, words[i], cex = size[i], offset = 0, srt = rotWord * :\n",
            "“font family 'Microsoft YaHei' not found, will use 'wqy-microhei' instead”\n",
            "Warning message in strwidth(words[i], cex = size[i], ...):\n",
            "“font family 'Microsoft YaHei' not found, will use 'wqy-microhei' instead”\n",
            "Warning message in text.default(x1, y1, words[i], cex = size[i], offset = 0, srt = rotWord * :\n",
            "“font family 'Microsoft YaHei' not found, will use 'wqy-microhei' instead”\n",
            "Warning message in text.default(x1, y1, words[i], cex = size[i], offset = 0, srt = rotWord * :\n",
            "“font family 'Microsoft YaHei' not found, will use 'wqy-microhei' instead”\n",
            "Warning message in text.default(x1, y1, words[i], cex = size[i], offset = 0, srt = rotWord * :\n",
            "“font family 'Microsoft YaHei' not found, will use 'wqy-microhei' instead”\n",
            "Warning message in strwidth(words[i], cex = size[i], ...):\n",
            "“font family 'Microsoft YaHei' not found, will use 'sans' instead”\n",
            "Warning message in text.default(x1, y1, words[i], cex = size[i], offset = 0, srt = rotWord * :\n",
            "“font family 'Microsoft YaHei' not found, will use 'sans' instead”\n",
            "Warning message in text.default(x1, y1, words[i], cex = size[i], offset = 0, srt = rotWord * :\n",
            "“font family 'Microsoft YaHei' not found, will use 'sans' instead”\n",
            "Warning message in text.default(x1, y1, words[i], cex = size[i], offset = 0, srt = rotWord * :\n",
            "“font family 'Microsoft YaHei' not found, will use 'sans' instead”\n",
            "Warning message in text.default(x1, y1, words[i], cex = size[i], offset = 0, srt = rotWord * :\n",
            "“font family 'Microsoft YaHei' not found, will use 'sans' instead”\n",
            "Warning message in text.default(x1, y1, words[i], cex = size[i], offset = 0, srt = rotWord * :\n",
            "“font family 'Microsoft YaHei' not found, will use 'sans' instead”\n",
            "Warning message in text.default(x1, y1, words[i], cex = size[i], offset = 0, srt = rotWord * :\n",
            "“font family 'Microsoft YaHei' not found, will use 'sans' instead”\n",
            "Warning message in text.default(x1, y1, words[i], cex = size[i], offset = 0, srt = rotWord * :\n",
            "“font family 'Microsoft YaHei' not found, will use 'sans' instead”\n",
            "Warning message in strwidth(words[i], cex = size[i], ...):\n",
            "“font family 'Microsoft YaHei' not found, will use 'wqy-microhei' instead”\n",
            "Warning message in strheight(words[i], cex = size[i], ...):\n",
            "“font family 'Microsoft YaHei' not found, will use 'sans' instead”\n",
            "Warning message in text.default(x1, y1, words[i], cex = size[i], offset = 0, srt = rotWord * :\n",
            "“font family 'Microsoft YaHei' not found, will use 'wqy-microhei' instead”\n",
            "Warning message in text.default(x1, y1, words[i], cex = size[i], offset = 0, srt = rotWord * :\n",
            "“font family 'Microsoft YaHei' not found, will use 'wqy-microhei' instead”\n",
            "Warning message in text.default(x1, y1, words[i], cex = size[i], offset = 0, srt = rotWord * :\n",
            "“font family 'Microsoft YaHei' not found, will use 'wqy-microhei' instead”\n",
            "Warning message in text.default(x1, y1, words[i], cex = size[i], offset = 0, srt = rotWord * :\n",
            "“font family 'Microsoft YaHei' not found, will use 'wqy-microhei' instead”\n",
            "Warning message in strwidth(words[i], cex = size[i], ...):\n",
            "“font family 'Microsoft YaHei' not found, will use 'sans' instead”\n",
            "Warning message in text.default(x1, y1, words[i], cex = size[i], offset = 0, srt = rotWord * :\n",
            "“font family 'Microsoft YaHei' not found, will use 'sans' instead”\n",
            "Warning message in text.default(x1, y1, words[i], cex = size[i], offset = 0, srt = rotWord * :\n",
            "“font family 'Microsoft YaHei' not found, will use 'sans' instead”\n",
            "Warning message in text.default(x1, y1, words[i], cex = size[i], offset = 0, srt = rotWord * :\n",
            "“font family 'Microsoft YaHei' not found, will use 'sans' instead”\n",
            "Warning message in text.default(x1, y1, words[i], cex = size[i], offset = 0, srt = rotWord * :\n",
            "“font family 'Microsoft YaHei' not found, will use 'sans' instead”\n",
            "Warning message in text.default(x1, y1, words[i], cex = size[i], offset = 0, srt = rotWord * :\n",
            "“font family 'Microsoft YaHei' not found, will use 'sans' instead”\n",
            "Warning message in text.default(x1, y1, words[i], cex = size[i], offset = 0, srt = rotWord * :\n",
            "“font family 'Microsoft YaHei' not found, will use 'sans' instead”\n",
            "Warning message in text.default(x1, y1, words[i], cex = size[i], offset = 0, srt = rotWord * :\n",
            "“font family 'Microsoft YaHei' not found, will use 'sans' instead”\n",
            "Warning message in text.default(x1, y1, words[i], cex = size[i], offset = 0, srt = rotWord * :\n",
            "“font family 'Microsoft YaHei' not found, will use 'sans' instead”\n",
            "Warning message in text.default(x1, y1, words[i], cex = size[i], offset = 0, srt = rotWord * :\n",
            "“font family 'Microsoft YaHei' not found, will use 'sans' instead”\n",
            "Warning message in text.default(x1, y1, words[i], cex = size[i], offset = 0, srt = rotWord * :\n",
            "“font family 'Microsoft YaHei' not found, will use 'sans' instead”\n",
            "Warning message in text.default(x1, y1, words[i], cex = size[i], offset = 0, srt = rotWord * :\n",
            "“font family 'Microsoft YaHei' not found, will use 'sans' instead”\n",
            "Warning message in text.default(x1, y1, words[i], cex = size[i], offset = 0, srt = rotWord * :\n",
            "“font family 'Microsoft YaHei' not found, will use 'sans' instead”\n",
            "Warning message in text.default(x1, y1, words[i], cex = size[i], offset = 0, srt = rotWord * :\n",
            "“font family 'Microsoft YaHei' not found, will use 'sans' instead”\n",
            "Warning message in text.default(x1, y1, words[i], cex = size[i], offset = 0, srt = rotWord * :\n",
            "“font family 'Microsoft YaHei' not found, will use 'sans' instead”\n",
            "Warning message in strwidth(words[i], cex = size[i], ...):\n",
            "“font family 'Microsoft YaHei' not found, will use 'sans' instead”\n",
            "Warning message in text.default(x1, y1, words[i], cex = size[i], offset = 0, srt = rotWord * :\n",
            "“font family 'Microsoft YaHei' not found, will use 'sans' instead”\n",
            "Warning message in text.default(x1, y1, words[i], cex = size[i], offset = 0, srt = rotWord * :\n",
            "“font family 'Microsoft YaHei' not found, will use 'sans' instead”\n",
            "Warning message in text.default(x1, y1, words[i], cex = size[i], offset = 0, srt = rotWord * :\n",
            "“font family 'Microsoft YaHei' not found, will use 'sans' instead”\n",
            "Warning message in strwidth(words[i], cex = size[i], ...):\n",
            "“font family 'Microsoft YaHei' not found, will use 'wqy-microhei' instead”\n",
            "Warning message in text.default(x1, y1, words[i], cex = size[i], offset = 0, srt = rotWord * :\n",
            "“font family 'Microsoft YaHei' not found, will use 'wqy-microhei' instead”\n",
            "Warning message in text.default(x1, y1, words[i], cex = size[i], offset = 0, srt = rotWord * :\n",
            "“font family 'Microsoft YaHei' not found, will use 'wqy-microhei' instead”\n",
            "Warning message in text.default(x1, y1, words[i], cex = size[i], offset = 0, srt = rotWord * :\n",
            "“font family 'Microsoft YaHei' not found, will use 'wqy-microhei' instead”\n",
            "Warning message in strwidth(words[i], cex = size[i], ...):\n",
            "“font family 'Microsoft YaHei' not found, will use 'sans' instead”\n",
            "Warning message in text.default(x1, y1, words[i], cex = size[i], offset = 0, srt = rotWord * :\n",
            "“font family 'Microsoft YaHei' not found, will use 'sans' instead”\n",
            "Warning message in text.default(x1, y1, words[i], cex = size[i], offset = 0, srt = rotWord * :\n",
            "“font family 'Microsoft YaHei' not found, will use 'sans' instead”\n",
            "Warning message in text.default(x1, y1, words[i], cex = size[i], offset = 0, srt = rotWord * :\n",
            "“font family 'Microsoft YaHei' not found, will use 'sans' instead”\n",
            "Warning message in text.default(x1, y1, words[i], cex = size[i], offset = 0, srt = rotWord * :\n",
            "“font family 'Microsoft YaHei' not found, will use 'sans' instead”\n",
            "Warning message in text.default(x1, y1, words[i], cex = size[i], offset = 0, srt = rotWord * :\n",
            "“font family 'Microsoft YaHei' not found, will use 'sans' instead”\n",
            "Warning message in text.default(x1, y1, words[i], cex = size[i], offset = 0, srt = rotWord * :\n",
            "“font family 'Microsoft YaHei' not found, will use 'sans' instead”\n",
            "Warning message in text.default(x1, y1, words[i], cex = size[i], offset = 0, srt = rotWord * :\n",
            "“font family 'Microsoft YaHei' not found, will use 'sans' instead”\n",
            "Warning message in text.default(x1, y1, words[i], cex = size[i], offset = 0, srt = rotWord * :\n",
            "“font family 'Microsoft YaHei' not found, will use 'sans' instead”\n",
            "Warning message in text.default(x1, y1, words[i], cex = size[i], offset = 0, srt = rotWord * :\n",
            "“font family 'Microsoft YaHei' not found, will use 'sans' instead”\n",
            "Warning message in strwidth(words[i], cex = size[i], ...):\n",
            "“font family 'Microsoft YaHei' not found, will use 'wqy-microhei' instead”\n",
            "Warning message in text.default(x1, y1, words[i], cex = size[i], offset = 0, srt = rotWord * :\n",
            "“font family 'Microsoft YaHei' not found, will use 'wqy-microhei' instead”\n",
            "Warning message in text.default(x1, y1, words[i], cex = size[i], offset = 0, srt = rotWord * :\n",
            "“font family 'Microsoft YaHei' not found, will use 'wqy-microhei' instead”\n",
            "Warning message in text.default(x1, y1, words[i], cex = size[i], offset = 0, srt = rotWord * :\n",
            "“font family 'Microsoft YaHei' not found, will use 'wqy-microhei' instead”\n",
            "Warning message in strwidth(words[i], cex = size[i], ...):\n",
            "“font family 'Microsoft YaHei' not found, will use 'wqy-microhei' instead”\n",
            "Warning message in text.default(x1, y1, words[i], cex = size[i], offset = 0, srt = rotWord * :\n",
            "“font family 'Microsoft YaHei' not found, will use 'wqy-microhei' instead”\n",
            "Warning message in text.default(x1, y1, words[i], cex = size[i], offset = 0, srt = rotWord * :\n",
            "“font family 'Microsoft YaHei' not found, will use 'wqy-microhei' instead”\n",
            "Warning message in text.default(x1, y1, words[i], cex = size[i], offset = 0, srt = rotWord * :\n",
            "“font family 'Microsoft YaHei' not found, will use 'wqy-microhei' instead”\n",
            "Warning message in text.default(x1, y1, words[i], cex = size[i], offset = 0, srt = rotWord * :\n",
            "“font family 'Microsoft YaHei' not found, will use 'wqy-microhei' instead”\n",
            "Warning message in strwidth(words[i], cex = size[i], ...):\n",
            "“font family 'Microsoft YaHei' not found, will use 'wqy-microhei' instead”\n",
            "Warning message in text.default(x1, y1, words[i], cex = size[i], offset = 0, srt = rotWord * :\n",
            "“font family 'Microsoft YaHei' not found, will use 'wqy-microhei' instead”\n",
            "Warning message in text.default(x1, y1, words[i], cex = size[i], offset = 0, srt = rotWord * :\n",
            "“font family 'Microsoft YaHei' not found, will use 'wqy-microhei' instead”\n",
            "Warning message in text.default(x1, y1, words[i], cex = size[i], offset = 0, srt = rotWord * :\n",
            "“font family 'Microsoft YaHei' not found, will use 'wqy-microhei' instead”\n",
            "Warning message in text.default(x1, y1, words[i], cex = size[i], offset = 0, srt = rotWord * :\n",
            "“font family 'Microsoft YaHei' not found, will use 'wqy-microhei' instead”\n",
            "Warning message in strwidth(words[i], cex = size[i], ...):\n",
            "“font family 'Microsoft YaHei' not found, will use 'wqy-microhei' instead”\n",
            "Warning message in text.default(x1, y1, words[i], cex = size[i], offset = 0, srt = rotWord * :\n",
            "“font family 'Microsoft YaHei' not found, will use 'wqy-microhei' instead”\n",
            "Warning message in text.default(x1, y1, words[i], cex = size[i], offset = 0, srt = rotWord * :\n",
            "“font family 'Microsoft YaHei' not found, will use 'wqy-microhei' instead”\n",
            "Warning message in text.default(x1, y1, words[i], cex = size[i], offset = 0, srt = rotWord * :\n",
            "“font family 'Microsoft YaHei' not found, will use 'wqy-microhei' instead”\n",
            "Warning message in strwidth(words[i], cex = size[i], ...):\n",
            "“font family 'Microsoft YaHei' not found, will use 'wqy-microhei' instead”\n",
            "Warning message in text.default(x1, y1, words[i], cex = size[i], offset = 0, srt = rotWord * :\n",
            "“font family 'Microsoft YaHei' not found, will use 'wqy-microhei' instead”\n",
            "Warning message in text.default(x1, y1, words[i], cex = size[i], offset = 0, srt = rotWord * :\n",
            "“font family 'Microsoft YaHei' not found, will use 'wqy-microhei' instead”\n",
            "Warning message in text.default(x1, y1, words[i], cex = size[i], offset = 0, srt = rotWord * :\n",
            "“font family 'Microsoft YaHei' not found, will use 'wqy-microhei' instead”\n",
            "Warning message in text.default(x1, y1, words[i], cex = size[i], offset = 0, srt = rotWord * :\n",
            "“font family 'Microsoft YaHei' not found, will use 'wqy-microhei' instead”\n",
            "Warning message in strwidth(words[i], cex = size[i], ...):\n",
            "“font family 'Microsoft YaHei' not found, will use 'wqy-microhei' instead”\n",
            "Warning message in text.default(x1, y1, words[i], cex = size[i], offset = 0, srt = rotWord * :\n",
            "“font family 'Microsoft YaHei' not found, will use 'wqy-microhei' instead”\n",
            "Warning message in text.default(x1, y1, words[i], cex = size[i], offset = 0, srt = rotWord * :\n",
            "“font family 'Microsoft YaHei' not found, will use 'wqy-microhei' instead”\n",
            "Warning message in text.default(x1, y1, words[i], cex = size[i], offset = 0, srt = rotWord * :\n",
            "“font family 'Microsoft YaHei' not found, will use 'wqy-microhei' instead”\n",
            "Warning message in text.default(x1, y1, words[i], cex = size[i], offset = 0, srt = rotWord * :\n",
            "“font family 'Microsoft YaHei' not found, will use 'wqy-microhei' instead”\n",
            "Warning message in strwidth(words[i], cex = size[i], ...):\n",
            "“font family 'Microsoft YaHei' not found, will use 'sans' instead”\n",
            "Warning message in text.default(x1, y1, words[i], cex = size[i], offset = 0, srt = rotWord * :\n",
            "“font family 'Microsoft YaHei' not found, will use 'sans' instead”\n",
            "Warning message in text.default(x1, y1, words[i], cex = size[i], offset = 0, srt = rotWord * :\n",
            "“font family 'Microsoft YaHei' not found, will use 'sans' instead”\n",
            "Warning message in text.default(x1, y1, words[i], cex = size[i], offset = 0, srt = rotWord * :\n",
            "“font family 'Microsoft YaHei' not found, will use 'sans' instead”\n",
            "Warning message in text.default(x1, y1, words[i], cex = size[i], offset = 0, srt = rotWord * :\n",
            "“font family 'Microsoft YaHei' not found, will use 'sans' instead”\n",
            "Warning message in strwidth(words[i], cex = size[i], ...):\n",
            "“font family 'Microsoft YaHei' not found, will use 'wqy-microhei' instead”\n",
            "Warning message in text.default(x1, y1, words[i], cex = size[i], offset = 0, srt = rotWord * :\n",
            "“font family 'Microsoft YaHei' not found, will use 'wqy-microhei' instead”\n",
            "Warning message in text.default(x1, y1, words[i], cex = size[i], offset = 0, srt = rotWord * :\n",
            "“font family 'Microsoft YaHei' not found, will use 'wqy-microhei' instead”\n",
            "Warning message in text.default(x1, y1, words[i], cex = size[i], offset = 0, srt = rotWord * :\n",
            "“font family 'Microsoft YaHei' not found, will use 'wqy-microhei' instead”\n",
            "Warning message in text.default(x1, y1, words[i], cex = size[i], offset = 0, srt = rotWord * :\n",
            "“font family 'Microsoft YaHei' not found, will use 'wqy-microhei' instead”\n",
            "Warning message in strwidth(words[i], cex = size[i], ...):\n",
            "“font family 'Microsoft YaHei' not found, will use 'wqy-microhei' instead”\n",
            "Warning message in text.default(x1, y1, words[i], cex = size[i], offset = 0, srt = rotWord * :\n",
            "“font family 'Microsoft YaHei' not found, will use 'wqy-microhei' instead”\n",
            "Warning message in text.default(x1, y1, words[i], cex = size[i], offset = 0, srt = rotWord * :\n",
            "“font family 'Microsoft YaHei' not found, will use 'wqy-microhei' instead”\n",
            "Warning message in text.default(x1, y1, words[i], cex = size[i], offset = 0, srt = rotWord * :\n",
            "“font family 'Microsoft YaHei' not found, will use 'wqy-microhei' instead”\n",
            "Warning message in text.default(x1, y1, words[i], cex = size[i], offset = 0, srt = rotWord * :\n",
            "“font family 'Microsoft YaHei' not found, will use 'wqy-microhei' instead”\n",
            "Warning message in strwidth(words[i], cex = size[i], ...):\n",
            "“font family 'Microsoft YaHei' not found, will use 'wqy-microhei' instead”\n",
            "Warning message in text.default(x1, y1, words[i], cex = size[i], offset = 0, srt = rotWord * :\n",
            "“font family 'Microsoft YaHei' not found, will use 'wqy-microhei' instead”\n",
            "Warning message in text.default(x1, y1, words[i], cex = size[i], offset = 0, srt = rotWord * :\n",
            "“font family 'Microsoft YaHei' not found, will use 'wqy-microhei' instead”\n",
            "Warning message in text.default(x1, y1, words[i], cex = size[i], offset = 0, srt = rotWord * :\n",
            "“font family 'Microsoft YaHei' not found, will use 'wqy-microhei' instead”\n",
            "Warning message in text.default(x1, y1, words[i], cex = size[i], offset = 0, srt = rotWord * :\n",
            "“font family 'Microsoft YaHei' not found, will use 'wqy-microhei' instead”\n",
            "Warning message in strwidth(words[i], cex = size[i], ...):\n",
            "“font family 'Microsoft YaHei' not found, will use 'wqy-microhei' instead”\n",
            "Warning message in text.default(x1, y1, words[i], cex = size[i], offset = 0, srt = rotWord * :\n",
            "“font family 'Microsoft YaHei' not found, will use 'wqy-microhei' instead”\n",
            "Warning message in text.default(x1, y1, words[i], cex = size[i], offset = 0, srt = rotWord * :\n",
            "“font family 'Microsoft YaHei' not found, will use 'wqy-microhei' instead”\n",
            "Warning message in text.default(x1, y1, words[i], cex = size[i], offset = 0, srt = rotWord * :\n",
            "“font family 'Microsoft YaHei' not found, will use 'wqy-microhei' instead”\n",
            "Warning message in text.default(x1, y1, words[i], cex = size[i], offset = 0, srt = rotWord * :\n",
            "“font family 'Microsoft YaHei' not found, will use 'wqy-microhei' instead”\n",
            "Warning message in strwidth(words[i], cex = size[i], ...):\n",
            "“font family 'Microsoft YaHei' not found, will use 'wqy-microhei' instead”\n",
            "Warning message in text.default(x1, y1, words[i], cex = size[i], offset = 0, srt = rotWord * :\n",
            "“font family 'Microsoft YaHei' not found, will use 'wqy-microhei' instead”\n",
            "Warning message in text.default(x1, y1, words[i], cex = size[i], offset = 0, srt = rotWord * :\n",
            "“font family 'Microsoft YaHei' not found, will use 'wqy-microhei' instead”\n",
            "Warning message in text.default(x1, y1, words[i], cex = size[i], offset = 0, srt = rotWord * :\n",
            "“font family 'Microsoft YaHei' not found, will use 'wqy-microhei' instead”\n",
            "Warning message in text.default(x1, y1, words[i], cex = size[i], offset = 0, srt = rotWord * :\n",
            "“font family 'Microsoft YaHei' not found, will use 'wqy-microhei' instead”\n",
            "Warning message in strwidth(words[i], cex = size[i], ...):\n",
            "“font family 'Microsoft YaHei' not found, will use 'wqy-microhei' instead”\n",
            "Warning message in text.default(x1, y1, words[i], cex = size[i], offset = 0, srt = rotWord * :\n",
            "“font family 'Microsoft YaHei' not found, will use 'wqy-microhei' instead”\n",
            "Warning message in text.default(x1, y1, words[i], cex = size[i], offset = 0, srt = rotWord * :\n",
            "“font family 'Microsoft YaHei' not found, will use 'wqy-microhei' instead”\n",
            "Warning message in text.default(x1, y1, words[i], cex = size[i], offset = 0, srt = rotWord * :\n",
            "“font family 'Microsoft YaHei' not found, will use 'wqy-microhei' instead”\n",
            "Warning message in strwidth(words[i], cex = size[i], ...):\n",
            "“font family 'Microsoft YaHei' not found, will use 'wqy-microhei' instead”\n",
            "Warning message in text.default(x1, y1, words[i], cex = size[i], offset = 0, srt = rotWord * :\n",
            "“font family 'Microsoft YaHei' not found, will use 'wqy-microhei' instead”\n",
            "Warning message in text.default(x1, y1, words[i], cex = size[i], offset = 0, srt = rotWord * :\n",
            "“font family 'Microsoft YaHei' not found, will use 'wqy-microhei' instead”\n",
            "Warning message in text.default(x1, y1, words[i], cex = size[i], offset = 0, srt = rotWord * :\n",
            "“font family 'Microsoft YaHei' not found, will use 'wqy-microhei' instead”\n",
            "Warning message in strwidth(words[i], cex = size[i], ...):\n",
            "“font family 'Microsoft YaHei' not found, will use 'wqy-microhei' instead”\n",
            "Warning message in text.default(x1, y1, words[i], cex = size[i], offset = 0, srt = rotWord * :\n",
            "“font family 'Microsoft YaHei' not found, will use 'wqy-microhei' instead”\n",
            "Warning message in text.default(x1, y1, words[i], cex = size[i], offset = 0, srt = rotWord * :\n",
            "“font family 'Microsoft YaHei' not found, will use 'wqy-microhei' instead”\n",
            "Warning message in text.default(x1, y1, words[i], cex = size[i], offset = 0, srt = rotWord * :\n",
            "“font family 'Microsoft YaHei' not found, will use 'wqy-microhei' instead”\n",
            "Warning message in text.default(x1, y1, words[i], cex = size[i], offset = 0, srt = rotWord * :\n",
            "“font family 'Microsoft YaHei' not found, will use 'wqy-microhei' instead”\n",
            "Warning message in text.default(x1, y1, words[i], cex = size[i], offset = 0, srt = rotWord * :\n",
            "“font family 'Microsoft YaHei' not found, will use 'wqy-microhei' instead”\n",
            "Warning message in strwidth(words[i], cex = size[i], ...):\n",
            "“font family 'Microsoft YaHei' not found, will use 'wqy-microhei' instead”\n",
            "Warning message in text.default(x1, y1, words[i], cex = size[i], offset = 0, srt = rotWord * :\n",
            "“font family 'Microsoft YaHei' not found, will use 'wqy-microhei' instead”\n",
            "Warning message in text.default(x1, y1, words[i], cex = size[i], offset = 0, srt = rotWord * :\n",
            "“font family 'Microsoft YaHei' not found, will use 'wqy-microhei' instead”\n",
            "Warning message in text.default(x1, y1, words[i], cex = size[i], offset = 0, srt = rotWord * :\n",
            "“font family 'Microsoft YaHei' not found, will use 'wqy-microhei' instead”\n",
            "Warning message in strwidth(words[i], cex = size[i], ...):\n",
            "“font family 'Microsoft YaHei' not found, will use 'wqy-microhei' instead”\n",
            "Warning message in text.default(x1, y1, words[i], cex = size[i], offset = 0, srt = rotWord * :\n",
            "“font family 'Microsoft YaHei' not found, will use 'wqy-microhei' instead”\n",
            "Warning message in text.default(x1, y1, words[i], cex = size[i], offset = 0, srt = rotWord * :\n",
            "“font family 'Microsoft YaHei' not found, will use 'wqy-microhei' instead”\n",
            "Warning message in text.default(x1, y1, words[i], cex = size[i], offset = 0, srt = rotWord * :\n",
            "“font family 'Microsoft YaHei' not found, will use 'wqy-microhei' instead”\n",
            "Warning message in text.default(x1, y1, words[i], cex = size[i], offset = 0, srt = rotWord * :\n",
            "“font family 'Microsoft YaHei' not found, will use 'wqy-microhei' instead”\n",
            "Warning message in strwidth(words[i], cex = size[i], ...):\n",
            "“font family 'Microsoft YaHei' not found, will use 'wqy-microhei' instead”\n",
            "Warning message in text.default(x1, y1, words[i], cex = size[i], offset = 0, srt = rotWord * :\n",
            "“font family 'Microsoft YaHei' not found, will use 'wqy-microhei' instead”\n",
            "Warning message in text.default(x1, y1, words[i], cex = size[i], offset = 0, srt = rotWord * :\n",
            "“font family 'Microsoft YaHei' not found, will use 'wqy-microhei' instead”\n",
            "Warning message in text.default(x1, y1, words[i], cex = size[i], offset = 0, srt = rotWord * :\n",
            "“font family 'Microsoft YaHei' not found, will use 'wqy-microhei' instead”\n",
            "Warning message in text.default(x1, y1, words[i], cex = size[i], offset = 0, srt = rotWord * :\n",
            "“font family 'Microsoft YaHei' not found, will use 'wqy-microhei' instead”\n",
            "Warning message in text.default(x1, y1, words[i], cex = size[i], offset = 0, srt = rotWord * :\n",
            "“font family 'Microsoft YaHei' not found, will use 'wqy-microhei' instead”\n",
            "Warning message in strwidth(words[i], cex = size[i], ...):\n",
            "“font family 'Microsoft YaHei' not found, will use 'wqy-microhei' instead”\n",
            "Warning message in text.default(x1, y1, words[i], cex = size[i], offset = 0, srt = rotWord * :\n",
            "“font family 'Microsoft YaHei' not found, will use 'wqy-microhei' instead”\n",
            "Warning message in text.default(x1, y1, words[i], cex = size[i], offset = 0, srt = rotWord * :\n",
            "“font family 'Microsoft YaHei' not found, will use 'wqy-microhei' instead”\n",
            "Warning message in text.default(x1, y1, words[i], cex = size[i], offset = 0, srt = rotWord * :\n",
            "“font family 'Microsoft YaHei' not found, will use 'wqy-microhei' instead”\n",
            "Warning message in text.default(x1, y1, words[i], cex = size[i], offset = 0, srt = rotWord * :\n",
            "“font family 'Microsoft YaHei' not found, will use 'wqy-microhei' instead”\n",
            "Warning message in text.default(x1, y1, words[i], cex = size[i], offset = 0, srt = rotWord * :\n",
            "“font family 'Microsoft YaHei' not found, will use 'wqy-microhei' instead”\n",
            "Warning message in text.default(x1, y1, words[i], cex = size[i], offset = 0, srt = rotWord * :\n",
            "“font family 'Microsoft YaHei' not found, will use 'wqy-microhei' instead”\n",
            "Warning message in strwidth(words[i], cex = size[i], ...):\n",
            "“font family 'Microsoft YaHei' not found, will use 'wqy-microhei' instead”\n",
            "Warning message in text.default(x1, y1, words[i], cex = size[i], offset = 0, srt = rotWord * :\n",
            "“font family 'Microsoft YaHei' not found, will use 'wqy-microhei' instead”\n",
            "Warning message in text.default(x1, y1, words[i], cex = size[i], offset = 0, srt = rotWord * :\n",
            "“font family 'Microsoft YaHei' not found, will use 'wqy-microhei' instead”\n",
            "Warning message in text.default(x1, y1, words[i], cex = size[i], offset = 0, srt = rotWord * :\n",
            "“font family 'Microsoft YaHei' not found, will use 'wqy-microhei' instead”\n",
            "Warning message in text.default(x1, y1, words[i], cex = size[i], offset = 0, srt = rotWord * :\n",
            "“font family 'Microsoft YaHei' not found, will use 'wqy-microhei' instead”\n",
            "Warning message in text.default(x1, y1, words[i], cex = size[i], offset = 0, srt = rotWord * :\n",
            "“font family 'Microsoft YaHei' not found, will use 'wqy-microhei' instead”\n"
          ],
          "name": "stderr"
        },
        {
          "output_type": "display_data",
          "data": {
            "image/png": "[encoded data removed]",
            "text/plain": [
              "plot without title"
            ]
          },
          "metadata": {
            "tags": [],
            "image/png": {
              "width": 420,
              "height": 420
            }
          }
        }
      ]
    },
    {
      "cell_type": "code",
      "metadata": {
        "colab": {
          "base_uri": "https://localhost:8080/"
        },
        "id": "OvRGc1w6uebw",
        "outputId": "0c1efe70-62f1-453f-ca43-7ee4b775ddca"
      },
      "source": [
        "install.packages(\"showtext\")"
      ],
      "execution_count": 14,
      "outputs": [
        {
          "output_type": "stream",
          "text": [
            "Installing package into ‘/usr/local/lib/R/site-library’\n",
            "(as ‘lib’ is unspecified)\n",
            "\n",
            "also installing the dependencies ‘sysfonts’, ‘showtextdb’\n",
            "\n",
            "\n"
          ],
          "name": "stderr"
        }
      ]
    },
    {
      "cell_type": "code",
      "metadata": {
        "colab": {
          "base_uri": "https://localhost:8080/"
        },
        "id": "v8nHLnv8upSI",
        "outputId": "a156124f-0d2f-4672-d3ae-89174896c861"
      },
      "source": [
        "library(showtext)"
      ],
      "execution_count": 15,
      "outputs": [
        {
          "output_type": "stream",
          "text": [
            "Loading required package: sysfonts\n",
            "\n",
            "Loading required package: showtextdb\n",
            "\n"
          ],
          "name": "stderr"
        }
      ]
    },
    {
      "cell_type": "code",
      "metadata": {
        "colab": {
          "base_uri": "https://localhost:8080/"
        },
        "id": "pNfvDA52ur_D",
        "outputId": "0649bd93-5367-4739-9516-c85742ed1baa"
      },
      "source": [
        "showtext.auto(enable = TRUE)"
      ],
      "execution_count": 16,
      "outputs": [
        {
          "output_type": "stream",
          "text": [
            "'showtext.auto()' is now renamed to 'showtext_auto()'\n",
            "The old version still works, but consider using the new function in future code\n",
            "\n"
          ],
          "name": "stderr"
        }
      ]
    }
  ]
}