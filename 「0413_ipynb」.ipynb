{
  "nbformat": 4,
  "nbformat_minor": 0,
  "metadata": {
    "colab": {
      "name": "「0413.ipynb」",
      "provenance": [],
      "collapsed_sections": [],
      "include_colab_link": true
    },
    "kernelspec": {
      "name": "ir",
      "display_name": "R"
    }
  },
  "cells": [
    {
      "cell_type": "markdown",
      "metadata": {
        "id": "view-in-github",
        "colab_type": "text"
      },
      "source": [
        "<a href=\"https://colab.research.google.com/github/theone67833/bigdata1/blob/main/%E3%80%8C0413_ipynb%E3%80%8D.ipynb\" target=\"_parent\"><img src=\"https://colab.research.google.com/assets/colab-badge.svg\" alt=\"Open In Colab\"/></a>"
      ]
    },
    {
      "cell_type": "markdown",
      "metadata": {
        "id": "46qGGq5tUcVm"
      },
      "source": [
        "套件安裝"
      ]
    },
    {
      "cell_type": "code",
      "metadata": {
        "id": "jecnKZrCUf3O",
        "outputId": "2f35097a-90c3-4d72-e83c-93b18996681d",
        "colab": {
          "base_uri": "https://localhost:8080/"
        }
      },
      "source": [
        "pkgs <- c(\"tidyverse\",\"lubridate\")\n",
        "install.packages(pkgs)"
      ],
      "execution_count": 3,
      "outputs": [
        {
          "output_type": "stream",
          "text": [
            "Installing packages into ‘/usr/local/lib/R/site-library’\n",
            "(as ‘lib’ is unspecified)\n",
            "\n"
          ],
          "name": "stderr"
        }
      ]
    },
    {
      "cell_type": "code",
      "metadata": {
        "id": "bSrmm4ePVT-9",
        "outputId": "5542f942-4dc5-4b99-d946-c89ae80ca00c",
        "colab": {
          "base_uri": "https://localhost:8080/"
        }
      },
      "source": [
        "library(tidyverse)\n",
        "library(lubridate)"
      ],
      "execution_count": 4,
      "outputs": [
        {
          "output_type": "stream",
          "text": [
            "Warning message in system(\"timedatectl\", intern = TRUE):\n",
            "“running command 'timedatectl' had status 1”\n",
            "── \u001b[1mAttaching packages\u001b[22m ─────────────────────────────────────── tidyverse 1.3.0 ──\n",
            "\n",
            "\u001b[32m✔\u001b[39m \u001b[34mggplot2\u001b[39m 3.3.3     \u001b[32m✔\u001b[39m \u001b[34mpurrr  \u001b[39m 0.3.4\n",
            "\u001b[32m✔\u001b[39m \u001b[34mtibble \u001b[39m 3.1.0     \u001b[32m✔\u001b[39m \u001b[34mdplyr  \u001b[39m 1.0.5\n",
            "\u001b[32m✔\u001b[39m \u001b[34mtidyr  \u001b[39m 1.1.3     \u001b[32m✔\u001b[39m \u001b[34mstringr\u001b[39m 1.4.0\n",
            "\u001b[32m✔\u001b[39m \u001b[34mreadr  \u001b[39m 1.4.0     \u001b[32m✔\u001b[39m \u001b[34mforcats\u001b[39m 0.5.1\n",
            "\n",
            "── \u001b[1mConflicts\u001b[22m ────────────────────────────────────────── tidyverse_conflicts() ──\n",
            "\u001b[31m✖\u001b[39m \u001b[34mdplyr\u001b[39m::\u001b[32mfilter()\u001b[39m masks \u001b[34mstats\u001b[39m::filter()\n",
            "\u001b[31m✖\u001b[39m \u001b[34mdplyr\u001b[39m::\u001b[32mlag()\u001b[39m    masks \u001b[34mstats\u001b[39m::lag()\n",
            "\n",
            "\n",
            "Attaching package: ‘lubridate’\n",
            "\n",
            "\n",
            "The following objects are masked from ‘package:base’:\n",
            "\n",
            "    date, intersect, setdiff, union\n",
            "\n",
            "\n"
          ],
          "name": "stderr"
        }
      ]
    },
    {
      "cell_type": "markdown",
      "metadata": {
        "id": "vIpOELqUVj-9"
      },
      "source": [
        "匯入數據"
      ]
    },
    {
      "cell_type": "code",
      "metadata": {
        "id": "RnsjD-kgXFvE"
      },
      "source": [
        "nobel <- read.csv(\"nobel_winners.csv\")"
      ],
      "execution_count": 42,
      "outputs": []
    },
    {
      "cell_type": "markdown",
      "metadata": {
        "id": "sU6JBNhBWSpW"
      },
      "source": [
        "頒獎次數統計"
      ]
    },
    {
      "cell_type": "code",
      "metadata": {
        "id": "8aObBqc1XQyN",
        "outputId": "be7ffa55-7269-4a75-e01e-ad0b702ba285",
        "colab": {
          "base_uri": "https://localhost:8080/",
          "height": 1000
        }
      },
      "source": [
        "nobel"
      ],
      "execution_count": 43,
      "outputs": [
        {
          "output_type": "display_data",
          "data": {
            "text/plain": [
              "    prize_year category   prize                                                \n",
              "1   1901       Chemistry  The Nobel Prize in Chemistry 1901                    \n",
              "2   1901       Literature The Nobel Prize in Literature 1901                   \n",
              "3   1901       Medicine   The Nobel Prize in Physiology or Medicine 1901       \n",
              "4   1901       Peace      The Nobel Peace Prize 1901                           \n",
              "5   1901       Peace      The Nobel Peace Prize 1901                           \n",
              "6   1901       Physics    The Nobel Prize in Physics 1901                      \n",
              "7   1902       Chemistry  The Nobel Prize in Chemistry 1902                    \n",
              "8   1902       Literature The Nobel Prize in Literature 1902                   \n",
              "9   1902       Medicine   The Nobel Prize in Physiology or Medicine 1902       \n",
              "10  1902       Peace      The Nobel Peace Prize 1902                           \n",
              "11  1902       Peace      The Nobel Peace Prize 1902                           \n",
              "12  1902       Physics    The Nobel Prize in Physics 1902                      \n",
              "13  1902       Physics    The Nobel Prize in Physics 1902                      \n",
              "14  1903       Chemistry  The Nobel Prize in Chemistry 1903                    \n",
              "15  1903       Literature The Nobel Prize in Literature 1903                   \n",
              "16  1903       Medicine   The Nobel Prize in Physiology or Medicine 1903       \n",
              "17  1903       Peace      The Nobel Peace Prize 1903                           \n",
              "18  1903       Physics    The Nobel Prize in Physics 1903                      \n",
              "19  1903       Physics    The Nobel Prize in Physics 1903                      \n",
              "20  1903       Physics    The Nobel Prize in Physics 1903                      \n",
              "21  1904       Chemistry  The Nobel Prize in Chemistry 1904                    \n",
              "22  1904       Literature The Nobel Prize in Literature 1904                   \n",
              "23  1904       Literature The Nobel Prize in Literature 1904                   \n",
              "24  1904       Medicine   The Nobel Prize in Physiology or Medicine 1904       \n",
              "25  1904       Peace      The Nobel Peace Prize 1904                           \n",
              "26  1904       Physics    The Nobel Prize in Physics 1904                      \n",
              "27  1905       Chemistry  The Nobel Prize in Chemistry 1905                    \n",
              "28  1905       Literature The Nobel Prize in Literature 1905                   \n",
              "29  1905       Medicine   The Nobel Prize in Physiology or Medicine 1905       \n",
              "30  1905       Peace      The Nobel Peace Prize 1905                           \n",
              "⋮   ⋮          ⋮          ⋮                                                    \n",
              "940 2014       Peace      The Nobel Peace Prize 2014                           \n",
              "941 2014       Peace      The Nobel Peace Prize 2014                           \n",
              "942 2014       Physics    The Nobel Prize in Physics 2014                      \n",
              "943 2014       Physics    The Nobel Prize in Physics 2014                      \n",
              "944 2014       Physics    The Nobel Prize in Physics 2014                      \n",
              "945 2014       Physics    The Nobel Prize in Physics 2014                      \n",
              "946 2015       Chemistry  The Nobel Prize in Chemistry 2015                    \n",
              "947 2015       Chemistry  The Nobel Prize in Chemistry 2015                    \n",
              "948 2015       Chemistry  The Nobel Prize in Chemistry 2015                    \n",
              "949 2015       Chemistry  The Nobel Prize in Chemistry 2015                    \n",
              "950 2015       Chemistry  The Nobel Prize in Chemistry 2015                    \n",
              "951 2015       Economics  The Sveriges Riksbank Prize in Economic Sciences 2015\n",
              "952 2015       Literature The Nobel Prize in Literature 2015                   \n",
              "953 2015       Medicine   The Nobel Prize in Physiology or Medicine 2015       \n",
              "954 2015       Medicine   The Nobel Prize in Physiology or Medicine 2015       \n",
              "955 2015       Medicine   The Nobel Prize in Physiology or Medicine 2015       \n",
              "956 2015       Peace      The Nobel Peace Prize 2015                           \n",
              "957 2015       Physics    The Nobel Prize in Physics 2015                      \n",
              "958 2015       Physics    The Nobel Prize in Physics 2015                      \n",
              "959 2016       Chemistry  The Nobel Prize in Chemistry 2016                    \n",
              "960 2016       Chemistry  The Nobel Prize in Chemistry 2016                    \n",
              "961 2016       Chemistry  The Nobel Prize in Chemistry 2016                    \n",
              "962 2016       Economics  The Sveriges Riksbank Prize in Economic Sciences 2016\n",
              "963 2016       Economics  The Sveriges Riksbank Prize in Economic Sciences 2016\n",
              "964 2016       Literature The Nobel Prize in Literature 2016                   \n",
              "965 2016       Medicine   The Nobel Prize in Physiology or Medicine 2016       \n",
              "966 2016       Peace      The Nobel Peace Prize 2016                           \n",
              "967 2016       Physics    The Nobel Prize in Physics 2016                      \n",
              "968 2016       Physics    The Nobel Prize in Physics 2016                      \n",
              "969 2016       Physics    The Nobel Prize in Physics 2016                      \n",
              "    motivation                                                                                                                                                                                                                                        \n",
              "1   \"in recognition of the extraordinary services he has rendered by the discovery of the laws of chemical dynamics and osmotic pressure in solutions\"                                                                                                \n",
              "2   \"in special recognition of his poetic composition, which gives evidence of lofty idealism, artistic perfection and a rare combination of the qualities of both heart and intellect\"                                                               \n",
              "3   \"for his work on serum therapy, especially its application against diphtheria, by which he has opened a new road in the domain of medical science and thereby placed in the hands of the physician a victorious weapon against illness and deaths\"\n",
              "4   NA                                                                                                                                                                                                                                                \n",
              "5   NA                                                                                                                                                                                                                                                \n",
              "6   \"in recognition of the extraordinary services he has rendered by the discovery of the remarkable rays subsequently named after him\"                                                                                                               \n",
              "7   \"in recognition of the extraordinary services he has rendered by his work on sugar and purine syntheses\"                                                                                                                                          \n",
              "8   \"the greatest living master of the art of historical writing, with special reference to his monumental work, <I>A history of Rome</I>\"                                                                                                            \n",
              "9   \"for his work on malaria, by which he has shown how it enters the organism and thereby has laid the foundation for successful research on this disease and methods of combating it\"                                                               \n",
              "10  NA                                                                                                                                                                                                                                                \n",
              "11  NA                                                                                                                                                                                                                                                \n",
              "12  \"in recognition of the extraordinary service they rendered by their researches into the influence of magnetism upon radiation phenomena\"                                                                                                          \n",
              "13  \"in recognition of the extraordinary service they rendered by their researches into the influence of magnetism upon radiation phenomena\"                                                                                                          \n",
              "14  \"in recognition of the extraordinary services he has rendered to the advancement of chemistry by his electrolytic theory of dissociation\"                                                                                                         \n",
              "15  \"as a tribute to his noble, magnificent and versatile poetry, which has always been distinguished by both the freshness of its inspiration and the rare purity of its spirit\"                                                                     \n",
              "16  \"in recognition of his contribution to the treatment of diseases, especially lupus vulgaris, with concentrated light radiation, whereby he has opened a new avenue for medical science\"                                                           \n",
              "17  NA                                                                                                                                                                                                                                                \n",
              "18  \"in recognition of the extraordinary services he has rendered by his discovery of spontaneous radioactivity\"                                                                                                                                      \n",
              "19  \"in recognition of the extraordinary services they have rendered by their joint researches on the radiation phenomena discovered by Professor Henri Becquerel\"                                                                                    \n",
              "20  \"in recognition of the extraordinary services they have rendered by their joint researches on the radiation phenomena discovered by Professor Henri Becquerel\"                                                                                    \n",
              "21  \"in recognition of his services in the discovery of the inert gaseous elements in air, and his determination of their place in the periodic system\"                                                                                               \n",
              "22  \"in recognition of the fresh originality and true inspiration of his poetic production, which faithfully reflects the natural scenery and native spirit of his people, and, in addition, his significant work as a Proven&ccedil;al philologist\"  \n",
              "23  \"in recognition of the numerous and brilliant compositions which, in an individual and original manner, have revived the great traditions of the Spanish drama\"                                                                                   \n",
              "24  \"in recognition of his work on the physiology of digestion, through which knowledge on vital aspects of the subject has been transformed and enlarged\"                                                                                            \n",
              "25  NA                                                                                                                                                                                                                                                \n",
              "26  \"for his investigations of the densities of the most important gases and for his discovery of argon in connection with these studies\"                                                                                                             \n",
              "27  \"in recognition of his services in the advancement of organic chemistry and the chemical industry, through his work on organic dyes and hydroaromatic compounds\"                                                                                  \n",
              "28  \"because of his outstanding merits as an epic writer\"                                                                                                                                                                                             \n",
              "29  \"for his investigations and discoveries in relation to tuberculosis\"                                                                                                                                                                              \n",
              "30  NA                                                                                                                                                                                                                                                \n",
              "⋮   ⋮                                                                                                                                                                                                                                                 \n",
              "940 \"for their struggle against the suppression of children and young people and for the right of all children to education\"                                                                                                                          \n",
              "941 \"for their struggle against the suppression of children and young people and for the right of all children to education\"                                                                                                                          \n",
              "942 \"for the invention of efficient blue light-emitting diodes which has enabled bright and energy-saving white light sources\"                                                                                                                        \n",
              "943 \"for the invention of efficient blue light-emitting diodes which has enabled bright and energy-saving white light sources\"                                                                                                                        \n",
              "944 \"for the invention of efficient blue light-emitting diodes which has enabled bright and energy-saving white light sources\"                                                                                                                        \n",
              "945 \"for the invention of efficient blue light-emitting diodes which has enabled bright and energy-saving white light sources\"                                                                                                                        \n",
              "946 \"for mechanistic studies of DNA repair\"                                                                                                                                                                                                           \n",
              "947 \"for mechanistic studies of DNA repair\"                                                                                                                                                                                                           \n",
              "948 \"for mechanistic studies of DNA repair\"                                                                                                                                                                                                           \n",
              "949 \"for mechanistic studies of DNA repair\"                                                                                                                                                                                                           \n",
              "950 \"for mechanistic studies of DNA repair\"                                                                                                                                                                                                           \n",
              "951 \"for his analysis of consumption, poverty, and welfare\"                                                                                                                                                                                           \n",
              "952 \"for her polyphonic writings, a monument to suffering and courage in our time\"                                                                                                                                                                    \n",
              "953 \"for their discoveries concerning a novel therapy against infections caused by roundworm parasites\"                                                                                                                                               \n",
              "954 \"for their discoveries concerning a novel therapy against infections caused by roundworm parasites\"                                                                                                                                               \n",
              "955 \"for her discoveries concerning a novel therapy against Malaria\"                                                                                                                                                                                  \n",
              "956 \"for its decisive contribution to the building of a pluralistic democracy in Tunisia in the wake of the Jasmine Revolution of 2011\"                                                                                                               \n",
              "957 \"for the discovery of neutrino oscillations, which shows that neutrinos have mass\"                                                                                                                                                                \n",
              "958 \"for the discovery of neutrino oscillations, which shows that neutrinos have mass\"                                                                                                                                                                \n",
              "959 \"for the design and synthesis of molecular machines\"                                                                                                                                                                                              \n",
              "960 \"for the design and synthesis of molecular machines\"                                                                                                                                                                                              \n",
              "961 \"for the design and synthesis of molecular machines\"                                                                                                                                                                                              \n",
              "962 \"for their contributions to contract theory\"                                                                                                                                                                                                      \n",
              "963 \"for their contributions to contract theory\"                                                                                                                                                                                                      \n",
              "964 \"for having created new poetic expressions within the great American song tradition\"                                                                                                                                                              \n",
              "965 \"for his discoveries of mechanisms for autophagy\"                                                                                                                                                                                                 \n",
              "966 \"for his resolute efforts to bring the country's more than 50-year-long civil war to an end\"                                                                                                                                                      \n",
              "967 \"for theoretical discoveries of topological phase transitions and topological phases of matter\"                                                                                                                                                   \n",
              "968 \"for theoretical discoveries of topological phase transitions and topological phases of matter\"                                                                                                                                                   \n",
              "969 \"for theoretical discoveries of topological phase transitions and topological phases of matter\"                                                                                                                                                   \n",
              "    prize_share laureate_id laureate_type\n",
              "1   1/1         160         Individual   \n",
              "2   1/1         569         Individual   \n",
              "3   1/1         293         Individual   \n",
              "4   1/2         462         Individual   \n",
              "5   1/2         463         Individual   \n",
              "6   1/1           1         Individual   \n",
              "7   1/1         161         Individual   \n",
              "8   1/1         571         Individual   \n",
              "9   1/1         294         Individual   \n",
              "10  1/2         464         Individual   \n",
              "11  1/2         465         Individual   \n",
              "12  1/2           2         Individual   \n",
              "13  1/2           3         Individual   \n",
              "14  1/1         162         Individual   \n",
              "15  1/1         572         Individual   \n",
              "16  1/1         295         Individual   \n",
              "17  1/1         466         Individual   \n",
              "18  1/2           4         Individual   \n",
              "19  1/4           5         Individual   \n",
              "20  1/4           6         Individual   \n",
              "21  1/1         163         Individual   \n",
              "22  1/2         573         Individual   \n",
              "23  1/2         574         Individual   \n",
              "24  1/1         296         Individual   \n",
              "25  1/1         467         Organization \n",
              "26  1/1           8         Individual   \n",
              "27  1/1         164         Individual   \n",
              "28  1/1         575         Individual   \n",
              "29  1/1         297         Individual   \n",
              "30  1/1         468         Individual   \n",
              "⋮   ⋮           ⋮           ⋮            \n",
              "940 1/2         913         Individual   \n",
              "941 1/2         914         Individual   \n",
              "942 1/3         906         Individual   \n",
              "943 1/3         906         Individual   \n",
              "944 1/3         907         Individual   \n",
              "945 1/3         908         Individual   \n",
              "946 1/3         921         Individual   \n",
              "947 1/3         921         Individual   \n",
              "948 1/3         922         Individual   \n",
              "949 1/3         922         Individual   \n",
              "950 1/3         923         Individual   \n",
              "951 1/1         926         Individual   \n",
              "952 1/1         924         Individual   \n",
              "953 1/4         916         Individual   \n",
              "954 1/4         917         Individual   \n",
              "955 1/2         918         Individual   \n",
              "956 1/1         925         Organization \n",
              "957 1/2         919         Individual   \n",
              "958 1/2         920         Individual   \n",
              "959 1/3         931         Individual   \n",
              "960 1/3         932         Individual   \n",
              "961 1/3         933         Individual   \n",
              "962 1/2         935         Individual   \n",
              "963 1/2         936         Individual   \n",
              "964 1/1         937         Individual   \n",
              "965 1/1         927         Individual   \n",
              "966 1/1         934         Individual   \n",
              "967 1/2         928         Individual   \n",
              "968 1/4         929         Individual   \n",
              "969 1/4         930         Individual   \n",
              "    full_name                                                                             \n",
              "1   Jacobus Henricus van 't Hoff                                                          \n",
              "2   Sully Prudhomme                                                                       \n",
              "3   Emil Adolf von Behring                                                                \n",
              "4   Jean Henry Dunant                                                                     \n",
              "5   Frédéric Passy                                                                        \n",
              "6   Wilhelm Conrad Röntgen                                                                \n",
              "7   Hermann Emil Fischer                                                                  \n",
              "8   Christian Matthias Theodor Mommsen                                                    \n",
              "9   Ronald Ross                                                                           \n",
              "10  Élie Ducommun                                                                         \n",
              "11  Charles Albert Gobat                                                                  \n",
              "12  Hendrik Antoon Lorentz                                                                \n",
              "13  Pieter Zeeman                                                                         \n",
              "14  Svante August Arrhenius                                                               \n",
              "15  Bjørnstjerne Martinus Bjørnson                                                        \n",
              "16  Niels Ryberg Finsen                                                                   \n",
              "17  William Randal Cremer                                                                 \n",
              "18  Antoine Henri Becquerel                                                               \n",
              "19  Pierre Curie                                                                          \n",
              "20  Marie Curie, née Sklodowska                                                           \n",
              "21  Sir William Ramsay                                                                    \n",
              "22  Frédéric Mistral                                                                      \n",
              "23  José Echegaray y Eizaguirre                                                           \n",
              "24  Ivan Petrovich Pavlov                                                                 \n",
              "25  Institut de droit international (Institute of International Law)                      \n",
              "26  Lord Rayleigh (John William Strutt)                                                   \n",
              "27  Johann Friedrich Wilhelm Adolf von Baeyer                                             \n",
              "28  Henryk Sienkiewicz                                                                    \n",
              "29  Robert Koch                                                                           \n",
              "30  Baroness Bertha Sophie Felicita von Suttner, née Countess Kinsky von Chinic und Tettau\n",
              "⋮   ⋮                                                                                     \n",
              "940 Kailash Satyarthi                                                                     \n",
              "941 Malala Yousafzai                                                                      \n",
              "942 Isamu Akasaki                                                                         \n",
              "943 Isamu Akasaki                                                                         \n",
              "944 Hiroshi Amano                                                                         \n",
              "945 Shuji Nakamura                                                                        \n",
              "946 Tomas Lindahl                                                                         \n",
              "947 Tomas Lindahl                                                                         \n",
              "948 Paul Modrich                                                                          \n",
              "949 Paul Modrich                                                                          \n",
              "950 Aziz Sancar                                                                           \n",
              "951 Angus Deaton                                                                          \n",
              "952 Svetlana Alexievich                                                                   \n",
              "953 William C. Campbell                                                                   \n",
              "954 Satoshi Ōmura                                                                         \n",
              "955 Youyou Tu                                                                             \n",
              "956 National Dialogue Quartet                                                             \n",
              "957 Takaaki Kajita                                                                        \n",
              "958 Arthur B. McDonald                                                                    \n",
              "959 Jean-Pierre Sauvage                                                                   \n",
              "960 Sir J. Fraser Stoddart                                                                \n",
              "961 Bernard L. Feringa                                                                    \n",
              "962 Oliver Hart                                                                           \n",
              "963 Bengt Holmström                                                                       \n",
              "964 Bob Dylan                                                                             \n",
              "965 Yoshinori Ohsumi                                                                      \n",
              "966 Juan Manuel Santos                                                                    \n",
              "967 David J. Thouless                                                                     \n",
              "968 F. Duncan M. Haldane                                                                  \n",
              "969 J. Michael Kosterlitz                                                                 \n",
              "    birth_date birth_city                      \n",
              "1   1852-08-30 Rotterdam                       \n",
              "2   1839-03-16 Paris                           \n",
              "3   1854-03-15 Hansdorf (Lawice)               \n",
              "4   1828-05-08 Geneva                          \n",
              "5   1822-05-20 Paris                           \n",
              "6   1845-03-27 Lennep (Remscheid)              \n",
              "7   1852-10-09 Euskirchen                      \n",
              "8   1817-11-30 Garding                         \n",
              "9   1857-05-13 Almora                          \n",
              "10  1833-02-19 Geneva                          \n",
              "11  1843-05-21 Tramelan                        \n",
              "12  1853-07-18 Arnhem                          \n",
              "13  1865-05-25 Zonnemaire                      \n",
              "14  1859-02-19 Vik                             \n",
              "15  1832-12-08 Kvikne                          \n",
              "16  1860-12-15 Thorshavn                       \n",
              "17  1828-03-18 Fareham                         \n",
              "18  1852-12-15 Paris                           \n",
              "19  1859-05-15 Paris                           \n",
              "20  1867-11-07 Warsaw                          \n",
              "21  1852-10-02 Glasgow                         \n",
              "22  1830-09-08 Maillane                        \n",
              "23  1832-04-19 Madrid                          \n",
              "24  1849-09-14 Ryazan                          \n",
              "25  NA         NA                              \n",
              "26  1842-11-12 Langford Grove, Maldon, Essex   \n",
              "27  1835-10-31 Berlin                          \n",
              "28  1846-05-05 Wola Okrzejska                  \n",
              "29  1843-12-11 Clausthal (Clausthal-Zellerfeld)\n",
              "30  1843-06-09 Prague                          \n",
              "⋮   ⋮          ⋮                               \n",
              "940 1954-01-11 Vidisha                         \n",
              "941 1997-07-12 Mingora                         \n",
              "942 1929-01-30 Chiran                          \n",
              "943 1929-01-30 Chiran                          \n",
              "944 1960-09-11 Hamamatsu                       \n",
              "945 1954-05-22 Ikata                           \n",
              "946 1938-01-28 Stockholm                       \n",
              "947 1938-01-28 Stockholm                       \n",
              "948 1946-06-13 Raton, NM                       \n",
              "949 1946-06-13 Raton, NM                       \n",
              "950 1946-09-08 Savur                           \n",
              "951 1945-10-19 Edinburgh                       \n",
              "952 1948-05-31 Ivano-Frankivsk                 \n",
              "953 1930-06-28 Ramelton                        \n",
              "954 1935-07-12 Yamanashi Prefecture            \n",
              "955 1930-12-30 Zhejiang Ningbo                 \n",
              "956 NA         NA                              \n",
              "957 1959-03-09 Higashimatsuyama                \n",
              "958 1943-08-29 Sydney                          \n",
              "959 1944-10-21 Paris                           \n",
              "960 1942-05-24 Edinburgh                       \n",
              "961 1951-05-18 Barger-Compascuum               \n",
              "962 1948-10-09 London                          \n",
              "963 1949-04-18 Helsinki                        \n",
              "964 1941-05-24 Duluth, MN                      \n",
              "965 1945-02-09 Fukuoka                         \n",
              "966 1951-08-10 Bogotá                          \n",
              "967 1934-09-21 Bearsden                        \n",
              "968 1951-09-14 London                          \n",
              "969 1943-06-22 Aberdeen                        \n",
              "    birth_country                    gender\n",
              "1   Netherlands                      Male  \n",
              "2   France                           Male  \n",
              "3   Prussia (Poland)                 Male  \n",
              "4   Switzerland                      Male  \n",
              "5   France                           Male  \n",
              "6   Prussia (Germany)                Male  \n",
              "7   Prussia (Germany)                Male  \n",
              "8   Schleswig (Germany)              Male  \n",
              "9   India                            Male  \n",
              "10  Switzerland                      Male  \n",
              "11  Switzerland                      Male  \n",
              "12  Netherlands                      Male  \n",
              "13  Netherlands                      Male  \n",
              "14  Sweden                           Male  \n",
              "15  Norway                           Male  \n",
              "16  Faroe Islands (Denmark)          Male  \n",
              "17  United Kingdom                   Male  \n",
              "18  France                           Male  \n",
              "19  France                           Male  \n",
              "20  Russian Empire (Poland)          Female\n",
              "21  Scotland                         Male  \n",
              "22  France                           Male  \n",
              "23  Spain                            Male  \n",
              "24  Russia                           Male  \n",
              "25  NA                               NA    \n",
              "26  United Kingdom                   Male  \n",
              "27  Prussia (Germany)                Male  \n",
              "28  Poland                           Male  \n",
              "29  Germany                          Male  \n",
              "30  Austrian Empire (Czech Republic) Female\n",
              "⋮   ⋮                                ⋮     \n",
              "940 India                            Male  \n",
              "941 Pakistan                         Female\n",
              "942 Japan                            Male  \n",
              "943 Japan                            Male  \n",
              "944 Japan                            Male  \n",
              "945 Japan                            Male  \n",
              "946 Sweden                           Male  \n",
              "947 Sweden                           Male  \n",
              "948 United States of America         Male  \n",
              "949 United States of America         Male  \n",
              "950 Turkey                           Male  \n",
              "951 United Kingdom                   Male  \n",
              "952 Ukraine                          Female\n",
              "953 Ireland                          Male  \n",
              "954 Japan                            Male  \n",
              "955 China                            Female\n",
              "956 NA                               NA    \n",
              "957 Japan                            Male  \n",
              "958 Canada                           Male  \n",
              "959 France                           Male  \n",
              "960 United Kingdom                   Male  \n",
              "961 Netherlands                      Male  \n",
              "962 United Kingdom                   Male  \n",
              "963 Finland                          Male  \n",
              "964 United States of America         Male  \n",
              "965 Japan                            Male  \n",
              "966 Colombia                         Male  \n",
              "967 United Kingdom                   Male  \n",
              "968 United Kingdom                   Male  \n",
              "969 United Kingdom                   Male  \n",
              "    organization_name                                                                                             \n",
              "1   Berlin University                                                                                             \n",
              "2   NA                                                                                                            \n",
              "3   Marburg University                                                                                            \n",
              "4   NA                                                                                                            \n",
              "5   NA                                                                                                            \n",
              "6   Munich University                                                                                             \n",
              "7   Berlin University                                                                                             \n",
              "8   NA                                                                                                            \n",
              "9   University College                                                                                            \n",
              "10  NA                                                                                                            \n",
              "11  NA                                                                                                            \n",
              "12  Leiden University                                                                                             \n",
              "13  Amsterdam University                                                                                          \n",
              "14  Stockholm University                                                                                          \n",
              "15  NA                                                                                                            \n",
              "16  Finsen Medical Light Institute                                                                                \n",
              "17  NA                                                                                                            \n",
              "18  École Polytechnique                                                                                           \n",
              "19  École municipale de physique et de chimie industrielles (Municipal School of Industrial Physics and Chemistry)\n",
              "20  NA                                                                                                            \n",
              "21  University College                                                                                            \n",
              "22  NA                                                                                                            \n",
              "23  NA                                                                                                            \n",
              "24  Military Medical Academy                                                                                      \n",
              "25  NA                                                                                                            \n",
              "26  Royal Institution of Great Britain                                                                            \n",
              "27  Munich University                                                                                             \n",
              "28  NA                                                                                                            \n",
              "29  Institute for Infectious Diseases                                                                             \n",
              "30  NA                                                                                                            \n",
              "⋮   ⋮                                                                                                             \n",
              "940 NA                                                                                                            \n",
              "941 NA                                                                                                            \n",
              "942 Meijo University                                                                                              \n",
              "943 Nagoya University                                                                                             \n",
              "944 Nagoya University                                                                                             \n",
              "945 University of California                                                                                      \n",
              "946 Francis Crick Institute                                                                                       \n",
              "947 Clare Hall Laboratory                                                                                         \n",
              "948 Howard Hughes Medical Institute                                                                               \n",
              "949 Duke University School of Medicine                                                                            \n",
              "950 University of North Carolina                                                                                  \n",
              "951 Princeton University                                                                                          \n",
              "952 NA                                                                                                            \n",
              "953 Drew University                                                                                               \n",
              "954 Kitasato University                                                                                           \n",
              "955 China Academy of Traditional Chinese Medicine                                                                 \n",
              "956 NA                                                                                                            \n",
              "957 University of Tokyo                                                                                           \n",
              "958 Queen's University                                                                                            \n",
              "959 University of Strasbourg                                                                                      \n",
              "960 Northwestern University                                                                                       \n",
              "961 University of Groningen                                                                                       \n",
              "962 Harvard University                                                                                            \n",
              "963 Massachusetts Institute of Technology (MIT)                                                                   \n",
              "964 NA                                                                                                            \n",
              "965 Tokyo Institute of Technology                                                                                 \n",
              "966 NA                                                                                                            \n",
              "967 University of Washington                                                                                      \n",
              "968 Princeton University                                                                                          \n",
              "969 Brown University                                                                                              \n",
              "    organization_city organization_country     death_date death_city    \n",
              "1   Berlin            Germany                  1911-03-01 Berlin        \n",
              "2   NA                NA                       1907-09-07 Châtenay      \n",
              "3   Marburg           Germany                  1917-03-31 Marburg       \n",
              "4   NA                NA                       1910-10-30 Heiden        \n",
              "5   NA                NA                       1912-06-12 Paris         \n",
              "6   Munich            Germany                  1923-02-10 Munich        \n",
              "7   Berlin            Germany                  1919-07-15 Berlin        \n",
              "8   NA                NA                       1903-11-01 Charlottenburg\n",
              "9   Liverpool         United Kingdom           1932-09-16 Putney Heath  \n",
              "10  NA                NA                       1906-12-07 Bern          \n",
              "11  NA                NA                       1914-03-16 Bern          \n",
              "12  Leiden            Netherlands              1928-02-04 NA            \n",
              "13  Amsterdam         Netherlands              1943-10-09 Amsterdam     \n",
              "14  Stockholm         Sweden                   1927-10-02 Stockholm     \n",
              "15  NA                NA                       1910-04-26 Paris         \n",
              "16  Copenhagen        Denmark                  1904-09-24 Copenhagen    \n",
              "17  NA                NA                       1908-07-22 London        \n",
              "18  Paris             France                   1908-08-25 NA            \n",
              "19  Paris             France                   1906-04-19 Paris         \n",
              "20  NA                NA                       1934-07-04 Sallanches    \n",
              "21  London            United Kingdom           1916-07-23 High Wycombe  \n",
              "22  NA                NA                       1914-03-25 Maillane      \n",
              "23  NA                NA                       1916-09-04 Madrid        \n",
              "24  St. Petersburg    Russia                   1936-02-27 Leningrad     \n",
              "25  NA                NA                       NA         NA            \n",
              "26  London            United Kingdom           1919-06-30 NA            \n",
              "27  Munich            Germany                  1917-08-20 Starnberg     \n",
              "28  NA                NA                       1916-11-15 Vevey         \n",
              "29  Berlin            Germany                  1910-05-27 Baden-Baden   \n",
              "30  NA                NA                       1914-06-21 Vienna        \n",
              "⋮   ⋮                 ⋮                        ⋮          ⋮             \n",
              "940 NA                NA                       NA         NA            \n",
              "941 NA                NA                       NA         NA            \n",
              "942 Nagoya            Japan                    NA         NA            \n",
              "943 Nagoya            Japan                    NA         NA            \n",
              "944 Nagoya            Japan                    NA         NA            \n",
              "945 Santa Barbara, CA United States of America NA         NA            \n",
              "946 Hertfordshire     United Kingdom           NA         NA            \n",
              "947 Hertfordshire     United Kingdom           NA         NA            \n",
              "948 Durham, NC        United States of America NA         NA            \n",
              "949 Durham, NC        United States of America NA         NA            \n",
              "950 Chapel Hill, NC   United States of America NA         NA            \n",
              "951 Princeton, NJ     United States of America NA         NA            \n",
              "952 NA                NA                       NA         NA            \n",
              "953 Madison, NJ       United States of America NA         NA            \n",
              "954 Tokyo             Japan                    NA         NA            \n",
              "955 Beijing           China                    NA         NA            \n",
              "956 NA                NA                       NA         NA            \n",
              "957 Kashiwa           Japan                    NA         NA            \n",
              "958 Kingston          Canada                   NA         NA            \n",
              "959 Strasbourg        France                   NA         NA            \n",
              "960 Evanston, IL      United States of America NA         NA            \n",
              "961 Groningen         Netherlands              NA         NA            \n",
              "962 Cambridge, MA     United States of America NA         NA            \n",
              "963 Cambridge, MA     United States of America NA         NA            \n",
              "964 NA                NA                       NA         NA            \n",
              "965 Tokyo             Japan                    NA         NA            \n",
              "966 NA                NA                       NA         NA            \n",
              "967 Seattle, WA       United States of America NA         NA            \n",
              "968 Princeton, NJ     United States of America NA         NA            \n",
              "969 Providence, RI    United States of America NA         NA            \n",
              "    death_country \n",
              "1   Germany       \n",
              "2   France        \n",
              "3   Germany       \n",
              "4   Switzerland   \n",
              "5   France        \n",
              "6   Germany       \n",
              "7   Germany       \n",
              "8   Germany       \n",
              "9   United Kingdom\n",
              "10  Switzerland   \n",
              "11  Switzerland   \n",
              "12  Netherlands   \n",
              "13  Netherlands   \n",
              "14  Sweden        \n",
              "15  France        \n",
              "16  Denmark       \n",
              "17  United Kingdom\n",
              "18  France        \n",
              "19  France        \n",
              "20  France        \n",
              "21  United Kingdom\n",
              "22  France        \n",
              "23  Spain         \n",
              "24  Russia        \n",
              "25  NA            \n",
              "26  United Kingdom\n",
              "27  Germany       \n",
              "28  Switzerland   \n",
              "29  Germany       \n",
              "30  Austria       \n",
              "⋮   ⋮             \n",
              "940 NA            \n",
              "941 NA            \n",
              "942 NA            \n",
              "943 NA            \n",
              "944 NA            \n",
              "945 NA            \n",
              "946 NA            \n",
              "947 NA            \n",
              "948 NA            \n",
              "949 NA            \n",
              "950 NA            \n",
              "951 NA            \n",
              "952 NA            \n",
              "953 NA            \n",
              "954 NA            \n",
              "955 NA            \n",
              "956 NA            \n",
              "957 NA            \n",
              "958 NA            \n",
              "959 NA            \n",
              "960 NA            \n",
              "961 NA            \n",
              "962 NA            \n",
              "963 NA            \n",
              "964 NA            \n",
              "965 NA            \n",
              "966 NA            \n",
              "967 NA            \n",
              "968 NA            \n",
              "969 NA            "
            ],
            "text/latex": "A data.frame: 969 × 18\n\\begin{tabular}{llllllllllllllllll}\n prize\\_year & category & prize & motivation & prize\\_share & laureate\\_id & laureate\\_type & full\\_name & birth\\_date & birth\\_city & birth\\_country & gender & organization\\_name & organization\\_city & organization\\_country & death\\_date & death\\_city & death\\_country\\\\\n <int> & <chr> & <chr> & <chr> & <chr> & <int> & <chr> & <chr> & <chr> & <chr> & <chr> & <chr> & <chr> & <chr> & <chr> & <chr> & <chr> & <chr>\\\\\n\\hline\n\t 1901 & Chemistry  & The Nobel Prize in Chemistry 1901              & \"in recognition of the extraordinary services he has rendered by the discovery of the laws of chemical dynamics and osmotic pressure in solutions\"                                                                                                 & 1/1 & 160 & Individual   & Jacobus Henricus van 't Hoff                                                           & 1852-08-30 & Rotterdam                        & Netherlands                      & Male   & Berlin University                                                                                              & Berlin         & Germany        & 1911-03-01 & Berlin         & Germany       \\\\\n\t 1901 & Literature & The Nobel Prize in Literature 1901             & \"in special recognition of his poetic composition, which gives evidence of lofty idealism, artistic perfection and a rare combination of the qualities of both heart and intellect\"                                                                & 1/1 & 569 & Individual   & Sully Prudhomme                                                                        & 1839-03-16 & Paris                            & France                           & Male   & NA                                                                                                             & NA             & NA             & 1907-09-07 & Châtenay       & France        \\\\\n\t 1901 & Medicine   & The Nobel Prize in Physiology or Medicine 1901 & \"for his work on serum therapy, especially its application against diphtheria, by which he has opened a new road in the domain of medical science and thereby placed in the hands of the physician a victorious weapon against illness and deaths\" & 1/1 & 293 & Individual   & Emil Adolf von Behring                                                                 & 1854-03-15 & Hansdorf (Lawice)                & Prussia (Poland)                 & Male   & Marburg University                                                                                             & Marburg        & Germany        & 1917-03-31 & Marburg        & Germany       \\\\\n\t 1901 & Peace      & The Nobel Peace Prize 1901                     & NA                                                                                                                                                                                                                                                 & 1/2 & 462 & Individual   & Jean Henry Dunant                                                                      & 1828-05-08 & Geneva                           & Switzerland                      & Male   & NA                                                                                                             & NA             & NA             & 1910-10-30 & Heiden         & Switzerland   \\\\\n\t 1901 & Peace      & The Nobel Peace Prize 1901                     & NA                                                                                                                                                                                                                                                 & 1/2 & 463 & Individual   & Frédéric Passy                                                                         & 1822-05-20 & Paris                            & France                           & Male   & NA                                                                                                             & NA             & NA             & 1912-06-12 & Paris          & France        \\\\\n\t 1901 & Physics    & The Nobel Prize in Physics 1901                & \"in recognition of the extraordinary services he has rendered by the discovery of the remarkable rays subsequently named after him\"                                                                                                                & 1/1 &   1 & Individual   & Wilhelm Conrad Röntgen                                                                 & 1845-03-27 & Lennep (Remscheid)               & Prussia (Germany)                & Male   & Munich University                                                                                              & Munich         & Germany        & 1923-02-10 & Munich         & Germany       \\\\\n\t 1902 & Chemistry  & The Nobel Prize in Chemistry 1902              & \"in recognition of the extraordinary services he has rendered by his work on sugar and purine syntheses\"                                                                                                                                           & 1/1 & 161 & Individual   & Hermann Emil Fischer                                                                   & 1852-10-09 & Euskirchen                       & Prussia (Germany)                & Male   & Berlin University                                                                                              & Berlin         & Germany        & 1919-07-15 & Berlin         & Germany       \\\\\n\t 1902 & Literature & The Nobel Prize in Literature 1902             & \"the greatest living master of the art of historical writing, with special reference to his monumental work, <I>A history of Rome</I>\"                                                                                                             & 1/1 & 571 & Individual   & Christian Matthias Theodor Mommsen                                                     & 1817-11-30 & Garding                          & Schleswig (Germany)              & Male   & NA                                                                                                             & NA             & NA             & 1903-11-01 & Charlottenburg & Germany       \\\\\n\t 1902 & Medicine   & The Nobel Prize in Physiology or Medicine 1902 & \"for his work on malaria, by which he has shown how it enters the organism and thereby has laid the foundation for successful research on this disease and methods of combating it\"                                                                & 1/1 & 294 & Individual   & Ronald Ross                                                                            & 1857-05-13 & Almora                           & India                            & Male   & University College                                                                                             & Liverpool      & United Kingdom & 1932-09-16 & Putney Heath   & United Kingdom\\\\\n\t 1902 & Peace      & The Nobel Peace Prize 1902                     & NA                                                                                                                                                                                                                                                 & 1/2 & 464 & Individual   & Élie Ducommun                                                                          & 1833-02-19 & Geneva                           & Switzerland                      & Male   & NA                                                                                                             & NA             & NA             & 1906-12-07 & Bern           & Switzerland   \\\\\n\t 1902 & Peace      & The Nobel Peace Prize 1902                     & NA                                                                                                                                                                                                                                                 & 1/2 & 465 & Individual   & Charles Albert Gobat                                                                   & 1843-05-21 & Tramelan                         & Switzerland                      & Male   & NA                                                                                                             & NA             & NA             & 1914-03-16 & Bern           & Switzerland   \\\\\n\t 1902 & Physics    & The Nobel Prize in Physics 1902                & \"in recognition of the extraordinary service they rendered by their researches into the influence of magnetism upon radiation phenomena\"                                                                                                           & 1/2 &   2 & Individual   & Hendrik Antoon Lorentz                                                                 & 1853-07-18 & Arnhem                           & Netherlands                      & Male   & Leiden University                                                                                              & Leiden         & Netherlands    & 1928-02-04 & NA             & Netherlands   \\\\\n\t 1902 & Physics    & The Nobel Prize in Physics 1902                & \"in recognition of the extraordinary service they rendered by their researches into the influence of magnetism upon radiation phenomena\"                                                                                                           & 1/2 &   3 & Individual   & Pieter Zeeman                                                                          & 1865-05-25 & Zonnemaire                       & Netherlands                      & Male   & Amsterdam University                                                                                           & Amsterdam      & Netherlands    & 1943-10-09 & Amsterdam      & Netherlands   \\\\\n\t 1903 & Chemistry  & The Nobel Prize in Chemistry 1903              & \"in recognition of the extraordinary services he has rendered to the advancement of chemistry by his electrolytic theory of dissociation\"                                                                                                          & 1/1 & 162 & Individual   & Svante August Arrhenius                                                                & 1859-02-19 & Vik                              & Sweden                           & Male   & Stockholm University                                                                                           & Stockholm      & Sweden         & 1927-10-02 & Stockholm      & Sweden        \\\\\n\t 1903 & Literature & The Nobel Prize in Literature 1903             & \"as a tribute to his noble, magnificent and versatile poetry, which has always been distinguished by both the freshness of its inspiration and the rare purity of its spirit\"                                                                      & 1/1 & 572 & Individual   & Bjørnstjerne Martinus Bjørnson                                                         & 1832-12-08 & Kvikne                           & Norway                           & Male   & NA                                                                                                             & NA             & NA             & 1910-04-26 & Paris          & France        \\\\\n\t 1903 & Medicine   & The Nobel Prize in Physiology or Medicine 1903 & \"in recognition of his contribution to the treatment of diseases, especially lupus vulgaris, with concentrated light radiation, whereby he has opened a new avenue for medical science\"                                                            & 1/1 & 295 & Individual   & Niels Ryberg Finsen                                                                    & 1860-12-15 & Thorshavn                        & Faroe Islands (Denmark)          & Male   & Finsen Medical Light Institute                                                                                 & Copenhagen     & Denmark        & 1904-09-24 & Copenhagen     & Denmark       \\\\\n\t 1903 & Peace      & The Nobel Peace Prize 1903                     & NA                                                                                                                                                                                                                                                 & 1/1 & 466 & Individual   & William Randal Cremer                                                                  & 1828-03-18 & Fareham                          & United Kingdom                   & Male   & NA                                                                                                             & NA             & NA             & 1908-07-22 & London         & United Kingdom\\\\\n\t 1903 & Physics    & The Nobel Prize in Physics 1903                & \"in recognition of the extraordinary services he has rendered by his discovery of spontaneous radioactivity\"                                                                                                                                       & 1/2 &   4 & Individual   & Antoine Henri Becquerel                                                                & 1852-12-15 & Paris                            & France                           & Male   & École Polytechnique                                                                                            & Paris          & France         & 1908-08-25 & NA             & France        \\\\\n\t 1903 & Physics    & The Nobel Prize in Physics 1903                & \"in recognition of the extraordinary services they have rendered by their joint researches on the radiation phenomena discovered by Professor Henri Becquerel\"                                                                                     & 1/4 &   5 & Individual   & Pierre Curie                                                                           & 1859-05-15 & Paris                            & France                           & Male   & École municipale de physique et de chimie industrielles (Municipal School of Industrial Physics and Chemistry) & Paris          & France         & 1906-04-19 & Paris          & France        \\\\\n\t 1903 & Physics    & The Nobel Prize in Physics 1903                & \"in recognition of the extraordinary services they have rendered by their joint researches on the radiation phenomena discovered by Professor Henri Becquerel\"                                                                                     & 1/4 &   6 & Individual   & Marie Curie, née Sklodowska                                                            & 1867-11-07 & Warsaw                           & Russian Empire (Poland)          & Female & NA                                                                                                             & NA             & NA             & 1934-07-04 & Sallanches     & France        \\\\\n\t 1904 & Chemistry  & The Nobel Prize in Chemistry 1904              & \"in recognition of his services in the discovery of the inert gaseous elements in air, and his determination of their place in the periodic system\"                                                                                                & 1/1 & 163 & Individual   & Sir William Ramsay                                                                     & 1852-10-02 & Glasgow                          & Scotland                         & Male   & University College                                                                                             & London         & United Kingdom & 1916-07-23 & High Wycombe   & United Kingdom\\\\\n\t 1904 & Literature & The Nobel Prize in Literature 1904             & \"in recognition of the fresh originality and true inspiration of his poetic production, which faithfully reflects the natural scenery and native spirit of his people, and, in addition, his significant work as a Proven\\&ccedil;al philologist\"   & 1/2 & 573 & Individual   & Frédéric Mistral                                                                       & 1830-09-08 & Maillane                         & France                           & Male   & NA                                                                                                             & NA             & NA             & 1914-03-25 & Maillane       & France        \\\\\n\t 1904 & Literature & The Nobel Prize in Literature 1904             & \"in recognition of the numerous and brilliant compositions which, in an individual and original manner, have revived the great traditions of the Spanish drama\"                                                                                    & 1/2 & 574 & Individual   & José Echegaray y Eizaguirre                                                            & 1832-04-19 & Madrid                           & Spain                            & Male   & NA                                                                                                             & NA             & NA             & 1916-09-04 & Madrid         & Spain         \\\\\n\t 1904 & Medicine   & The Nobel Prize in Physiology or Medicine 1904 & \"in recognition of his work on the physiology of digestion, through which knowledge on vital aspects of the subject has been transformed and enlarged\"                                                                                             & 1/1 & 296 & Individual   & Ivan Petrovich Pavlov                                                                  & 1849-09-14 & Ryazan                           & Russia                           & Male   & Military Medical Academy                                                                                       & St. Petersburg & Russia         & 1936-02-27 & Leningrad      & Russia        \\\\\n\t 1904 & Peace      & The Nobel Peace Prize 1904                     & NA                                                                                                                                                                                                                                                 & 1/1 & 467 & Organization & Institut de droit international (Institute of International Law)                       & NA         & NA                               & NA                               & NA     & NA                                                                                                             & NA             & NA             & NA         & NA             & NA            \\\\\n\t 1904 & Physics    & The Nobel Prize in Physics 1904                & \"for his investigations of the densities of the most important gases and for his discovery of argon in connection with these studies\"                                                                                                              & 1/1 &   8 & Individual   & Lord Rayleigh (John William Strutt)                                                    & 1842-11-12 & Langford Grove, Maldon, Essex    & United Kingdom                   & Male   & Royal Institution of Great Britain                                                                             & London         & United Kingdom & 1919-06-30 & NA             & United Kingdom\\\\\n\t 1905 & Chemistry  & The Nobel Prize in Chemistry 1905              & \"in recognition of his services in the advancement of organic chemistry and the chemical industry, through his work on organic dyes and hydroaromatic compounds\"                                                                                   & 1/1 & 164 & Individual   & Johann Friedrich Wilhelm Adolf von Baeyer                                              & 1835-10-31 & Berlin                           & Prussia (Germany)                & Male   & Munich University                                                                                              & Munich         & Germany        & 1917-08-20 & Starnberg      & Germany       \\\\\n\t 1905 & Literature & The Nobel Prize in Literature 1905             & \"because of his outstanding merits as an epic writer\"                                                                                                                                                                                              & 1/1 & 575 & Individual   & Henryk Sienkiewicz                                                                     & 1846-05-05 & Wola Okrzejska                   & Poland                           & Male   & NA                                                                                                             & NA             & NA             & 1916-11-15 & Vevey          & Switzerland   \\\\\n\t 1905 & Medicine   & The Nobel Prize in Physiology or Medicine 1905 & \"for his investigations and discoveries in relation to tuberculosis\"                                                                                                                                                                               & 1/1 & 297 & Individual   & Robert Koch                                                                            & 1843-12-11 & Clausthal (Clausthal-Zellerfeld) & Germany                          & Male   & Institute for Infectious Diseases                                                                              & Berlin         & Germany        & 1910-05-27 & Baden-Baden    & Germany       \\\\\n\t 1905 & Peace      & The Nobel Peace Prize 1905                     & NA                                                                                                                                                                                                                                                 & 1/1 & 468 & Individual   & Baroness Bertha Sophie Felicita von Suttner, née Countess Kinsky von Chinic und Tettau & 1843-06-09 & Prague                           & Austrian Empire (Czech Republic) & Female & NA                                                                                                             & NA             & NA             & 1914-06-21 & Vienna         & Austria       \\\\\n\t ⋮ & ⋮ & ⋮ & ⋮ & ⋮ & ⋮ & ⋮ & ⋮ & ⋮ & ⋮ & ⋮ & ⋮ & ⋮ & ⋮ & ⋮ & ⋮ & ⋮ & ⋮\\\\\n\t 2014 & Peace      & The Nobel Peace Prize 2014                            & \"for their struggle against the suppression of children and young people and for the right of all children to education\"            & 1/2 & 913 & Individual   & Kailash Satyarthi         & 1954-01-11 & Vidisha              & India                    & Male   & NA                                            & NA                & NA                       & NA & NA & NA\\\\\n\t 2014 & Peace      & The Nobel Peace Prize 2014                            & \"for their struggle against the suppression of children and young people and for the right of all children to education\"            & 1/2 & 914 & Individual   & Malala Yousafzai          & 1997-07-12 & Mingora              & Pakistan                 & Female & NA                                            & NA                & NA                       & NA & NA & NA\\\\\n\t 2014 & Physics    & The Nobel Prize in Physics 2014                       & \"for the invention of efficient blue light-emitting diodes which has enabled bright and energy-saving white light sources\"          & 1/3 & 906 & Individual   & Isamu Akasaki             & 1929-01-30 & Chiran               & Japan                    & Male   & Meijo University                              & Nagoya            & Japan                    & NA & NA & NA\\\\\n\t 2014 & Physics    & The Nobel Prize in Physics 2014                       & \"for the invention of efficient blue light-emitting diodes which has enabled bright and energy-saving white light sources\"          & 1/3 & 906 & Individual   & Isamu Akasaki             & 1929-01-30 & Chiran               & Japan                    & Male   & Nagoya University                             & Nagoya            & Japan                    & NA & NA & NA\\\\\n\t 2014 & Physics    & The Nobel Prize in Physics 2014                       & \"for the invention of efficient blue light-emitting diodes which has enabled bright and energy-saving white light sources\"          & 1/3 & 907 & Individual   & Hiroshi Amano             & 1960-09-11 & Hamamatsu            & Japan                    & Male   & Nagoya University                             & Nagoya            & Japan                    & NA & NA & NA\\\\\n\t 2014 & Physics    & The Nobel Prize in Physics 2014                       & \"for the invention of efficient blue light-emitting diodes which has enabled bright and energy-saving white light sources\"          & 1/3 & 908 & Individual   & Shuji Nakamura            & 1954-05-22 & Ikata                & Japan                    & Male   & University of California                      & Santa Barbara, CA & United States of America & NA & NA & NA\\\\\n\t 2015 & Chemistry  & The Nobel Prize in Chemistry 2015                     & \"for mechanistic studies of DNA repair\"                                                                                             & 1/3 & 921 & Individual   & Tomas Lindahl             & 1938-01-28 & Stockholm            & Sweden                   & Male   & Francis Crick Institute                       & Hertfordshire     & United Kingdom           & NA & NA & NA\\\\\n\t 2015 & Chemistry  & The Nobel Prize in Chemistry 2015                     & \"for mechanistic studies of DNA repair\"                                                                                             & 1/3 & 921 & Individual   & Tomas Lindahl             & 1938-01-28 & Stockholm            & Sweden                   & Male   & Clare Hall Laboratory                         & Hertfordshire     & United Kingdom           & NA & NA & NA\\\\\n\t 2015 & Chemistry  & The Nobel Prize in Chemistry 2015                     & \"for mechanistic studies of DNA repair\"                                                                                             & 1/3 & 922 & Individual   & Paul Modrich              & 1946-06-13 & Raton, NM            & United States of America & Male   & Howard Hughes Medical Institute               & Durham, NC        & United States of America & NA & NA & NA\\\\\n\t 2015 & Chemistry  & The Nobel Prize in Chemistry 2015                     & \"for mechanistic studies of DNA repair\"                                                                                             & 1/3 & 922 & Individual   & Paul Modrich              & 1946-06-13 & Raton, NM            & United States of America & Male   & Duke University School of Medicine            & Durham, NC        & United States of America & NA & NA & NA\\\\\n\t 2015 & Chemistry  & The Nobel Prize in Chemistry 2015                     & \"for mechanistic studies of DNA repair\"                                                                                             & 1/3 & 923 & Individual   & Aziz Sancar               & 1946-09-08 & Savur                & Turkey                   & Male   & University of North Carolina                  & Chapel Hill, NC   & United States of America & NA & NA & NA\\\\\n\t 2015 & Economics  & The Sveriges Riksbank Prize in Economic Sciences 2015 & \"for his analysis of consumption, poverty, and welfare\"                                                                             & 1/1 & 926 & Individual   & Angus Deaton              & 1945-10-19 & Edinburgh            & United Kingdom           & Male   & Princeton University                          & Princeton, NJ     & United States of America & NA & NA & NA\\\\\n\t 2015 & Literature & The Nobel Prize in Literature 2015                    & \"for her polyphonic writings, a monument to suffering and courage in our time\"                                                      & 1/1 & 924 & Individual   & Svetlana Alexievich       & 1948-05-31 & Ivano-Frankivsk      & Ukraine                  & Female & NA                                            & NA                & NA                       & NA & NA & NA\\\\\n\t 2015 & Medicine   & The Nobel Prize in Physiology or Medicine 2015        & \"for their discoveries concerning a novel therapy against infections caused by roundworm parasites\"                                 & 1/4 & 916 & Individual   & William C. Campbell       & 1930-06-28 & Ramelton             & Ireland                  & Male   & Drew University                               & Madison, NJ       & United States of America & NA & NA & NA\\\\\n\t 2015 & Medicine   & The Nobel Prize in Physiology or Medicine 2015        & \"for their discoveries concerning a novel therapy against infections caused by roundworm parasites\"                                 & 1/4 & 917 & Individual   & Satoshi Ōmura             & 1935-07-12 & Yamanashi Prefecture & Japan                    & Male   & Kitasato University                           & Tokyo             & Japan                    & NA & NA & NA\\\\\n\t 2015 & Medicine   & The Nobel Prize in Physiology or Medicine 2015        & \"for her discoveries concerning a novel therapy against Malaria\"                                                                    & 1/2 & 918 & Individual   & Youyou Tu                 & 1930-12-30 & Zhejiang Ningbo      & China                    & Female & China Academy of Traditional Chinese Medicine & Beijing           & China                    & NA & NA & NA\\\\\n\t 2015 & Peace      & The Nobel Peace Prize 2015                            & \"for its decisive contribution to the building of a pluralistic democracy in Tunisia in the wake of the Jasmine Revolution of 2011\" & 1/1 & 925 & Organization & National Dialogue Quartet & NA         & NA                   & NA                       & NA     & NA                                            & NA                & NA                       & NA & NA & NA\\\\\n\t 2015 & Physics    & The Nobel Prize in Physics 2015                       & \"for the discovery of neutrino oscillations, which shows that neutrinos have mass\"                                                  & 1/2 & 919 & Individual   & Takaaki Kajita            & 1959-03-09 & Higashimatsuyama     & Japan                    & Male   & University of Tokyo                           & Kashiwa           & Japan                    & NA & NA & NA\\\\\n\t 2015 & Physics    & The Nobel Prize in Physics 2015                       & \"for the discovery of neutrino oscillations, which shows that neutrinos have mass\"                                                  & 1/2 & 920 & Individual   & Arthur B. McDonald        & 1943-08-29 & Sydney               & Canada                   & Male   & Queen's University                            & Kingston          & Canada                   & NA & NA & NA\\\\\n\t 2016 & Chemistry  & The Nobel Prize in Chemistry 2016                     & \"for the design and synthesis of molecular machines\"                                                                                & 1/3 & 931 & Individual   & Jean-Pierre Sauvage       & 1944-10-21 & Paris                & France                   & Male   & University of Strasbourg                      & Strasbourg        & France                   & NA & NA & NA\\\\\n\t 2016 & Chemistry  & The Nobel Prize in Chemistry 2016                     & \"for the design and synthesis of molecular machines\"                                                                                & 1/3 & 932 & Individual   & Sir J. Fraser Stoddart    & 1942-05-24 & Edinburgh            & United Kingdom           & Male   & Northwestern University                       & Evanston, IL      & United States of America & NA & NA & NA\\\\\n\t 2016 & Chemistry  & The Nobel Prize in Chemistry 2016                     & \"for the design and synthesis of molecular machines\"                                                                                & 1/3 & 933 & Individual   & Bernard L. Feringa        & 1951-05-18 & Barger-Compascuum    & Netherlands              & Male   & University of Groningen                       & Groningen         & Netherlands              & NA & NA & NA\\\\\n\t 2016 & Economics  & The Sveriges Riksbank Prize in Economic Sciences 2016 & \"for their contributions to contract theory\"                                                                                        & 1/2 & 935 & Individual   & Oliver Hart               & 1948-10-09 & London               & United Kingdom           & Male   & Harvard University                            & Cambridge, MA     & United States of America & NA & NA & NA\\\\\n\t 2016 & Economics  & The Sveriges Riksbank Prize in Economic Sciences 2016 & \"for their contributions to contract theory\"                                                                                        & 1/2 & 936 & Individual   & Bengt Holmström           & 1949-04-18 & Helsinki             & Finland                  & Male   & Massachusetts Institute of Technology (MIT)   & Cambridge, MA     & United States of America & NA & NA & NA\\\\\n\t 2016 & Literature & The Nobel Prize in Literature 2016                    & \"for having created new poetic expressions within the great American song tradition\"                                                & 1/1 & 937 & Individual   & Bob Dylan                 & 1941-05-24 & Duluth, MN           & United States of America & Male   & NA                                            & NA                & NA                       & NA & NA & NA\\\\\n\t 2016 & Medicine   & The Nobel Prize in Physiology or Medicine 2016        & \"for his discoveries of mechanisms for autophagy\"                                                                                   & 1/1 & 927 & Individual   & Yoshinori Ohsumi          & 1945-02-09 & Fukuoka              & Japan                    & Male   & Tokyo Institute of Technology                 & Tokyo             & Japan                    & NA & NA & NA\\\\\n\t 2016 & Peace      & The Nobel Peace Prize 2016                            & \"for his resolute efforts to bring the country's more than 50-year-long civil war to an end\"                                        & 1/1 & 934 & Individual   & Juan Manuel Santos        & 1951-08-10 & Bogotá               & Colombia                 & Male   & NA                                            & NA                & NA                       & NA & NA & NA\\\\\n\t 2016 & Physics    & The Nobel Prize in Physics 2016                       & \"for theoretical discoveries of topological phase transitions and topological phases of matter\"                                     & 1/2 & 928 & Individual   & David J. Thouless         & 1934-09-21 & Bearsden             & United Kingdom           & Male   & University of Washington                      & Seattle, WA       & United States of America & NA & NA & NA\\\\\n\t 2016 & Physics    & The Nobel Prize in Physics 2016                       & \"for theoretical discoveries of topological phase transitions and topological phases of matter\"                                     & 1/4 & 929 & Individual   & F. Duncan M. Haldane      & 1951-09-14 & London               & United Kingdom           & Male   & Princeton University                          & Princeton, NJ     & United States of America & NA & NA & NA\\\\\n\t 2016 & Physics    & The Nobel Prize in Physics 2016                       & \"for theoretical discoveries of topological phase transitions and topological phases of matter\"                                     & 1/4 & 930 & Individual   & J. Michael Kosterlitz     & 1943-06-22 & Aberdeen             & United Kingdom           & Male   & Brown University                              & Providence, RI    & United States of America & NA & NA & NA\\\\\n\\end{tabular}\n",
            "text/markdown": "\nA data.frame: 969 × 18\n\n| prize_year &lt;int&gt; | category &lt;chr&gt; | prize &lt;chr&gt; | motivation &lt;chr&gt; | prize_share &lt;chr&gt; | laureate_id &lt;int&gt; | laureate_type &lt;chr&gt; | full_name &lt;chr&gt; | birth_date &lt;chr&gt; | birth_city &lt;chr&gt; | birth_country &lt;chr&gt; | gender &lt;chr&gt; | organization_name &lt;chr&gt; | organization_city &lt;chr&gt; | organization_country &lt;chr&gt; | death_date &lt;chr&gt; | death_city &lt;chr&gt; | death_country &lt;chr&gt; |\n|---|---|---|---|---|---|---|---|---|---|---|---|---|---|---|---|---|---|\n| 1901 | Chemistry  | The Nobel Prize in Chemistry 1901              | \"in recognition of the extraordinary services he has rendered by the discovery of the laws of chemical dynamics and osmotic pressure in solutions\"                                                                                                 | 1/1 | 160 | Individual   | Jacobus Henricus van 't Hoff                                                           | 1852-08-30 | Rotterdam                        | Netherlands                      | Male   | Berlin University                                                                                              | Berlin         | Germany        | 1911-03-01 | Berlin         | Germany        |\n| 1901 | Literature | The Nobel Prize in Literature 1901             | \"in special recognition of his poetic composition, which gives evidence of lofty idealism, artistic perfection and a rare combination of the qualities of both heart and intellect\"                                                                | 1/1 | 569 | Individual   | Sully Prudhomme                                                                        | 1839-03-16 | Paris                            | France                           | Male   | NA                                                                                                             | NA             | NA             | 1907-09-07 | Châtenay       | France         |\n| 1901 | Medicine   | The Nobel Prize in Physiology or Medicine 1901 | \"for his work on serum therapy, especially its application against diphtheria, by which he has opened a new road in the domain of medical science and thereby placed in the hands of the physician a victorious weapon against illness and deaths\" | 1/1 | 293 | Individual   | Emil Adolf von Behring                                                                 | 1854-03-15 | Hansdorf (Lawice)                | Prussia (Poland)                 | Male   | Marburg University                                                                                             | Marburg        | Germany        | 1917-03-31 | Marburg        | Germany        |\n| 1901 | Peace      | The Nobel Peace Prize 1901                     | NA                                                                                                                                                                                                                                                 | 1/2 | 462 | Individual   | Jean Henry Dunant                                                                      | 1828-05-08 | Geneva                           | Switzerland                      | Male   | NA                                                                                                             | NA             | NA             | 1910-10-30 | Heiden         | Switzerland    |\n| 1901 | Peace      | The Nobel Peace Prize 1901                     | NA                                                                                                                                                                                                                                                 | 1/2 | 463 | Individual   | Frédéric Passy                                                                         | 1822-05-20 | Paris                            | France                           | Male   | NA                                                                                                             | NA             | NA             | 1912-06-12 | Paris          | France         |\n| 1901 | Physics    | The Nobel Prize in Physics 1901                | \"in recognition of the extraordinary services he has rendered by the discovery of the remarkable rays subsequently named after him\"                                                                                                                | 1/1 |   1 | Individual   | Wilhelm Conrad Röntgen                                                                 | 1845-03-27 | Lennep (Remscheid)               | Prussia (Germany)                | Male   | Munich University                                                                                              | Munich         | Germany        | 1923-02-10 | Munich         | Germany        |\n| 1902 | Chemistry  | The Nobel Prize in Chemistry 1902              | \"in recognition of the extraordinary services he has rendered by his work on sugar and purine syntheses\"                                                                                                                                           | 1/1 | 161 | Individual   | Hermann Emil Fischer                                                                   | 1852-10-09 | Euskirchen                       | Prussia (Germany)                | Male   | Berlin University                                                                                              | Berlin         | Germany        | 1919-07-15 | Berlin         | Germany        |\n| 1902 | Literature | The Nobel Prize in Literature 1902             | \"the greatest living master of the art of historical writing, with special reference to his monumental work, &lt;I&gt;A history of Rome&lt;/I&gt;\"                                                                                                             | 1/1 | 571 | Individual   | Christian Matthias Theodor Mommsen                                                     | 1817-11-30 | Garding                          | Schleswig (Germany)              | Male   | NA                                                                                                             | NA             | NA             | 1903-11-01 | Charlottenburg | Germany        |\n| 1902 | Medicine   | The Nobel Prize in Physiology or Medicine 1902 | \"for his work on malaria, by which he has shown how it enters the organism and thereby has laid the foundation for successful research on this disease and methods of combating it\"                                                                | 1/1 | 294 | Individual   | Ronald Ross                                                                            | 1857-05-13 | Almora                           | India                            | Male   | University College                                                                                             | Liverpool      | United Kingdom | 1932-09-16 | Putney Heath   | United Kingdom |\n| 1902 | Peace      | The Nobel Peace Prize 1902                     | NA                                                                                                                                                                                                                                                 | 1/2 | 464 | Individual   | Élie Ducommun                                                                          | 1833-02-19 | Geneva                           | Switzerland                      | Male   | NA                                                                                                             | NA             | NA             | 1906-12-07 | Bern           | Switzerland    |\n| 1902 | Peace      | The Nobel Peace Prize 1902                     | NA                                                                                                                                                                                                                                                 | 1/2 | 465 | Individual   | Charles Albert Gobat                                                                   | 1843-05-21 | Tramelan                         | Switzerland                      | Male   | NA                                                                                                             | NA             | NA             | 1914-03-16 | Bern           | Switzerland    |\n| 1902 | Physics    | The Nobel Prize in Physics 1902                | \"in recognition of the extraordinary service they rendered by their researches into the influence of magnetism upon radiation phenomena\"                                                                                                           | 1/2 |   2 | Individual   | Hendrik Antoon Lorentz                                                                 | 1853-07-18 | Arnhem                           | Netherlands                      | Male   | Leiden University                                                                                              | Leiden         | Netherlands    | 1928-02-04 | NA             | Netherlands    |\n| 1902 | Physics    | The Nobel Prize in Physics 1902                | \"in recognition of the extraordinary service they rendered by their researches into the influence of magnetism upon radiation phenomena\"                                                                                                           | 1/2 |   3 | Individual   | Pieter Zeeman                                                                          | 1865-05-25 | Zonnemaire                       | Netherlands                      | Male   | Amsterdam University                                                                                           | Amsterdam      | Netherlands    | 1943-10-09 | Amsterdam      | Netherlands    |\n| 1903 | Chemistry  | The Nobel Prize in Chemistry 1903              | \"in recognition of the extraordinary services he has rendered to the advancement of chemistry by his electrolytic theory of dissociation\"                                                                                                          | 1/1 | 162 | Individual   | Svante August Arrhenius                                                                | 1859-02-19 | Vik                              | Sweden                           | Male   | Stockholm University                                                                                           | Stockholm      | Sweden         | 1927-10-02 | Stockholm      | Sweden         |\n| 1903 | Literature | The Nobel Prize in Literature 1903             | \"as a tribute to his noble, magnificent and versatile poetry, which has always been distinguished by both the freshness of its inspiration and the rare purity of its spirit\"                                                                      | 1/1 | 572 | Individual   | Bjørnstjerne Martinus Bjørnson                                                         | 1832-12-08 | Kvikne                           | Norway                           | Male   | NA                                                                                                             | NA             | NA             | 1910-04-26 | Paris          | France         |\n| 1903 | Medicine   | The Nobel Prize in Physiology or Medicine 1903 | \"in recognition of his contribution to the treatment of diseases, especially lupus vulgaris, with concentrated light radiation, whereby he has opened a new avenue for medical science\"                                                            | 1/1 | 295 | Individual   | Niels Ryberg Finsen                                                                    | 1860-12-15 | Thorshavn                        | Faroe Islands (Denmark)          | Male   | Finsen Medical Light Institute                                                                                 | Copenhagen     | Denmark        | 1904-09-24 | Copenhagen     | Denmark        |\n| 1903 | Peace      | The Nobel Peace Prize 1903                     | NA                                                                                                                                                                                                                                                 | 1/1 | 466 | Individual   | William Randal Cremer                                                                  | 1828-03-18 | Fareham                          | United Kingdom                   | Male   | NA                                                                                                             | NA             | NA             | 1908-07-22 | London         | United Kingdom |\n| 1903 | Physics    | The Nobel Prize in Physics 1903                | \"in recognition of the extraordinary services he has rendered by his discovery of spontaneous radioactivity\"                                                                                                                                       | 1/2 |   4 | Individual   | Antoine Henri Becquerel                                                                | 1852-12-15 | Paris                            | France                           | Male   | École Polytechnique                                                                                            | Paris          | France         | 1908-08-25 | NA             | France         |\n| 1903 | Physics    | The Nobel Prize in Physics 1903                | \"in recognition of the extraordinary services they have rendered by their joint researches on the radiation phenomena discovered by Professor Henri Becquerel\"                                                                                     | 1/4 |   5 | Individual   | Pierre Curie                                                                           | 1859-05-15 | Paris                            | France                           | Male   | École municipale de physique et de chimie industrielles (Municipal School of Industrial Physics and Chemistry) | Paris          | France         | 1906-04-19 | Paris          | France         |\n| 1903 | Physics    | The Nobel Prize in Physics 1903                | \"in recognition of the extraordinary services they have rendered by their joint researches on the radiation phenomena discovered by Professor Henri Becquerel\"                                                                                     | 1/4 |   6 | Individual   | Marie Curie, née Sklodowska                                                            | 1867-11-07 | Warsaw                           | Russian Empire (Poland)          | Female | NA                                                                                                             | NA             | NA             | 1934-07-04 | Sallanches     | France         |\n| 1904 | Chemistry  | The Nobel Prize in Chemistry 1904              | \"in recognition of his services in the discovery of the inert gaseous elements in air, and his determination of their place in the periodic system\"                                                                                                | 1/1 | 163 | Individual   | Sir William Ramsay                                                                     | 1852-10-02 | Glasgow                          | Scotland                         | Male   | University College                                                                                             | London         | United Kingdom | 1916-07-23 | High Wycombe   | United Kingdom |\n| 1904 | Literature | The Nobel Prize in Literature 1904             | \"in recognition of the fresh originality and true inspiration of his poetic production, which faithfully reflects the natural scenery and native spirit of his people, and, in addition, his significant work as a Proven&amp;ccedil;al philologist\"   | 1/2 | 573 | Individual   | Frédéric Mistral                                                                       | 1830-09-08 | Maillane                         | France                           | Male   | NA                                                                                                             | NA             | NA             | 1914-03-25 | Maillane       | France         |\n| 1904 | Literature | The Nobel Prize in Literature 1904             | \"in recognition of the numerous and brilliant compositions which, in an individual and original manner, have revived the great traditions of the Spanish drama\"                                                                                    | 1/2 | 574 | Individual   | José Echegaray y Eizaguirre                                                            | 1832-04-19 | Madrid                           | Spain                            | Male   | NA                                                                                                             | NA             | NA             | 1916-09-04 | Madrid         | Spain          |\n| 1904 | Medicine   | The Nobel Prize in Physiology or Medicine 1904 | \"in recognition of his work on the physiology of digestion, through which knowledge on vital aspects of the subject has been transformed and enlarged\"                                                                                             | 1/1 | 296 | Individual   | Ivan Petrovich Pavlov                                                                  | 1849-09-14 | Ryazan                           | Russia                           | Male   | Military Medical Academy                                                                                       | St. Petersburg | Russia         | 1936-02-27 | Leningrad      | Russia         |\n| 1904 | Peace      | The Nobel Peace Prize 1904                     | NA                                                                                                                                                                                                                                                 | 1/1 | 467 | Organization | Institut de droit international (Institute of International Law)                       | NA         | NA                               | NA                               | NA     | NA                                                                                                             | NA             | NA             | NA         | NA             | NA             |\n| 1904 | Physics    | The Nobel Prize in Physics 1904                | \"for his investigations of the densities of the most important gases and for his discovery of argon in connection with these studies\"                                                                                                              | 1/1 |   8 | Individual   | Lord Rayleigh (John William Strutt)                                                    | 1842-11-12 | Langford Grove, Maldon, Essex    | United Kingdom                   | Male   | Royal Institution of Great Britain                                                                             | London         | United Kingdom | 1919-06-30 | NA             | United Kingdom |\n| 1905 | Chemistry  | The Nobel Prize in Chemistry 1905              | \"in recognition of his services in the advancement of organic chemistry and the chemical industry, through his work on organic dyes and hydroaromatic compounds\"                                                                                   | 1/1 | 164 | Individual   | Johann Friedrich Wilhelm Adolf von Baeyer                                              | 1835-10-31 | Berlin                           | Prussia (Germany)                | Male   | Munich University                                                                                              | Munich         | Germany        | 1917-08-20 | Starnberg      | Germany        |\n| 1905 | Literature | The Nobel Prize in Literature 1905             | \"because of his outstanding merits as an epic writer\"                                                                                                                                                                                              | 1/1 | 575 | Individual   | Henryk Sienkiewicz                                                                     | 1846-05-05 | Wola Okrzejska                   | Poland                           | Male   | NA                                                                                                             | NA             | NA             | 1916-11-15 | Vevey          | Switzerland    |\n| 1905 | Medicine   | The Nobel Prize in Physiology or Medicine 1905 | \"for his investigations and discoveries in relation to tuberculosis\"                                                                                                                                                                               | 1/1 | 297 | Individual   | Robert Koch                                                                            | 1843-12-11 | Clausthal (Clausthal-Zellerfeld) | Germany                          | Male   | Institute for Infectious Diseases                                                                              | Berlin         | Germany        | 1910-05-27 | Baden-Baden    | Germany        |\n| 1905 | Peace      | The Nobel Peace Prize 1905                     | NA                                                                                                                                                                                                                                                 | 1/1 | 468 | Individual   | Baroness Bertha Sophie Felicita von Suttner, née Countess Kinsky von Chinic und Tettau | 1843-06-09 | Prague                           | Austrian Empire (Czech Republic) | Female | NA                                                                                                             | NA             | NA             | 1914-06-21 | Vienna         | Austria        |\n| ⋮ | ⋮ | ⋮ | ⋮ | ⋮ | ⋮ | ⋮ | ⋮ | ⋮ | ⋮ | ⋮ | ⋮ | ⋮ | ⋮ | ⋮ | ⋮ | ⋮ | ⋮ |\n| 2014 | Peace      | The Nobel Peace Prize 2014                            | \"for their struggle against the suppression of children and young people and for the right of all children to education\"            | 1/2 | 913 | Individual   | Kailash Satyarthi         | 1954-01-11 | Vidisha              | India                    | Male   | NA                                            | NA                | NA                       | NA | NA | NA |\n| 2014 | Peace      | The Nobel Peace Prize 2014                            | \"for their struggle against the suppression of children and young people and for the right of all children to education\"            | 1/2 | 914 | Individual   | Malala Yousafzai          | 1997-07-12 | Mingora              | Pakistan                 | Female | NA                                            | NA                | NA                       | NA | NA | NA |\n| 2014 | Physics    | The Nobel Prize in Physics 2014                       | \"for the invention of efficient blue light-emitting diodes which has enabled bright and energy-saving white light sources\"          | 1/3 | 906 | Individual   | Isamu Akasaki             | 1929-01-30 | Chiran               | Japan                    | Male   | Meijo University                              | Nagoya            | Japan                    | NA | NA | NA |\n| 2014 | Physics    | The Nobel Prize in Physics 2014                       | \"for the invention of efficient blue light-emitting diodes which has enabled bright and energy-saving white light sources\"          | 1/3 | 906 | Individual   | Isamu Akasaki             | 1929-01-30 | Chiran               | Japan                    | Male   | Nagoya University                             | Nagoya            | Japan                    | NA | NA | NA |\n| 2014 | Physics    | The Nobel Prize in Physics 2014                       | \"for the invention of efficient blue light-emitting diodes which has enabled bright and energy-saving white light sources\"          | 1/3 | 907 | Individual   | Hiroshi Amano             | 1960-09-11 | Hamamatsu            | Japan                    | Male   | Nagoya University                             | Nagoya            | Japan                    | NA | NA | NA |\n| 2014 | Physics    | The Nobel Prize in Physics 2014                       | \"for the invention of efficient blue light-emitting diodes which has enabled bright and energy-saving white light sources\"          | 1/3 | 908 | Individual   | Shuji Nakamura            | 1954-05-22 | Ikata                | Japan                    | Male   | University of California                      | Santa Barbara, CA | United States of America | NA | NA | NA |\n| 2015 | Chemistry  | The Nobel Prize in Chemistry 2015                     | \"for mechanistic studies of DNA repair\"                                                                                             | 1/3 | 921 | Individual   | Tomas Lindahl             | 1938-01-28 | Stockholm            | Sweden                   | Male   | Francis Crick Institute                       | Hertfordshire     | United Kingdom           | NA | NA | NA |\n| 2015 | Chemistry  | The Nobel Prize in Chemistry 2015                     | \"for mechanistic studies of DNA repair\"                                                                                             | 1/3 | 921 | Individual   | Tomas Lindahl             | 1938-01-28 | Stockholm            | Sweden                   | Male   | Clare Hall Laboratory                         | Hertfordshire     | United Kingdom           | NA | NA | NA |\n| 2015 | Chemistry  | The Nobel Prize in Chemistry 2015                     | \"for mechanistic studies of DNA repair\"                                                                                             | 1/3 | 922 | Individual   | Paul Modrich              | 1946-06-13 | Raton, NM            | United States of America | Male   | Howard Hughes Medical Institute               | Durham, NC        | United States of America | NA | NA | NA |\n| 2015 | Chemistry  | The Nobel Prize in Chemistry 2015                     | \"for mechanistic studies of DNA repair\"                                                                                             | 1/3 | 922 | Individual   | Paul Modrich              | 1946-06-13 | Raton, NM            | United States of America | Male   | Duke University School of Medicine            | Durham, NC        | United States of America | NA | NA | NA |\n| 2015 | Chemistry  | The Nobel Prize in Chemistry 2015                     | \"for mechanistic studies of DNA repair\"                                                                                             | 1/3 | 923 | Individual   | Aziz Sancar               | 1946-09-08 | Savur                | Turkey                   | Male   | University of North Carolina                  | Chapel Hill, NC   | United States of America | NA | NA | NA |\n| 2015 | Economics  | The Sveriges Riksbank Prize in Economic Sciences 2015 | \"for his analysis of consumption, poverty, and welfare\"                                                                             | 1/1 | 926 | Individual   | Angus Deaton              | 1945-10-19 | Edinburgh            | United Kingdom           | Male   | Princeton University                          | Princeton, NJ     | United States of America | NA | NA | NA |\n| 2015 | Literature | The Nobel Prize in Literature 2015                    | \"for her polyphonic writings, a monument to suffering and courage in our time\"                                                      | 1/1 | 924 | Individual   | Svetlana Alexievich       | 1948-05-31 | Ivano-Frankivsk      | Ukraine                  | Female | NA                                            | NA                | NA                       | NA | NA | NA |\n| 2015 | Medicine   | The Nobel Prize in Physiology or Medicine 2015        | \"for their discoveries concerning a novel therapy against infections caused by roundworm parasites\"                                 | 1/4 | 916 | Individual   | William C. Campbell       | 1930-06-28 | Ramelton             | Ireland                  | Male   | Drew University                               | Madison, NJ       | United States of America | NA | NA | NA |\n| 2015 | Medicine   | The Nobel Prize in Physiology or Medicine 2015        | \"for their discoveries concerning a novel therapy against infections caused by roundworm parasites\"                                 | 1/4 | 917 | Individual   | Satoshi Ōmura             | 1935-07-12 | Yamanashi Prefecture | Japan                    | Male   | Kitasato University                           | Tokyo             | Japan                    | NA | NA | NA |\n| 2015 | Medicine   | The Nobel Prize in Physiology or Medicine 2015        | \"for her discoveries concerning a novel therapy against Malaria\"                                                                    | 1/2 | 918 | Individual   | Youyou Tu                 | 1930-12-30 | Zhejiang Ningbo      | China                    | Female | China Academy of Traditional Chinese Medicine | Beijing           | China                    | NA | NA | NA |\n| 2015 | Peace      | The Nobel Peace Prize 2015                            | \"for its decisive contribution to the building of a pluralistic democracy in Tunisia in the wake of the Jasmine Revolution of 2011\" | 1/1 | 925 | Organization | National Dialogue Quartet | NA         | NA                   | NA                       | NA     | NA                                            | NA                | NA                       | NA | NA | NA |\n| 2015 | Physics    | The Nobel Prize in Physics 2015                       | \"for the discovery of neutrino oscillations, which shows that neutrinos have mass\"                                                  | 1/2 | 919 | Individual   | Takaaki Kajita            | 1959-03-09 | Higashimatsuyama     | Japan                    | Male   | University of Tokyo                           | Kashiwa           | Japan                    | NA | NA | NA |\n| 2015 | Physics    | The Nobel Prize in Physics 2015                       | \"for the discovery of neutrino oscillations, which shows that neutrinos have mass\"                                                  | 1/2 | 920 | Individual   | Arthur B. McDonald        | 1943-08-29 | Sydney               | Canada                   | Male   | Queen's University                            | Kingston          | Canada                   | NA | NA | NA |\n| 2016 | Chemistry  | The Nobel Prize in Chemistry 2016                     | \"for the design and synthesis of molecular machines\"                                                                                | 1/3 | 931 | Individual   | Jean-Pierre Sauvage       | 1944-10-21 | Paris                | France                   | Male   | University of Strasbourg                      | Strasbourg        | France                   | NA | NA | NA |\n| 2016 | Chemistry  | The Nobel Prize in Chemistry 2016                     | \"for the design and synthesis of molecular machines\"                                                                                | 1/3 | 932 | Individual   | Sir J. Fraser Stoddart    | 1942-05-24 | Edinburgh            | United Kingdom           | Male   | Northwestern University                       | Evanston, IL      | United States of America | NA | NA | NA |\n| 2016 | Chemistry  | The Nobel Prize in Chemistry 2016                     | \"for the design and synthesis of molecular machines\"                                                                                | 1/3 | 933 | Individual   | Bernard L. Feringa        | 1951-05-18 | Barger-Compascuum    | Netherlands              | Male   | University of Groningen                       | Groningen         | Netherlands              | NA | NA | NA |\n| 2016 | Economics  | The Sveriges Riksbank Prize in Economic Sciences 2016 | \"for their contributions to contract theory\"                                                                                        | 1/2 | 935 | Individual   | Oliver Hart               | 1948-10-09 | London               | United Kingdom           | Male   | Harvard University                            | Cambridge, MA     | United States of America | NA | NA | NA |\n| 2016 | Economics  | The Sveriges Riksbank Prize in Economic Sciences 2016 | \"for their contributions to contract theory\"                                                                                        | 1/2 | 936 | Individual   | Bengt Holmström           | 1949-04-18 | Helsinki             | Finland                  | Male   | Massachusetts Institute of Technology (MIT)   | Cambridge, MA     | United States of America | NA | NA | NA |\n| 2016 | Literature | The Nobel Prize in Literature 2016                    | \"for having created new poetic expressions within the great American song tradition\"                                                | 1/1 | 937 | Individual   | Bob Dylan                 | 1941-05-24 | Duluth, MN           | United States of America | Male   | NA                                            | NA                | NA                       | NA | NA | NA |\n| 2016 | Medicine   | The Nobel Prize in Physiology or Medicine 2016        | \"for his discoveries of mechanisms for autophagy\"                                                                                   | 1/1 | 927 | Individual   | Yoshinori Ohsumi          | 1945-02-09 | Fukuoka              | Japan                    | Male   | Tokyo Institute of Technology                 | Tokyo             | Japan                    | NA | NA | NA |\n| 2016 | Peace      | The Nobel Peace Prize 2016                            | \"for his resolute efforts to bring the country's more than 50-year-long civil war to an end\"                                        | 1/1 | 934 | Individual   | Juan Manuel Santos        | 1951-08-10 | Bogotá               | Colombia                 | Male   | NA                                            | NA                | NA                       | NA | NA | NA |\n| 2016 | Physics    | The Nobel Prize in Physics 2016                       | \"for theoretical discoveries of topological phase transitions and topological phases of matter\"                                     | 1/2 | 928 | Individual   | David J. Thouless         | 1934-09-21 | Bearsden             | United Kingdom           | Male   | University of Washington                      | Seattle, WA       | United States of America | NA | NA | NA |\n| 2016 | Physics    | The Nobel Prize in Physics 2016                       | \"for theoretical discoveries of topological phase transitions and topological phases of matter\"                                     | 1/4 | 929 | Individual   | F. Duncan M. Haldane      | 1951-09-14 | London               | United Kingdom           | Male   | Princeton University                          | Princeton, NJ     | United States of America | NA | NA | NA |\n| 2016 | Physics    | The Nobel Prize in Physics 2016                       | \"for theoretical discoveries of topological phase transitions and topological phases of matter\"                                     | 1/4 | 930 | Individual   | J. Michael Kosterlitz     | 1943-06-22 | Aberdeen             | United Kingdom           | Male   | Brown University                              | Providence, RI    | United States of America | NA | NA | NA |\n\n",
            "text/html": [
              "<table class=\"dataframe\">\n",
              "<caption>A data.frame: 969 × 18</caption>\n",
              "<thead>\n",
              "\t<tr><th scope=col>prize_year</th><th scope=col>category</th><th scope=col>prize</th><th scope=col>motivation</th><th scope=col>prize_share</th><th scope=col>laureate_id</th><th scope=col>laureate_type</th><th scope=col>full_name</th><th scope=col>birth_date</th><th scope=col>birth_city</th><th scope=col>birth_country</th><th scope=col>gender</th><th scope=col>organization_name</th><th scope=col>organization_city</th><th scope=col>organization_country</th><th scope=col>death_date</th><th scope=col>death_city</th><th scope=col>death_country</th></tr>\n",
              "\t<tr><th scope=col>&lt;int&gt;</th><th scope=col>&lt;chr&gt;</th><th scope=col>&lt;chr&gt;</th><th scope=col>&lt;chr&gt;</th><th scope=col>&lt;chr&gt;</th><th scope=col>&lt;int&gt;</th><th scope=col>&lt;chr&gt;</th><th scope=col>&lt;chr&gt;</th><th scope=col>&lt;chr&gt;</th><th scope=col>&lt;chr&gt;</th><th scope=col>&lt;chr&gt;</th><th scope=col>&lt;chr&gt;</th><th scope=col>&lt;chr&gt;</th><th scope=col>&lt;chr&gt;</th><th scope=col>&lt;chr&gt;</th><th scope=col>&lt;chr&gt;</th><th scope=col>&lt;chr&gt;</th><th scope=col>&lt;chr&gt;</th></tr>\n",
              "</thead>\n",
              "<tbody>\n",
              "\t<tr><td>1901</td><td>Chemistry </td><td>The Nobel Prize in Chemistry 1901             </td><td>\"in recognition of the extraordinary services he has rendered by the discovery of the laws of chemical dynamics and osmotic pressure in solutions\"                                                                                                </td><td>1/1</td><td>160</td><td>Individual  </td><td>Jacobus Henricus van 't Hoff                                                          </td><td>1852-08-30</td><td>Rotterdam                       </td><td>Netherlands                     </td><td>Male  </td><td>Berlin University                                                                                             </td><td>Berlin        </td><td>Germany       </td><td>1911-03-01</td><td>Berlin        </td><td>Germany       </td></tr>\n",
              "\t<tr><td>1901</td><td>Literature</td><td>The Nobel Prize in Literature 1901            </td><td>\"in special recognition of his poetic composition, which gives evidence of lofty idealism, artistic perfection and a rare combination of the qualities of both heart and intellect\"                                                               </td><td>1/1</td><td>569</td><td>Individual  </td><td>Sully Prudhomme                                                                       </td><td>1839-03-16</td><td>Paris                           </td><td>France                          </td><td>Male  </td><td>NA                                                                                                            </td><td>NA            </td><td>NA            </td><td>1907-09-07</td><td>Châtenay      </td><td>France        </td></tr>\n",
              "\t<tr><td>1901</td><td>Medicine  </td><td>The Nobel Prize in Physiology or Medicine 1901</td><td>\"for his work on serum therapy, especially its application against diphtheria, by which he has opened a new road in the domain of medical science and thereby placed in the hands of the physician a victorious weapon against illness and deaths\"</td><td>1/1</td><td>293</td><td>Individual  </td><td>Emil Adolf von Behring                                                                </td><td>1854-03-15</td><td>Hansdorf (Lawice)               </td><td>Prussia (Poland)                </td><td>Male  </td><td>Marburg University                                                                                            </td><td>Marburg       </td><td>Germany       </td><td>1917-03-31</td><td>Marburg       </td><td>Germany       </td></tr>\n",
              "\t<tr><td>1901</td><td>Peace     </td><td>The Nobel Peace Prize 1901                    </td><td>NA                                                                                                                                                                                                                                                </td><td>1/2</td><td>462</td><td>Individual  </td><td>Jean Henry Dunant                                                                     </td><td>1828-05-08</td><td>Geneva                          </td><td>Switzerland                     </td><td>Male  </td><td>NA                                                                                                            </td><td>NA            </td><td>NA            </td><td>1910-10-30</td><td>Heiden        </td><td>Switzerland   </td></tr>\n",
              "\t<tr><td>1901</td><td>Peace     </td><td>The Nobel Peace Prize 1901                    </td><td>NA                                                                                                                                                                                                                                                </td><td>1/2</td><td>463</td><td>Individual  </td><td>Frédéric Passy                                                                        </td><td>1822-05-20</td><td>Paris                           </td><td>France                          </td><td>Male  </td><td>NA                                                                                                            </td><td>NA            </td><td>NA            </td><td>1912-06-12</td><td>Paris         </td><td>France        </td></tr>\n",
              "\t<tr><td>1901</td><td>Physics   </td><td>The Nobel Prize in Physics 1901               </td><td>\"in recognition of the extraordinary services he has rendered by the discovery of the remarkable rays subsequently named after him\"                                                                                                               </td><td>1/1</td><td>  1</td><td>Individual  </td><td>Wilhelm Conrad Röntgen                                                                </td><td>1845-03-27</td><td>Lennep (Remscheid)              </td><td>Prussia (Germany)               </td><td>Male  </td><td>Munich University                                                                                             </td><td>Munich        </td><td>Germany       </td><td>1923-02-10</td><td>Munich        </td><td>Germany       </td></tr>\n",
              "\t<tr><td>1902</td><td>Chemistry </td><td>The Nobel Prize in Chemistry 1902             </td><td>\"in recognition of the extraordinary services he has rendered by his work on sugar and purine syntheses\"                                                                                                                                          </td><td>1/1</td><td>161</td><td>Individual  </td><td>Hermann Emil Fischer                                                                  </td><td>1852-10-09</td><td>Euskirchen                      </td><td>Prussia (Germany)               </td><td>Male  </td><td>Berlin University                                                                                             </td><td>Berlin        </td><td>Germany       </td><td>1919-07-15</td><td>Berlin        </td><td>Germany       </td></tr>\n",
              "\t<tr><td>1902</td><td>Literature</td><td><span style=white-space:pre-wrap>The Nobel Prize in Literature 1902            </span></td><td><span style=white-space:pre-wrap>\"the greatest living master of the art of historical writing, with special reference to his monumental work, &lt;I&gt;A history of Rome&lt;/I&gt;\"                                                                                                            </span></td><td>1/1</td><td>571</td><td><span style=white-space:pre-wrap>Individual  </span></td><td><span style=white-space:pre-wrap>Christian Matthias Theodor Mommsen                                                    </span></td><td>1817-11-30</td><td><span style=white-space:pre-wrap>Garding                         </span></td><td><span style=white-space:pre-wrap>Schleswig (Germany)             </span></td><td><span style=white-space:pre-wrap>Male  </span></td><td><span style=white-space:pre-wrap>NA                                                                                                            </span></td><td><span style=white-space:pre-wrap>NA            </span></td><td><span style=white-space:pre-wrap>NA            </span></td><td>1903-11-01</td><td>Charlottenburg</td><td><span style=white-space:pre-wrap>Germany       </span></td></tr>\n",
              "\t<tr><td>1902</td><td>Medicine  </td><td>The Nobel Prize in Physiology or Medicine 1902</td><td>\"for his work on malaria, by which he has shown how it enters the organism and thereby has laid the foundation for successful research on this disease and methods of combating it\"                                                               </td><td>1/1</td><td>294</td><td>Individual  </td><td>Ronald Ross                                                                           </td><td>1857-05-13</td><td>Almora                          </td><td>India                           </td><td>Male  </td><td>University College                                                                                            </td><td>Liverpool     </td><td>United Kingdom</td><td>1932-09-16</td><td>Putney Heath  </td><td>United Kingdom</td></tr>\n",
              "\t<tr><td>1902</td><td>Peace     </td><td>The Nobel Peace Prize 1902                    </td><td>NA                                                                                                                                                                                                                                                </td><td>1/2</td><td>464</td><td>Individual  </td><td>Élie Ducommun                                                                         </td><td>1833-02-19</td><td>Geneva                          </td><td>Switzerland                     </td><td>Male  </td><td>NA                                                                                                            </td><td>NA            </td><td>NA            </td><td>1906-12-07</td><td>Bern          </td><td>Switzerland   </td></tr>\n",
              "\t<tr><td>1902</td><td>Peace     </td><td>The Nobel Peace Prize 1902                    </td><td>NA                                                                                                                                                                                                                                                </td><td>1/2</td><td>465</td><td>Individual  </td><td>Charles Albert Gobat                                                                  </td><td>1843-05-21</td><td>Tramelan                        </td><td>Switzerland                     </td><td>Male  </td><td>NA                                                                                                            </td><td>NA            </td><td>NA            </td><td>1914-03-16</td><td>Bern          </td><td>Switzerland   </td></tr>\n",
              "\t<tr><td>1902</td><td>Physics   </td><td>The Nobel Prize in Physics 1902               </td><td>\"in recognition of the extraordinary service they rendered by their researches into the influence of magnetism upon radiation phenomena\"                                                                                                          </td><td>1/2</td><td>  2</td><td>Individual  </td><td>Hendrik Antoon Lorentz                                                                </td><td>1853-07-18</td><td>Arnhem                          </td><td>Netherlands                     </td><td>Male  </td><td>Leiden University                                                                                             </td><td>Leiden        </td><td>Netherlands   </td><td>1928-02-04</td><td>NA            </td><td>Netherlands   </td></tr>\n",
              "\t<tr><td>1902</td><td>Physics   </td><td>The Nobel Prize in Physics 1902               </td><td>\"in recognition of the extraordinary service they rendered by their researches into the influence of magnetism upon radiation phenomena\"                                                                                                          </td><td>1/2</td><td>  3</td><td>Individual  </td><td>Pieter Zeeman                                                                         </td><td>1865-05-25</td><td>Zonnemaire                      </td><td>Netherlands                     </td><td>Male  </td><td>Amsterdam University                                                                                          </td><td>Amsterdam     </td><td>Netherlands   </td><td>1943-10-09</td><td>Amsterdam     </td><td>Netherlands   </td></tr>\n",
              "\t<tr><td>1903</td><td>Chemistry </td><td>The Nobel Prize in Chemistry 1903             </td><td>\"in recognition of the extraordinary services he has rendered to the advancement of chemistry by his electrolytic theory of dissociation\"                                                                                                         </td><td>1/1</td><td>162</td><td>Individual  </td><td>Svante August Arrhenius                                                               </td><td>1859-02-19</td><td>Vik                             </td><td>Sweden                          </td><td>Male  </td><td>Stockholm University                                                                                          </td><td>Stockholm     </td><td>Sweden        </td><td>1927-10-02</td><td>Stockholm     </td><td>Sweden        </td></tr>\n",
              "\t<tr><td>1903</td><td>Literature</td><td>The Nobel Prize in Literature 1903            </td><td>\"as a tribute to his noble, magnificent and versatile poetry, which has always been distinguished by both the freshness of its inspiration and the rare purity of its spirit\"                                                                     </td><td>1/1</td><td>572</td><td>Individual  </td><td>Bjørnstjerne Martinus Bjørnson                                                        </td><td>1832-12-08</td><td>Kvikne                          </td><td>Norway                          </td><td>Male  </td><td>NA                                                                                                            </td><td>NA            </td><td>NA            </td><td>1910-04-26</td><td>Paris         </td><td>France        </td></tr>\n",
              "\t<tr><td>1903</td><td>Medicine  </td><td>The Nobel Prize in Physiology or Medicine 1903</td><td>\"in recognition of his contribution to the treatment of diseases, especially lupus vulgaris, with concentrated light radiation, whereby he has opened a new avenue for medical science\"                                                           </td><td>1/1</td><td>295</td><td>Individual  </td><td>Niels Ryberg Finsen                                                                   </td><td>1860-12-15</td><td>Thorshavn                       </td><td>Faroe Islands (Denmark)         </td><td>Male  </td><td>Finsen Medical Light Institute                                                                                </td><td>Copenhagen    </td><td>Denmark       </td><td>1904-09-24</td><td>Copenhagen    </td><td>Denmark       </td></tr>\n",
              "\t<tr><td>1903</td><td>Peace     </td><td>The Nobel Peace Prize 1903                    </td><td>NA                                                                                                                                                                                                                                                </td><td>1/1</td><td>466</td><td>Individual  </td><td>William Randal Cremer                                                                 </td><td>1828-03-18</td><td>Fareham                         </td><td>United Kingdom                  </td><td>Male  </td><td>NA                                                                                                            </td><td>NA            </td><td>NA            </td><td>1908-07-22</td><td>London        </td><td>United Kingdom</td></tr>\n",
              "\t<tr><td>1903</td><td>Physics   </td><td>The Nobel Prize in Physics 1903               </td><td>\"in recognition of the extraordinary services he has rendered by his discovery of spontaneous radioactivity\"                                                                                                                                      </td><td>1/2</td><td>  4</td><td>Individual  </td><td>Antoine Henri Becquerel                                                               </td><td>1852-12-15</td><td>Paris                           </td><td>France                          </td><td>Male  </td><td>École Polytechnique                                                                                           </td><td>Paris         </td><td>France        </td><td>1908-08-25</td><td>NA            </td><td>France        </td></tr>\n",
              "\t<tr><td>1903</td><td>Physics   </td><td>The Nobel Prize in Physics 1903               </td><td>\"in recognition of the extraordinary services they have rendered by their joint researches on the radiation phenomena discovered by Professor Henri Becquerel\"                                                                                    </td><td>1/4</td><td>  5</td><td>Individual  </td><td>Pierre Curie                                                                          </td><td>1859-05-15</td><td>Paris                           </td><td>France                          </td><td>Male  </td><td>École municipale de physique et de chimie industrielles (Municipal School of Industrial Physics and Chemistry)</td><td>Paris         </td><td>France        </td><td>1906-04-19</td><td>Paris         </td><td>France        </td></tr>\n",
              "\t<tr><td>1903</td><td>Physics   </td><td>The Nobel Prize in Physics 1903               </td><td>\"in recognition of the extraordinary services they have rendered by their joint researches on the radiation phenomena discovered by Professor Henri Becquerel\"                                                                                    </td><td>1/4</td><td>  6</td><td>Individual  </td><td>Marie Curie, née Sklodowska                                                           </td><td>1867-11-07</td><td>Warsaw                          </td><td>Russian Empire (Poland)         </td><td>Female</td><td>NA                                                                                                            </td><td>NA            </td><td>NA            </td><td>1934-07-04</td><td>Sallanches    </td><td>France        </td></tr>\n",
              "\t<tr><td>1904</td><td>Chemistry </td><td>The Nobel Prize in Chemistry 1904             </td><td>\"in recognition of his services in the discovery of the inert gaseous elements in air, and his determination of their place in the periodic system\"                                                                                               </td><td>1/1</td><td>163</td><td>Individual  </td><td>Sir William Ramsay                                                                    </td><td>1852-10-02</td><td>Glasgow                         </td><td>Scotland                        </td><td>Male  </td><td>University College                                                                                            </td><td>London        </td><td>United Kingdom</td><td>1916-07-23</td><td>High Wycombe  </td><td>United Kingdom</td></tr>\n",
              "\t<tr><td>1904</td><td>Literature</td><td><span style=white-space:pre-wrap>The Nobel Prize in Literature 1904            </span></td><td><span style=white-space:pre-wrap>\"in recognition of the fresh originality and true inspiration of his poetic production, which faithfully reflects the natural scenery and native spirit of his people, and, in addition, his significant work as a Proven&amp;ccedil;al philologist\"  </span></td><td>1/2</td><td>573</td><td><span style=white-space:pre-wrap>Individual  </span></td><td><span style=white-space:pre-wrap>Frédéric Mistral                                                                      </span></td><td>1830-09-08</td><td><span style=white-space:pre-wrap>Maillane                        </span></td><td><span style=white-space:pre-wrap>France                          </span></td><td><span style=white-space:pre-wrap>Male  </span></td><td><span style=white-space:pre-wrap>NA                                                                                                            </span></td><td><span style=white-space:pre-wrap>NA            </span></td><td><span style=white-space:pre-wrap>NA            </span></td><td>1914-03-25</td><td><span style=white-space:pre-wrap>Maillane      </span></td><td><span style=white-space:pre-wrap>France        </span></td></tr>\n",
              "\t<tr><td>1904</td><td>Literature</td><td>The Nobel Prize in Literature 1904            </td><td>\"in recognition of the numerous and brilliant compositions which, in an individual and original manner, have revived the great traditions of the Spanish drama\"                                                                                   </td><td>1/2</td><td>574</td><td>Individual  </td><td>José Echegaray y Eizaguirre                                                           </td><td>1832-04-19</td><td>Madrid                          </td><td>Spain                           </td><td>Male  </td><td>NA                                                                                                            </td><td>NA            </td><td>NA            </td><td>1916-09-04</td><td>Madrid        </td><td>Spain         </td></tr>\n",
              "\t<tr><td>1904</td><td>Medicine  </td><td>The Nobel Prize in Physiology or Medicine 1904</td><td>\"in recognition of his work on the physiology of digestion, through which knowledge on vital aspects of the subject has been transformed and enlarged\"                                                                                            </td><td>1/1</td><td>296</td><td>Individual  </td><td>Ivan Petrovich Pavlov                                                                 </td><td>1849-09-14</td><td>Ryazan                          </td><td>Russia                          </td><td>Male  </td><td>Military Medical Academy                                                                                      </td><td>St. Petersburg</td><td>Russia        </td><td>1936-02-27</td><td>Leningrad     </td><td>Russia        </td></tr>\n",
              "\t<tr><td>1904</td><td>Peace     </td><td>The Nobel Peace Prize 1904                    </td><td>NA                                                                                                                                                                                                                                                </td><td>1/1</td><td>467</td><td>Organization</td><td>Institut de droit international (Institute of International Law)                      </td><td>NA        </td><td>NA                              </td><td>NA                              </td><td>NA    </td><td>NA                                                                                                            </td><td>NA            </td><td>NA            </td><td>NA        </td><td>NA            </td><td>NA            </td></tr>\n",
              "\t<tr><td>1904</td><td>Physics   </td><td>The Nobel Prize in Physics 1904               </td><td>\"for his investigations of the densities of the most important gases and for his discovery of argon in connection with these studies\"                                                                                                             </td><td>1/1</td><td>  8</td><td>Individual  </td><td>Lord Rayleigh (John William Strutt)                                                   </td><td>1842-11-12</td><td>Langford Grove, Maldon, Essex   </td><td>United Kingdom                  </td><td>Male  </td><td>Royal Institution of Great Britain                                                                            </td><td>London        </td><td>United Kingdom</td><td>1919-06-30</td><td>NA            </td><td>United Kingdom</td></tr>\n",
              "\t<tr><td>1905</td><td>Chemistry </td><td>The Nobel Prize in Chemistry 1905             </td><td>\"in recognition of his services in the advancement of organic chemistry and the chemical industry, through his work on organic dyes and hydroaromatic compounds\"                                                                                  </td><td>1/1</td><td>164</td><td>Individual  </td><td>Johann Friedrich Wilhelm Adolf von Baeyer                                             </td><td>1835-10-31</td><td>Berlin                          </td><td>Prussia (Germany)               </td><td>Male  </td><td>Munich University                                                                                             </td><td>Munich        </td><td>Germany       </td><td>1917-08-20</td><td>Starnberg     </td><td>Germany       </td></tr>\n",
              "\t<tr><td>1905</td><td>Literature</td><td>The Nobel Prize in Literature 1905            </td><td>\"because of his outstanding merits as an epic writer\"                                                                                                                                                                                             </td><td>1/1</td><td>575</td><td>Individual  </td><td>Henryk Sienkiewicz                                                                    </td><td>1846-05-05</td><td>Wola Okrzejska                  </td><td>Poland                          </td><td>Male  </td><td>NA                                                                                                            </td><td>NA            </td><td>NA            </td><td>1916-11-15</td><td>Vevey         </td><td>Switzerland   </td></tr>\n",
              "\t<tr><td>1905</td><td>Medicine  </td><td>The Nobel Prize in Physiology or Medicine 1905</td><td>\"for his investigations and discoveries in relation to tuberculosis\"                                                                                                                                                                              </td><td>1/1</td><td>297</td><td>Individual  </td><td>Robert Koch                                                                           </td><td>1843-12-11</td><td>Clausthal (Clausthal-Zellerfeld)</td><td>Germany                         </td><td>Male  </td><td>Institute for Infectious Diseases                                                                             </td><td>Berlin        </td><td>Germany       </td><td>1910-05-27</td><td>Baden-Baden   </td><td>Germany       </td></tr>\n",
              "\t<tr><td>1905</td><td>Peace     </td><td>The Nobel Peace Prize 1905                    </td><td>NA                                                                                                                                                                                                                                                </td><td>1/1</td><td>468</td><td>Individual  </td><td>Baroness Bertha Sophie Felicita von Suttner, née Countess Kinsky von Chinic und Tettau</td><td>1843-06-09</td><td>Prague                          </td><td>Austrian Empire (Czech Republic)</td><td>Female</td><td>NA                                                                                                            </td><td>NA            </td><td>NA            </td><td>1914-06-21</td><td>Vienna        </td><td>Austria       </td></tr>\n",
              "\t<tr><td>⋮</td><td>⋮</td><td>⋮</td><td>⋮</td><td>⋮</td><td>⋮</td><td>⋮</td><td>⋮</td><td>⋮</td><td>⋮</td><td>⋮</td><td>⋮</td><td>⋮</td><td>⋮</td><td>⋮</td><td>⋮</td><td>⋮</td><td>⋮</td></tr>\n",
              "\t<tr><td>2014</td><td>Peace     </td><td>The Nobel Peace Prize 2014                           </td><td>\"for their struggle against the suppression of children and young people and for the right of all children to education\"           </td><td>1/2</td><td>913</td><td>Individual  </td><td>Kailash Satyarthi        </td><td>1954-01-11</td><td>Vidisha             </td><td>India                   </td><td>Male  </td><td>NA                                           </td><td>NA               </td><td>NA                      </td><td>NA</td><td>NA</td><td>NA</td></tr>\n",
              "\t<tr><td>2014</td><td>Peace     </td><td>The Nobel Peace Prize 2014                           </td><td>\"for their struggle against the suppression of children and young people and for the right of all children to education\"           </td><td>1/2</td><td>914</td><td>Individual  </td><td>Malala Yousafzai         </td><td>1997-07-12</td><td>Mingora             </td><td>Pakistan                </td><td>Female</td><td>NA                                           </td><td>NA               </td><td>NA                      </td><td>NA</td><td>NA</td><td>NA</td></tr>\n",
              "\t<tr><td>2014</td><td>Physics   </td><td>The Nobel Prize in Physics 2014                      </td><td>\"for the invention of efficient blue light-emitting diodes which has enabled bright and energy-saving white light sources\"         </td><td>1/3</td><td>906</td><td>Individual  </td><td>Isamu Akasaki            </td><td>1929-01-30</td><td>Chiran              </td><td>Japan                   </td><td>Male  </td><td>Meijo University                             </td><td>Nagoya           </td><td>Japan                   </td><td>NA</td><td>NA</td><td>NA</td></tr>\n",
              "\t<tr><td>2014</td><td>Physics   </td><td>The Nobel Prize in Physics 2014                      </td><td>\"for the invention of efficient blue light-emitting diodes which has enabled bright and energy-saving white light sources\"         </td><td>1/3</td><td>906</td><td>Individual  </td><td>Isamu Akasaki            </td><td>1929-01-30</td><td>Chiran              </td><td>Japan                   </td><td>Male  </td><td>Nagoya University                            </td><td>Nagoya           </td><td>Japan                   </td><td>NA</td><td>NA</td><td>NA</td></tr>\n",
              "\t<tr><td>2014</td><td>Physics   </td><td>The Nobel Prize in Physics 2014                      </td><td>\"for the invention of efficient blue light-emitting diodes which has enabled bright and energy-saving white light sources\"         </td><td>1/3</td><td>907</td><td>Individual  </td><td>Hiroshi Amano            </td><td>1960-09-11</td><td>Hamamatsu           </td><td>Japan                   </td><td>Male  </td><td>Nagoya University                            </td><td>Nagoya           </td><td>Japan                   </td><td>NA</td><td>NA</td><td>NA</td></tr>\n",
              "\t<tr><td>2014</td><td>Physics   </td><td>The Nobel Prize in Physics 2014                      </td><td>\"for the invention of efficient blue light-emitting diodes which has enabled bright and energy-saving white light sources\"         </td><td>1/3</td><td>908</td><td>Individual  </td><td>Shuji Nakamura           </td><td>1954-05-22</td><td>Ikata               </td><td>Japan                   </td><td>Male  </td><td>University of California                     </td><td>Santa Barbara, CA</td><td>United States of America</td><td>NA</td><td>NA</td><td>NA</td></tr>\n",
              "\t<tr><td>2015</td><td>Chemistry </td><td>The Nobel Prize in Chemistry 2015                    </td><td>\"for mechanistic studies of DNA repair\"                                                                                            </td><td>1/3</td><td>921</td><td>Individual  </td><td>Tomas Lindahl            </td><td>1938-01-28</td><td>Stockholm           </td><td>Sweden                  </td><td>Male  </td><td>Francis Crick Institute                      </td><td>Hertfordshire    </td><td>United Kingdom          </td><td>NA</td><td>NA</td><td>NA</td></tr>\n",
              "\t<tr><td>2015</td><td>Chemistry </td><td>The Nobel Prize in Chemistry 2015                    </td><td>\"for mechanistic studies of DNA repair\"                                                                                            </td><td>1/3</td><td>921</td><td>Individual  </td><td>Tomas Lindahl            </td><td>1938-01-28</td><td>Stockholm           </td><td>Sweden                  </td><td>Male  </td><td>Clare Hall Laboratory                        </td><td>Hertfordshire    </td><td>United Kingdom          </td><td>NA</td><td>NA</td><td>NA</td></tr>\n",
              "\t<tr><td>2015</td><td>Chemistry </td><td>The Nobel Prize in Chemistry 2015                    </td><td>\"for mechanistic studies of DNA repair\"                                                                                            </td><td>1/3</td><td>922</td><td>Individual  </td><td>Paul Modrich             </td><td>1946-06-13</td><td>Raton, NM           </td><td>United States of America</td><td>Male  </td><td>Howard Hughes Medical Institute              </td><td>Durham, NC       </td><td>United States of America</td><td>NA</td><td>NA</td><td>NA</td></tr>\n",
              "\t<tr><td>2015</td><td>Chemistry </td><td>The Nobel Prize in Chemistry 2015                    </td><td>\"for mechanistic studies of DNA repair\"                                                                                            </td><td>1/3</td><td>922</td><td>Individual  </td><td>Paul Modrich             </td><td>1946-06-13</td><td>Raton, NM           </td><td>United States of America</td><td>Male  </td><td>Duke University School of Medicine           </td><td>Durham, NC       </td><td>United States of America</td><td>NA</td><td>NA</td><td>NA</td></tr>\n",
              "\t<tr><td>2015</td><td>Chemistry </td><td>The Nobel Prize in Chemistry 2015                    </td><td>\"for mechanistic studies of DNA repair\"                                                                                            </td><td>1/3</td><td>923</td><td>Individual  </td><td>Aziz Sancar              </td><td>1946-09-08</td><td>Savur               </td><td>Turkey                  </td><td>Male  </td><td>University of North Carolina                 </td><td>Chapel Hill, NC  </td><td>United States of America</td><td>NA</td><td>NA</td><td>NA</td></tr>\n",
              "\t<tr><td>2015</td><td>Economics </td><td>The Sveriges Riksbank Prize in Economic Sciences 2015</td><td>\"for his analysis of consumption, poverty, and welfare\"                                                                            </td><td>1/1</td><td>926</td><td>Individual  </td><td>Angus Deaton             </td><td>1945-10-19</td><td>Edinburgh           </td><td>United Kingdom          </td><td>Male  </td><td>Princeton University                         </td><td>Princeton, NJ    </td><td>United States of America</td><td>NA</td><td>NA</td><td>NA</td></tr>\n",
              "\t<tr><td>2015</td><td>Literature</td><td>The Nobel Prize in Literature 2015                   </td><td>\"for her polyphonic writings, a monument to suffering and courage in our time\"                                                     </td><td>1/1</td><td>924</td><td>Individual  </td><td>Svetlana Alexievich      </td><td>1948-05-31</td><td>Ivano-Frankivsk     </td><td>Ukraine                 </td><td>Female</td><td>NA                                           </td><td>NA               </td><td>NA                      </td><td>NA</td><td>NA</td><td>NA</td></tr>\n",
              "\t<tr><td>2015</td><td>Medicine  </td><td>The Nobel Prize in Physiology or Medicine 2015       </td><td>\"for their discoveries concerning a novel therapy against infections caused by roundworm parasites\"                                </td><td>1/4</td><td>916</td><td>Individual  </td><td>William C. Campbell      </td><td>1930-06-28</td><td>Ramelton            </td><td>Ireland                 </td><td>Male  </td><td>Drew University                              </td><td>Madison, NJ      </td><td>United States of America</td><td>NA</td><td>NA</td><td>NA</td></tr>\n",
              "\t<tr><td>2015</td><td>Medicine  </td><td>The Nobel Prize in Physiology or Medicine 2015       </td><td>\"for their discoveries concerning a novel therapy against infections caused by roundworm parasites\"                                </td><td>1/4</td><td>917</td><td>Individual  </td><td>Satoshi Ōmura            </td><td>1935-07-12</td><td>Yamanashi Prefecture</td><td>Japan                   </td><td>Male  </td><td>Kitasato University                          </td><td>Tokyo            </td><td>Japan                   </td><td>NA</td><td>NA</td><td>NA</td></tr>\n",
              "\t<tr><td>2015</td><td>Medicine  </td><td>The Nobel Prize in Physiology or Medicine 2015       </td><td>\"for her discoveries concerning a novel therapy against Malaria\"                                                                   </td><td>1/2</td><td>918</td><td>Individual  </td><td>Youyou Tu                </td><td>1930-12-30</td><td>Zhejiang Ningbo     </td><td>China                   </td><td>Female</td><td>China Academy of Traditional Chinese Medicine</td><td>Beijing          </td><td>China                   </td><td>NA</td><td>NA</td><td>NA</td></tr>\n",
              "\t<tr><td>2015</td><td>Peace     </td><td>The Nobel Peace Prize 2015                           </td><td>\"for its decisive contribution to the building of a pluralistic democracy in Tunisia in the wake of the Jasmine Revolution of 2011\"</td><td>1/1</td><td>925</td><td>Organization</td><td>National Dialogue Quartet</td><td>NA        </td><td>NA                  </td><td>NA                      </td><td>NA    </td><td>NA                                           </td><td>NA               </td><td>NA                      </td><td>NA</td><td>NA</td><td>NA</td></tr>\n",
              "\t<tr><td>2015</td><td>Physics   </td><td>The Nobel Prize in Physics 2015                      </td><td>\"for the discovery of neutrino oscillations, which shows that neutrinos have mass\"                                                 </td><td>1/2</td><td>919</td><td>Individual  </td><td>Takaaki Kajita           </td><td>1959-03-09</td><td>Higashimatsuyama    </td><td>Japan                   </td><td>Male  </td><td>University of Tokyo                          </td><td>Kashiwa          </td><td>Japan                   </td><td>NA</td><td>NA</td><td>NA</td></tr>\n",
              "\t<tr><td>2015</td><td>Physics   </td><td>The Nobel Prize in Physics 2015                      </td><td>\"for the discovery of neutrino oscillations, which shows that neutrinos have mass\"                                                 </td><td>1/2</td><td>920</td><td>Individual  </td><td>Arthur B. McDonald       </td><td>1943-08-29</td><td>Sydney              </td><td>Canada                  </td><td>Male  </td><td>Queen's University                           </td><td>Kingston         </td><td>Canada                  </td><td>NA</td><td>NA</td><td>NA</td></tr>\n",
              "\t<tr><td>2016</td><td>Chemistry </td><td>The Nobel Prize in Chemistry 2016                    </td><td>\"for the design and synthesis of molecular machines\"                                                                               </td><td>1/3</td><td>931</td><td>Individual  </td><td>Jean-Pierre Sauvage      </td><td>1944-10-21</td><td>Paris               </td><td>France                  </td><td>Male  </td><td>University of Strasbourg                     </td><td>Strasbourg       </td><td>France                  </td><td>NA</td><td>NA</td><td>NA</td></tr>\n",
              "\t<tr><td>2016</td><td>Chemistry </td><td>The Nobel Prize in Chemistry 2016                    </td><td>\"for the design and synthesis of molecular machines\"                                                                               </td><td>1/3</td><td>932</td><td>Individual  </td><td>Sir J. Fraser Stoddart   </td><td>1942-05-24</td><td>Edinburgh           </td><td>United Kingdom          </td><td>Male  </td><td>Northwestern University                      </td><td>Evanston, IL     </td><td>United States of America</td><td>NA</td><td>NA</td><td>NA</td></tr>\n",
              "\t<tr><td>2016</td><td>Chemistry </td><td>The Nobel Prize in Chemistry 2016                    </td><td>\"for the design and synthesis of molecular machines\"                                                                               </td><td>1/3</td><td>933</td><td>Individual  </td><td>Bernard L. Feringa       </td><td>1951-05-18</td><td>Barger-Compascuum   </td><td>Netherlands             </td><td>Male  </td><td>University of Groningen                      </td><td>Groningen        </td><td>Netherlands             </td><td>NA</td><td>NA</td><td>NA</td></tr>\n",
              "\t<tr><td>2016</td><td>Economics </td><td>The Sveriges Riksbank Prize in Economic Sciences 2016</td><td>\"for their contributions to contract theory\"                                                                                       </td><td>1/2</td><td>935</td><td>Individual  </td><td>Oliver Hart              </td><td>1948-10-09</td><td>London              </td><td>United Kingdom          </td><td>Male  </td><td>Harvard University                           </td><td>Cambridge, MA    </td><td>United States of America</td><td>NA</td><td>NA</td><td>NA</td></tr>\n",
              "\t<tr><td>2016</td><td>Economics </td><td>The Sveriges Riksbank Prize in Economic Sciences 2016</td><td>\"for their contributions to contract theory\"                                                                                       </td><td>1/2</td><td>936</td><td>Individual  </td><td>Bengt Holmström          </td><td>1949-04-18</td><td>Helsinki            </td><td>Finland                 </td><td>Male  </td><td>Massachusetts Institute of Technology (MIT)  </td><td>Cambridge, MA    </td><td>United States of America</td><td>NA</td><td>NA</td><td>NA</td></tr>\n",
              "\t<tr><td>2016</td><td>Literature</td><td>The Nobel Prize in Literature 2016                   </td><td>\"for having created new poetic expressions within the great American song tradition\"                                               </td><td>1/1</td><td>937</td><td>Individual  </td><td>Bob Dylan                </td><td>1941-05-24</td><td>Duluth, MN          </td><td>United States of America</td><td>Male  </td><td>NA                                           </td><td>NA               </td><td>NA                      </td><td>NA</td><td>NA</td><td>NA</td></tr>\n",
              "\t<tr><td>2016</td><td>Medicine  </td><td>The Nobel Prize in Physiology or Medicine 2016       </td><td>\"for his discoveries of mechanisms for autophagy\"                                                                                  </td><td>1/1</td><td>927</td><td>Individual  </td><td>Yoshinori Ohsumi         </td><td>1945-02-09</td><td>Fukuoka             </td><td>Japan                   </td><td>Male  </td><td>Tokyo Institute of Technology                </td><td>Tokyo            </td><td>Japan                   </td><td>NA</td><td>NA</td><td>NA</td></tr>\n",
              "\t<tr><td>2016</td><td>Peace     </td><td>The Nobel Peace Prize 2016                           </td><td>\"for his resolute efforts to bring the country's more than 50-year-long civil war to an end\"                                       </td><td>1/1</td><td>934</td><td>Individual  </td><td>Juan Manuel Santos       </td><td>1951-08-10</td><td>Bogotá              </td><td>Colombia                </td><td>Male  </td><td>NA                                           </td><td>NA               </td><td>NA                      </td><td>NA</td><td>NA</td><td>NA</td></tr>\n",
              "\t<tr><td>2016</td><td>Physics   </td><td>The Nobel Prize in Physics 2016                      </td><td>\"for theoretical discoveries of topological phase transitions and topological phases of matter\"                                    </td><td>1/2</td><td>928</td><td>Individual  </td><td>David J. Thouless        </td><td>1934-09-21</td><td>Bearsden            </td><td>United Kingdom          </td><td>Male  </td><td>University of Washington                     </td><td>Seattle, WA      </td><td>United States of America</td><td>NA</td><td>NA</td><td>NA</td></tr>\n",
              "\t<tr><td>2016</td><td>Physics   </td><td>The Nobel Prize in Physics 2016                      </td><td>\"for theoretical discoveries of topological phase transitions and topological phases of matter\"                                    </td><td>1/4</td><td>929</td><td>Individual  </td><td>F. Duncan M. Haldane     </td><td>1951-09-14</td><td>London              </td><td>United Kingdom          </td><td>Male  </td><td>Princeton University                         </td><td>Princeton, NJ    </td><td>United States of America</td><td>NA</td><td>NA</td><td>NA</td></tr>\n",
              "\t<tr><td>2016</td><td>Physics   </td><td>The Nobel Prize in Physics 2016                      </td><td>\"for theoretical discoveries of topological phase transitions and topological phases of matter\"                                    </td><td>1/4</td><td>930</td><td>Individual  </td><td>J. Michael Kosterlitz    </td><td>1943-06-22</td><td>Aberdeen            </td><td>United Kingdom          </td><td>Male  </td><td>Brown University                             </td><td>Providence, RI   </td><td>United States of America</td><td>NA</td><td>NA</td><td>NA</td></tr>\n",
              "</tbody>\n",
              "</table>\n"
            ]
          },
          "metadata": {
            "tags": []
          }
        }
      ]
    },
    {
      "cell_type": "code",
      "metadata": {
        "id": "kI-92VhYWWvF",
        "outputId": "3c46dfb1-bd56-4548-92cd-057147f7a5cb",
        "colab": {
          "base_uri": "https://localhost:8080/",
          "height": 283
        }
      },
      "source": [
        "nobel %>% count(category)"
      ],
      "execution_count": 15,
      "outputs": [
        {
          "output_type": "display_data",
          "data": {
            "text/plain": [
              "  category   n  \n",
              "1 Chemistry  194\n",
              "2 Economics   83\n",
              "3 Literature 113\n",
              "4 Medicine   227\n",
              "5 Peace      130\n",
              "6 Physics    222"
            ],
            "text/latex": "A data.frame: 6 × 2\n\\begin{tabular}{ll}\n category & n\\\\\n <chr> & <int>\\\\\n\\hline\n\t Chemistry  & 194\\\\\n\t Economics  &  83\\\\\n\t Literature & 113\\\\\n\t Medicine   & 227\\\\\n\t Peace      & 130\\\\\n\t Physics    & 222\\\\\n\\end{tabular}\n",
            "text/markdown": "\nA data.frame: 6 × 2\n\n| category &lt;chr&gt; | n &lt;int&gt; |\n|---|---|\n| Chemistry  | 194 |\n| Economics  |  83 |\n| Literature | 113 |\n| Medicine   | 227 |\n| Peace      | 130 |\n| Physics    | 222 |\n\n",
            "text/html": [
              "<table class=\"dataframe\">\n",
              "<caption>A data.frame: 6 × 2</caption>\n",
              "<thead>\n",
              "\t<tr><th scope=col>category</th><th scope=col>n</th></tr>\n",
              "\t<tr><th scope=col>&lt;chr&gt;</th><th scope=col>&lt;int&gt;</th></tr>\n",
              "</thead>\n",
              "<tbody>\n",
              "\t<tr><td>Chemistry </td><td>194</td></tr>\n",
              "\t<tr><td>Economics </td><td> 83</td></tr>\n",
              "\t<tr><td>Literature</td><td>113</td></tr>\n",
              "\t<tr><td>Medicine  </td><td>227</td></tr>\n",
              "\t<tr><td>Peace     </td><td>130</td></tr>\n",
              "\t<tr><td>Physics   </td><td>222</td></tr>\n",
              "</tbody>\n",
              "</table>\n"
            ]
          },
          "metadata": {
            "tags": []
          }
        }
      ]
    },
    {
      "cell_type": "code",
      "metadata": {
        "id": "wJP-cL_GWoKF",
        "outputId": "9c841fb6-b998-402a-9170-854529831d8a",
        "colab": {
          "base_uri": "https://localhost:8080/",
          "height": 437
        }
      },
      "source": [
        "nobel %>%\n",
        "count(category) %>%\n",
        "ggplot(aes(x=category,y=n, fill=category))+\n",
        "geom_col()+\n",
        "geom_text(aes(label=n),vjust=-0.25)+\n",
        "labs(title=\"不同學科之諾貝爾獲獎次數比\",x=\"學科\",y=\"數量\")+ theme(legend.position =\"none\" )"
      ],
      "execution_count": 21,
      "outputs": [
        {
          "output_type": "display_data",
          "data": {
            "image/png": "[encoded data removed]",
            "text/plain": [
              "plot without title"
            ]
          },
          "metadata": {
            "tags": [],
            "image/png": {
              "width": 420,
              "height": 420
            }
          }
        }
      ]
    },
    {
      "cell_type": "markdown",
      "metadata": {
        "id": "h4hfVVRDZBUs"
      },
      "source": [
        "使圖表變中文"
      ]
    },
    {
      "cell_type": "code",
      "metadata": {
        "id": "3n_lR7OWZLZ8",
        "outputId": "f827407c-d46b-4ee6-849f-8267db86c687",
        "colab": {
          "base_uri": "https://localhost:8080/"
        }
      },
      "source": [
        "install.packages(\"showtext\")\n",
        "library(showtext)\n",
        "showtext.auto(enable=TRUE)"
      ],
      "execution_count": 20,
      "outputs": [
        {
          "output_type": "stream",
          "text": [
            "Installing package into ‘/usr/local/lib/R/site-library’\n",
            "(as ‘lib’ is unspecified)\n",
            "\n",
            "'showtext.auto()' is now renamed to 'showtext_auto()'\n",
            "The old version still works, but consider using the new function in future code\n",
            "\n"
          ],
          "name": "stderr"
        }
      ]
    },
    {
      "cell_type": "markdown",
      "metadata": {
        "id": "qdWHgRo5Z1p8"
      },
      "source": [
        "加入配色套件\n"
      ]
    },
    {
      "cell_type": "code",
      "metadata": {
        "id": "tftOsH8EZ-ii",
        "outputId": "ecfa521a-f22a-4d37-dc24-bd08315f2aa9",
        "colab": {
          "base_uri": "https://localhost:8080/",
          "height": 559
        }
      },
      "source": [
        "install.packages(\"devtools\")\n",
        "devtools::install_github('cttobin/ggthemr')\n",
        "\n",
        "library(ggthemr)\n",
        "ggthemr(\"dust\")\n",
        "\n",
        "nobel %>%\n",
        "count(category) %>%\n",
        "ggplot(aes(x= fct_reorder(category, n),y=n,fill=category))+\n",
        "geom_col()+\n",
        "labs(title =\"不同學科的諾貝爾獲獎次數比\",x=\"學科\",y=\"數量\")+\n",
        "theme(legend.position = \"none\")\n"
      ],
      "execution_count": 25,
      "outputs": [
        {
          "output_type": "stream",
          "text": [
            "Installing package into ‘/usr/local/lib/R/site-library’\n",
            "(as ‘lib’ is unspecified)\n",
            "\n",
            "Skipping install of 'ggthemr' from a github remote, the SHA1 (4a31e0df) has not changed since last install.\n",
            "  Use `force = TRUE` to force installation\n",
            "\n"
          ],
          "name": "stderr"
        },
        {
          "output_type": "display_data",
          "data": {
            "image/png": "[encoded data removed]",
            "text/plain": [
              "plot without title"
            ]
          },
          "metadata": {
            "tags": [],
            "image/png": {
              "width": 420,
              "height": 420
            }
          }
        }
      ]
    },
    {
      "cell_type": "markdown",
      "metadata": {
        "id": "tOBupvOFcMHq"
      },
      "source": [
        "自訂配色與配色網站\n",
        "https://learnui.design/tools/data-color-picker.html#palette"
      ]
    },
    {
      "cell_type": "code",
      "metadata": {
        "id": "0am3RaThcYLr",
        "outputId": "d2be243a-951e-4d18-d86b-fbc3c7c28f1c",
        "colab": {
          "base_uri": "https://localhost:8080/",
          "height": 1000
        }
      },
      "source": [
        "nobel %>%\n",
        "count(category) %>%\n",
        "ggplot(aes(x= fct_reorder(category, n),y=n,))+\n",
        "geom_col(fill=c(\"#003f5c\",\"#444e86\",\"#955196\",\"#dd5182\",\"ffa600\",\"ff6e54\"))+\n",
        "labs(title =\"不同學科的諾貝爾獲獎次數比\",x=\"學科\",y=\"數量\")+\n",
        "theme(legend.position = \"none\")"
      ],
      "execution_count": 40,
      "outputs": [
        {
          "output_type": "stream",
          "text": [
            "ERROR while rich displaying an object: Error: Unknown colour name: ffa600\n",
            "\n",
            "Traceback:\n",
            "1. FUN(X[[i]], ...)\n",
            "2. tryCatch(withCallingHandlers({\n",
            " .     if (!mime %in% names(repr::mime2repr)) \n",
            " .         stop(\"No repr_* for mimetype \", mime, \" in repr::mime2repr\")\n",
            " .     rpr <- repr::mime2repr[[mime]](obj)\n",
            " .     if (is.null(rpr)) \n",
            " .         return(NULL)\n",
            " .     prepare_content(is.raw(rpr), rpr)\n",
            " . }, error = error_handler), error = outer_handler)\n",
            "3. tryCatchList(expr, classes, parentenv, handlers)\n",
            "4. tryCatchOne(expr, names, parentenv, handlers[[1L]])\n",
            "5. doTryCatch(return(expr), name, parentenv, handler)\n",
            "6. withCallingHandlers({\n",
            " .     if (!mime %in% names(repr::mime2repr)) \n",
            " .         stop(\"No repr_* for mimetype \", mime, \" in repr::mime2repr\")\n",
            " .     rpr <- repr::mime2repr[[mime]](obj)\n",
            " .     if (is.null(rpr)) \n",
            " .         return(NULL)\n",
            " .     prepare_content(is.raw(rpr), rpr)\n",
            " . }, error = error_handler)\n",
            "7. repr::mime2repr[[mime]](obj)\n",
            "8. repr_text.default(obj)\n",
            "9. paste(capture.output(print(obj)), collapse = \"\\n\")\n",
            "10. capture.output(print(obj))\n",
            "11. evalVis(expr)\n",
            "12. withVisible(eval(expr, pf))\n",
            "13. eval(expr, pf)\n",
            "14. eval(expr, pf)\n",
            "15. print(obj)\n",
            "16. print.ggplot(obj)\n",
            "17. ggplot_gtable(data)\n",
            "18. ggplot_gtable.ggplot_built(data)\n",
            "19. Map(function(l, d) l$draw_geom(d, layout), plot$layers, data)\n",
            "20. mapply(FUN = f, ..., SIMPLIFY = FALSE)\n",
            "21. (function (l, d) \n",
            "  . l$draw_geom(d, layout))(dots[[1L]][[1L]], dots[[2L]][[1L]])\n",
            "22. l$draw_geom(d, layout)\n",
            "23. f(..., self = self)\n",
            "24. self$geom$draw_layer(data, self$geom_params, layout, layout$coord)\n",
            "25. f(..., self = self)\n",
            "26. lapply(split(data, data$PANEL), function(data) {\n",
            "  .     if (empty(data)) \n",
            "  .         return(zeroGrob())\n",
            "  .     panel_params <- layout$panel_params[[data$PANEL[1]]]\n",
            "  .     do.call(self$draw_panel, args)\n",
            "  . })\n",
            "27. FUN(X[[i]], ...)\n",
            "28. do.call(self$draw_panel, args)\n",
            "29. (structure(function (...) \n",
            "  . f(..., self = self), class = \"ggproto_method\"))(data, panel_params, \n",
            "  .     coord, width = NULL, flipped_aes = FALSE)\n",
            "30. f(..., self = self)\n",
            "31. ggproto_parent(GeomRect, self)$draw_panel(data, panel_params, \n",
            "  .     coord)\n",
            "32. f(..., self = self)\n",
            "33. ggname(\"geom_rect\", rectGrob(coords$xmin, coords$ymax, width = coords$xmax - \n",
            "  .     coords$xmin, height = coords$ymax - coords$ymin, default.units = \"native\", \n",
            "  .     just = c(\"left\", \"top\"), gp = gpar(col = coords$colour, fill = alpha(coords$fill, \n",
            "  .         coords$alpha), lwd = coords$size * .pt, lty = coords$linetype, \n",
            "  .         linejoin = linejoin, lineend = if (identical(linejoin, \n",
            "  .             \"round\")) \"round\" else \"square\")))\n",
            "34. grobName(grob, prefix)\n",
            "35. rectGrob(coords$xmin, coords$ymax, width = coords$xmax - coords$xmin, \n",
            "  .     height = coords$ymax - coords$ymin, default.units = \"native\", \n",
            "  .     just = c(\"left\", \"top\"), gp = gpar(col = coords$colour, fill = alpha(coords$fill, \n",
            "  .         coords$alpha), lwd = coords$size * .pt, lty = coords$linetype, \n",
            "  .         linejoin = linejoin, lineend = if (identical(linejoin, \n",
            "  .             \"round\")) \"round\" else \"square\"))\n",
            "36. grob(x = x, y = y, width = width, height = height, just = just, \n",
            "  .     hjust = hjust, vjust = vjust, name = name, gp = gp, vp = vp, \n",
            "  .     cl = \"rect\")\n",
            "37. gpar(col = coords$colour, fill = alpha(coords$fill, coords$alpha), \n",
            "  .     lwd = coords$size * .pt, lty = coords$linetype, linejoin = linejoin, \n",
            "  .     lineend = if (identical(linejoin, \"round\")) \"round\" else \"square\")\n",
            "38. validGP(list(...))\n",
            "39. numnotnull(\"fontsize\")\n",
            "40. alpha(coords$fill, coords$alpha)\n",
            "41. farver::decode_colour(colour, alpha = TRUE)\n",
            "42. decode_c(colour, alpha, colourspace_match(to), white, na_value)\n"
          ],
          "name": "stderr"
        },
        {
          "output_type": "display_data",
          "data": {
            "image/png": "[encoded data removed]",
            "text/plain": [
              "plot without title"
            ]
          },
          "metadata": {
            "tags": [],
            "image/png": {
              "width": 420,
              "height": 420
            }
          }
        }
      ]
    },
    {
      "cell_type": "code",
      "metadata": {
        "id": "3syYdoXAdhjl"
      },
      "source": [
        "獲獎者國家"
      ],
      "execution_count": null,
      "outputs": []
    },
    {
      "cell_type": "code",
      "metadata": {
        "id": "oyNyERq8d2G8",
        "outputId": "be4fda86-bb01-4d7b-fcca-e6f5f114ded3",
        "colab": {
          "base_uri": "https://localhost:8080/",
          "height": 94
        }
      },
      "source": [
        "nobel %>%\n",
        " dplyr::filter(birth_country ==\"United Stares of America\")%>%\n",
        " dplyr::select(full_name, prize_year, category)"
      ],
      "execution_count": 57,
      "outputs": [
        {
          "output_type": "display_data",
          "data": {
            "text/plain": [
              "     full_name prize_year category"
            ],
            "text/latex": "A data.frame: 0 × 3\n\\begin{tabular}{lll}\n full\\_name & prize\\_year & category\\\\\n <chr> & <int> & <chr>\\\\\n\\hline\n\\end{tabular}\n",
            "text/markdown": "\nA data.frame: 0 × 3\n\n| full_name &lt;chr&gt; | prize_year &lt;int&gt; | category &lt;chr&gt; |\n|---|---|---|\n\n",
            "text/html": [
              "<table class=\"dataframe\">\n",
              "<caption>A data.frame: 0 × 3</caption>\n",
              "<thead>\n",
              "\t<tr><th scope=col>full_name</th><th scope=col>prize_year</th><th scope=col>category</th></tr>\n",
              "\t<tr><th scope=col>&lt;chr&gt;</th><th scope=col>&lt;int&gt;</th><th scope=col>&lt;chr&gt;</th></tr>\n",
              "</thead>\n",
              "<tbody>\n",
              "</tbody>\n",
              "</table>\n"
            ]
          },
          "metadata": {
            "tags": []
          }
        }
      ]
    },
    {
      "cell_type": "markdown",
      "metadata": {
        "id": "yBU4WTxje9ii"
      },
      "source": [
        "資料清洗"
      ]
    },
    {
      "cell_type": "code",
      "metadata": {
        "id": "TEBr-vhBfCbC",
        "outputId": "9e3f297d-8bfc-49cf-adfd-69b049e1ee60",
        "colab": {
          "base_uri": "https://localhost:8080/",
          "height": 471
        }
      },
      "source": [
        "nobel_winners <- nobel %>%\n",
        " mutate_if (is.character,toloewer)%>%\n",
        " distinct_at(vars(full_name,prize_year,category), .keep_all=TRUE)%>%\n",
        " mutate(\n",
        "   decade =10 * (prize_year %/% 10),\n",
        "   prize_age=prize_year - year(birth_date)\n",
        " )\n",
        " nobel_winners"
      ],
      "execution_count": 56,
      "outputs": [
        {
          "output_type": "error",
          "ename": "ERROR",
          "evalue": "ignored",
          "traceback": [
            "Error in is_fun_list(.funs): object 'toloewer' not found\nTraceback:\n",
            "1. nobel %>% mutate_if(is.character, toloewer) %>% distinct_at(vars(full_name, \n .     prize_year, category), .keep_all = TRUE) %>% mutate(decade = 10 * \n .     (prize_year%/%10), prize_age = prize_year - year(birth_date))",
            "2. mutate(., decade = 10 * (prize_year%/%10), prize_age = prize_year - \n .     year(birth_date))",
            "3. distinct_at(., vars(full_name, prize_year, category), .keep_all = TRUE)",
            "4. manip_at(.tbl, .vars, .funs, enquo(.funs), caller_env(), .include_group_vars = TRUE, \n .     ..., .caller = \"distinct_at\")",
            "5. tbl_at_syms(.tbl, .vars, .include_group_vars = .include_group_vars)",
            "6. tbl_at_vars(tbl, vars, .include_group_vars = .include_group_vars)",
            "7. tbl_vars(tbl)",
            "8. new_sel_vars(tbl_vars_dispatch(x), group_vars(x))",
            "9. structure(vars, groups = group_vars, class = c(\"dplyr_sel_vars\", \n .     \"character\"))",
            "10. tbl_vars_dispatch(x)",
            "11. mutate_if(., is.character, toloewer)",
            "12. manip_if(.tbl, .predicate, .funs, enquo(.funs), caller_env(), \n  .     ..., .caller = \"mutate_if\")",
            "13. as_fun_list(.funs, .env, ..., .caller = .caller)",
            "14. is_fun_list(.funs)"
          ]
        }
      ]
    },
    {
      "cell_type": "code",
      "metadata": {
        "id": "zUEQEymrhmV7"
      },
      "source": [
        "得獎次數"
      ],
      "execution_count": null,
      "outputs": []
    },
    {
      "cell_type": "code",
      "metadata": {
        "id": "oRd0xWUXhtIw",
        "outputId": "a05d34d7-4ba7-4684-92b0-2505b203305b",
        "colab": {
          "base_uri": "https://localhost:8080/",
          "height": 151
        }
      },
      "source": [
        "nobel_winners %>% count(full_name, sort=T)"
      ],
      "execution_count": 38,
      "outputs": [
        {
          "output_type": "error",
          "ename": "ERROR",
          "evalue": "ignored",
          "traceback": [
            "Error in count(., full_name, sort = T): object 'nobel_winners' not found\nTraceback:\n",
            "1. nobel_winners %>% count(full_name, sort = T)",
            "2. count(., full_name, sort = T)"
          ]
        }
      ]
    },
    {
      "cell_type": "code",
      "metadata": {
        "id": "kw7htfbxiaaX",
        "outputId": "b171cde2-63d9-4eb2-aac2-ea6fd3833cc3",
        "colab": {
          "base_uri": "https://localhost:8080/",
          "height": 186
        }
      },
      "source": [
        "nobel_winners %>%\n",
        "count(prize_age) %>%\n",
        "ggplot(aes(x=prize_age, y=n))+\n",
        "geom_col()"
      ],
      "execution_count": 44,
      "outputs": [
        {
          "output_type": "error",
          "ename": "ERROR",
          "evalue": "ignored",
          "traceback": [
            "Error in count(., prize_age): object 'nobel_winners' not found\nTraceback:\n",
            "1. nobel_winners %>% count(prize_age) %>% ggplot(aes(x = prize_age, \n .     y = n))",
            "2. ggplot(., aes(x = prize_age, y = n))",
            "3. count(., prize_age)"
          ]
        }
      ]
    },
    {
      "cell_type": "code",
      "metadata": {
        "id": "-1FEGVEWjJV5",
        "outputId": "eddd5251-e278-4334-a2b7-2b3400fef577",
        "colab": {
          "base_uri": "https://localhost:8080/",
          "height": 204
        }
      },
      "source": [
        "nobel_winners %>%\n",
        " group_by(category) %>%\n",
        " summarise(mean_prize_age=mean(prize_age, na.rm = T))"
      ],
      "execution_count": 59,
      "outputs": [
        {
          "output_type": "error",
          "ename": "ERROR",
          "evalue": "ignored",
          "traceback": [
            "Error in group_by(., category): object 'nobel_winners' not found\nTraceback:\n",
            "1. nobel_winners %>% group_by(category) %>% summarise(mean_prize_age = mean(prize_age, \n .     na.rm = T))",
            "2. summarise(., mean_prize_age = mean(prize_age, na.rm = T))",
            "3. group_by(., category)"
          ]
        }
      ]
    },
    {
      "cell_type": "code",
      "metadata": {
        "id": "PnVv9xFBk1PA",
        "outputId": "099459c8-4db0-4c04-c927-43b0267d5522",
        "colab": {
          "base_uri": "https://localhost:8080/"
        }
      },
      "source": [
        "install.packages(\"ggridges\")"
      ],
      "execution_count": 50,
      "outputs": [
        {
          "output_type": "stream",
          "text": [
            "Installing package into ‘/usr/local/lib/R/site-library’\n",
            "(as ‘lib’ is unspecified)\n",
            "\n"
          ],
          "name": "stderr"
        }
      ]
    },
    {
      "cell_type": "code",
      "metadata": {
        "id": "OPVgoouSkA6H",
        "outputId": "f052cf45-0afa-47f0-c2ff-03bc14dcd4f4",
        "colab": {
          "base_uri": "https://localhost:8080/",
          "height": 168
        }
      },
      "source": [
        "library(ggridges)\n",
        "\n",
        "nobelwinners %>%\n",
        " ggplot(aes(\n",
        "   x=prize_age,\n",
        "   y=category,\n",
        "   fill=category\n",
        " ))+\n",
        " geom_density_ridges()"
      ],
      "execution_count": 58,
      "outputs": [
        {
          "output_type": "error",
          "ename": "ERROR",
          "evalue": "ignored",
          "traceback": [
            "Error in ggplot(., aes(x = prize_age, y = category, fill = category)): object 'nobelwinners' not found\nTraceback:\n",
            "1. nobelwinners %>% ggplot(aes(x = prize_age, y = category, fill = category))",
            "2. ggplot(., aes(x = prize_age, y = category, fill = category))"
          ]
        }
      ]
    }
  ]
}